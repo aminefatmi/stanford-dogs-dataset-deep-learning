{
 "cells": [
  {
   "cell_type": "markdown",
   "metadata": {},
   "source": [
    "# Fine-tuning on 120 breeds\n",
    "\n",
    "I will be fine-tuning the best model from previous notebook. \n",
    "* Data augmenation\n",
    "* Inception V3 model\n",
    "* Adam Optimizer\n",
    "* Categorical crossentropy loss\n",
    "* Global Average Pooling 2D\n",
    "* Unfreeze all base layers\n",
    "* Small learning rate alpha = 10-5\n"
   ]
  },
  {
   "cell_type": "markdown",
   "metadata": {
    "id": "Hn1aw5orEZi-"
   },
   "source": [
    "# Libraries"
   ]
  },
  {
   "cell_type": "code",
   "execution_count": null,
   "metadata": {
    "id": "LAArVPy9z8nq"
   },
   "outputs": [],
   "source": [
    "import numpy as np\n",
    "import pandas as pd\n",
    "import matplotlib.pyplot as plt\n",
    "import os\n",
    "\n",
    "import tensorflow as tf\n",
    "import keras\n",
    "from tensorflow.keras.layers import Input, Lambda, Dense, Flatten\n",
    "from tensorflow.keras.layers import Conv2D, MaxPool2D\n",
    "from tensorflow.keras.preprocessing import image\n",
    "from tensorflow.keras.preprocessing.image import ImageDataGenerator,load_img\n",
    "from tensorflow.keras.models import Sequential\n",
    "from tensorflow.keras.applications.inception_v3 import preprocess_input\n",
    "from keras.layers import Dropout\n",
    "from tensorflow import keras\n",
    "import cv2\n",
    "from glob import glob\n",
    "\n",
    "from keras.models import model_from_json"
   ]
  },
  {
   "cell_type": "markdown",
   "metadata": {
    "id": "OQyKDXot4uU8"
   },
   "source": [
    "# Adam - InceptionV3"
   ]
  },
  {
   "cell_type": "markdown",
   "metadata": {
    "id": "S6MqT83o4uVH"
   },
   "source": [
    "## Data preprocessing"
   ]
  },
  {
   "cell_type": "code",
   "execution_count": null,
   "metadata": {
    "id": "ZjSLyJa24uVJ"
   },
   "outputs": [],
   "source": [
    "train_datagen = ImageDataGenerator(rescale = 1./255,\n",
    "                                   rotation_range=40,\n",
    "                                   width_shift_range=0.2,\n",
    "                                   height_shift_range=0.2,\n",
    "                                   shear_range = 0.2,\n",
    "                                   zoom_range = 0.2,\n",
    "                                   horizontal_flip = True,\n",
    "                                   fill_mode='nearest'\n",
    "                                   )\n",
    " \n",
    "val_datagen = ImageDataGenerator(rescale = 1./255)\n",
    "test_datagen = ImageDataGenerator(rescale = 1./255)"
   ]
  },
  {
   "cell_type": "code",
   "execution_count": null,
   "metadata": {
    "colab": {
     "base_uri": "https://localhost:8080/"
    },
    "id": "9eoJyINv4uVL",
    "outputId": "e16b06e7-bce6-49b1-d5f7-f96e52def892"
   },
   "outputs": [
    {
     "name": "stdout",
     "output_type": "stream",
     "text": [
      "Found 16468 images belonging to 120 classes.\n"
     ]
    }
   ],
   "source": [
    "training_set = train_datagen.flow_from_directory('train',\n",
    "                                                 target_size = (299, 299),\n",
    "                                                 batch_size = 32,\n",
    "                                                 class_mode = 'categorical')"
   ]
  },
  {
   "cell_type": "code",
   "execution_count": null,
   "metadata": {
    "colab": {
     "base_uri": "https://localhost:8080/"
    },
    "id": "wcNvz5fk4uVN",
    "outputId": "97673cce-efb9-4264-b402-4eae93583f23"
   },
   "outputs": [
    {
     "name": "stdout",
     "output_type": "stream",
     "text": [
      "Found 2015 images belonging to 120 classes.\n"
     ]
    }
   ],
   "source": [
    "validation_set = val_datagen.flow_from_directory('val',\n",
    "                                                 target_size = (299, 299),\n",
    "                                                 batch_size = 32,\n",
    "                                                 class_mode = 'categorical')"
   ]
  },
  {
   "cell_type": "code",
   "execution_count": null,
   "metadata": {
    "colab": {
     "base_uri": "https://localhost:8080/"
    },
    "id": "LoJXM3B3-J0A",
    "outputId": "06b051a4-16af-4b78-c0ab-5083e710f5f4"
   },
   "outputs": [
    {
     "name": "stdout",
     "output_type": "stream",
     "text": [
      "Found 2159 images belonging to 120 classes.\n"
     ]
    }
   ],
   "source": [
    "test_set = test_datagen.flow_from_directory('test',\n",
    "                                                 target_size = (299, 299),\n",
    "                                                 batch_size = 32,\n",
    "                                                 class_mode = 'categorical',\n",
    "                                            shuffle=False)"
   ]
  },
  {
   "cell_type": "code",
   "execution_count": null,
   "metadata": {
    "id": "qU4lU46z4uVO"
   },
   "outputs": [],
   "source": [
    "# list(training_set.class_indices.keys())"
   ]
  },
  {
   "cell_type": "markdown",
   "metadata": {
    "id": "EmxCNYI-4uVQ"
   },
   "source": [
    "## model"
   ]
  },
  {
   "cell_type": "code",
   "execution_count": null,
   "metadata": {
    "id": "_degJcLU4uVR"
   },
   "outputs": [],
   "source": [
    "base_model = keras.applications.InceptionV3(\n",
    "    weights='imagenet',  # Load weights pre-trained on ImageNet.\n",
    "    input_shape=(299, 299, 3),\n",
    "    include_top=False)  # Do not include the ImageNet classifier at the top."
   ]
  },
  {
   "cell_type": "markdown",
   "metadata": {
    "id": "7PJWEv484uVR"
   },
   "source": [
    "UnFreeze the base model"
   ]
  },
  {
   "cell_type": "code",
   "execution_count": null,
   "metadata": {
    "id": "urexuESB4uVS"
   },
   "outputs": [],
   "source": [
    "base_model.trainable = True"
   ]
  },
  {
   "cell_type": "markdown",
   "metadata": {
    "id": "ZSjeBhV14uVS"
   },
   "source": [
    "Create new model on top"
   ]
  },
  {
   "cell_type": "code",
   "execution_count": null,
   "metadata": {
    "id": "sDORk_Q24uVT"
   },
   "outputs": [],
   "source": [
    "inputs = keras.Input(shape=(299, 299, 3))\n",
    "# We make sure that the base_model is running in inference mode here,\n",
    "# by passing `training=False`. This is important for fine-tuning, as you will\n",
    "# learn in a few paragraphs.\n",
    "x = tf.keras.applications.inception_v3.preprocess_input(inputs)\n",
    "x = base_model(inputs, training=False)\n",
    "# Convert features of shape `base_model.output_shape[1:]` to vectors\n",
    "x = keras.layers.GlobalAveragePooling2D()(x)\n",
    "x = keras.layers.Dense(128, activation='relu')(x)\n",
    "x = keras.layers.Dropout(0.5)(x)\n",
    "# A Dense classifier\n",
    "outputs = keras.layers.Dense(120, activation='softmax')(x)\n",
    "model = keras.Model(inputs, outputs)"
   ]
  },
  {
   "cell_type": "code",
   "execution_count": null,
   "metadata": {
    "colab": {
     "base_uri": "https://localhost:8080/"
    },
    "id": "8MBJ_5dm4uVT",
    "outputId": "f44d4f27-9777-43ff-b297-f28c62351627"
   },
   "outputs": [
    {
     "name": "stdout",
     "output_type": "stream",
     "text": [
      "Model: \"model_4\"\n",
      "_________________________________________________________________\n",
      "Layer (type)                 Output Shape              Param #   \n",
      "=================================================================\n",
      "input_8 (InputLayer)         [(None, 299, 299, 3)]     0         \n",
      "_________________________________________________________________\n",
      "inception_v3 (Functional)    (None, 8, 8, 2048)        21802784  \n",
      "_________________________________________________________________\n",
      "global_average_pooling2d_3 ( (None, 2048)              0         \n",
      "_________________________________________________________________\n",
      "dense_4 (Dense)              (None, 128)               262272    \n",
      "_________________________________________________________________\n",
      "dropout (Dropout)            (None, 128)               0         \n",
      "_________________________________________________________________\n",
      "dense_5 (Dense)              (None, 120)               15480     \n",
      "=================================================================\n",
      "Total params: 22,080,536\n",
      "Trainable params: 22,046,104\n",
      "Non-trainable params: 34,432\n",
      "_________________________________________________________________\n"
     ]
    }
   ],
   "source": [
    "model.summary()"
   ]
  },
  {
   "cell_type": "markdown",
   "metadata": {
    "id": "KSTVon2x4uVU"
   },
   "source": [
    "Train the model on new data"
   ]
  },
  {
   "cell_type": "code",
   "execution_count": null,
   "metadata": {
    "id": "ZVyktDdn4uVU"
   },
   "outputs": [],
   "source": [
    "model.compile(optimizer=keras.optimizers.Adam(1e-5),\n",
    "              loss='categorical_crossentropy',\n",
    "              metrics=['accuracy'])"
   ]
  },
  {
   "cell_type": "code",
   "execution_count": null,
   "metadata": {
    "colab": {
     "base_uri": "https://localhost:8080/"
    },
    "id": "MZkVvJtw4uVV",
    "outputId": "37cdbb45-e9a4-4670-c8a7-9aac74ac7f24"
   },
   "outputs": [
    {
     "name": "stdout",
     "output_type": "stream",
     "text": [
      "Epoch 1/100\n",
      "515/515 [==============================] - 6345s 12s/step - loss: 4.3791 - accuracy: 0.0781 - val_loss: 1.4287 - val_accuracy: 0.7042\n",
      "Epoch 2/100\n",
      "515/515 [==============================] - 435s 845ms/step - loss: 2.1773 - accuracy: 0.4822 - val_loss: 0.9073 - val_accuracy: 0.7811\n",
      "Epoch 3/100\n",
      "515/515 [==============================] - 438s 850ms/step - loss: 1.5788 - accuracy: 0.6135 - val_loss: 0.7773 - val_accuracy: 0.8020\n",
      "Epoch 4/100\n",
      "515/515 [==============================] - 442s 857ms/step - loss: 1.3337 - accuracy: 0.6687 - val_loss: 0.6898 - val_accuracy: 0.8179\n",
      "Epoch 5/100\n",
      "515/515 [==============================] - 436s 846ms/step - loss: 1.2055 - accuracy: 0.7012 - val_loss: 0.6448 - val_accuracy: 0.8253\n",
      "Epoch 6/100\n",
      "515/515 [==============================] - 436s 846ms/step - loss: 1.0632 - accuracy: 0.7336 - val_loss: 0.6167 - val_accuracy: 0.8308\n",
      "Epoch 7/100\n",
      "515/515 [==============================] - 436s 847ms/step - loss: 0.9408 - accuracy: 0.7587 - val_loss: 0.6237 - val_accuracy: 0.8342\n",
      "Epoch 8/100\n",
      "515/515 [==============================] - 437s 849ms/step - loss: 0.8772 - accuracy: 0.7828 - val_loss: 0.6323 - val_accuracy: 0.8203\n",
      "Epoch 9/100\n",
      "515/515 [==============================] - 437s 848ms/step - loss: 0.8409 - accuracy: 0.7883 - val_loss: 0.6011 - val_accuracy: 0.8323\n",
      "Epoch 10/100\n",
      "515/515 [==============================] - 436s 846ms/step - loss: 0.7976 - accuracy: 0.7939 - val_loss: 0.6015 - val_accuracy: 0.8323\n",
      "Epoch 11/100\n",
      "515/515 [==============================] - 436s 845ms/step - loss: 0.7117 - accuracy: 0.8145 - val_loss: 0.6168 - val_accuracy: 0.8457\n",
      "Epoch 12/100\n",
      "515/515 [==============================] - 437s 849ms/step - loss: 0.6782 - accuracy: 0.8227 - val_loss: 0.5926 - val_accuracy: 0.8452\n",
      "Epoch 13/100\n",
      "515/515 [==============================] - 437s 848ms/step - loss: 0.6533 - accuracy: 0.8250 - val_loss: 0.6241 - val_accuracy: 0.8387\n",
      "Epoch 14/100\n",
      "515/515 [==============================] - 437s 848ms/step - loss: 0.6110 - accuracy: 0.8383 - val_loss: 0.6115 - val_accuracy: 0.8412\n",
      "Epoch 15/100\n",
      "515/515 [==============================] - 436s 846ms/step - loss: 0.5824 - accuracy: 0.8442 - val_loss: 0.6464 - val_accuracy: 0.8407\n",
      "Epoch 16/100\n",
      "515/515 [==============================] - 436s 846ms/step - loss: 0.5332 - accuracy: 0.8527 - val_loss: 0.6372 - val_accuracy: 0.8412\n",
      "Epoch 17/100\n",
      "515/515 [==============================] - 436s 846ms/step - loss: 0.5261 - accuracy: 0.8534 - val_loss: 0.6244 - val_accuracy: 0.8412\n",
      "Epoch 18/100\n",
      "515/515 [==============================] - 436s 847ms/step - loss: 0.4933 - accuracy: 0.8643 - val_loss: 0.6794 - val_accuracy: 0.8367\n",
      "Epoch 19/100\n",
      "515/515 [==============================] - 436s 846ms/step - loss: 0.4751 - accuracy: 0.8676 - val_loss: 0.6085 - val_accuracy: 0.8402\n",
      "Epoch 20/100\n",
      "515/515 [==============================] - 436s 845ms/step - loss: 0.4436 - accuracy: 0.8783 - val_loss: 0.6126 - val_accuracy: 0.8417\n",
      "Epoch 21/100\n",
      "515/515 [==============================] - 436s 845ms/step - loss: 0.4312 - accuracy: 0.8786 - val_loss: 0.6620 - val_accuracy: 0.8427\n",
      "Epoch 22/100\n",
      "515/515 [==============================] - 437s 849ms/step - loss: 0.4122 - accuracy: 0.8824 - val_loss: 0.7347 - val_accuracy: 0.8273\n",
      "Epoch 23/100\n",
      "515/515 [==============================] - 436s 846ms/step - loss: 0.3855 - accuracy: 0.8917 - val_loss: 0.6669 - val_accuracy: 0.8377\n",
      "Epoch 24/100\n",
      "515/515 [==============================] - 434s 842ms/step - loss: 0.3557 - accuracy: 0.8928 - val_loss: 0.6361 - val_accuracy: 0.8402\n",
      "Epoch 25/100\n",
      "515/515 [==============================] - 433s 841ms/step - loss: 0.3570 - accuracy: 0.8987 - val_loss: 0.6696 - val_accuracy: 0.8402\n",
      "Epoch 26/100\n",
      "515/515 [==============================] - 433s 841ms/step - loss: 0.3406 - accuracy: 0.9032 - val_loss: 0.7167 - val_accuracy: 0.8402\n",
      "Epoch 27/100\n",
      "515/515 [==============================] - 434s 843ms/step - loss: 0.3280 - accuracy: 0.9027 - val_loss: 0.7650 - val_accuracy: 0.8437\n"
     ]
    }
   ],
   "source": [
    "from keras import callbacks\n",
    "\n",
    "checkpoint_filepath = '/checkpoint'\n",
    "model_checkpoint_callback = tf.keras.callbacks.ModelCheckpoint(\n",
    "    filepath=checkpoint_filepath,\n",
    "    save_weights_only=True,\n",
    "    monitor='val_accuracy',\n",
    "    mode='max',\n",
    "    save_best_only=True)\n",
    "\n",
    "earlystopping = callbacks.EarlyStopping(monitor =\"val_loss\",\n",
    "                                        mode =\"min\", patience = 15,\n",
    "                                        restore_best_weights = True\n",
    "                                        )\n",
    "\n",
    "model_fit = model.fit(training_set, epochs=100,\n",
    "                      callbacks=[earlystopping, model_checkpoint_callback],\n",
    "                      validation_data=validation_set)"
   ]
  },
  {
   "cell_type": "markdown",
   "metadata": {
    "id": "YDdBs61K4uVV"
   },
   "source": [
    "## evaluation"
   ]
  },
  {
   "cell_type": "markdown",
   "metadata": {
    "id": "Xn2WdVwe4uVV"
   },
   "source": [
    "Accuracy vs Epochs"
   ]
  },
  {
   "cell_type": "code",
   "execution_count": null,
   "metadata": {
    "colab": {
     "base_uri": "https://localhost:8080/",
     "height": 406
    },
    "id": "Kx_Pnt5j4uVW",
    "outputId": "e09ef745-b418-49de-8870-6e44e8f8ed0f"
   },
   "outputs": [
    {
     "data": {
      "text/plain": [
       "<matplotlib.legend.Legend at 0x7f632a2d7400>"
      ]
     },
     "execution_count": 39,
     "metadata": {
      "tags": []
     },
     "output_type": "execute_result"
    },
    {
     "data": {
      "image/png": "[encoded data removed]",
      "text/plain": [
       "<Figure size 1152x432 with 2 Axes>"
      ]
     },
     "metadata": {
      "needs_background": "light",
      "tags": []
     },
     "output_type": "display_data"
    }
   ],
   "source": [
    "fig, ax = plt.subplots(nrows=1, ncols=2, figsize=(16, 6))\n",
    "\n",
    "ax[0].plot(model_fit.history['accuracy'], label='accuracy')\n",
    "ax[0].plot(model_fit.history['val_accuracy'], label='val_accuracy')\n",
    "ax[0].set_xlabel('Epoch')\n",
    "ax[0].set_ylabel('Accuracy')\n",
    "ax[0].legend()\n",
    "\n",
    "ax[1].plot(model_fit.history['loss'], label='loss')\n",
    "ax[1].plot(model_fit.history['val_loss'], label='val_loss')\n",
    "ax[1].set_xlabel('Epoch')\n",
    "ax[1].set_ylabel('Loss')\n",
    "ax[1].legend()"
   ]
  },
  {
   "cell_type": "code",
   "execution_count": null,
   "metadata": {
    "colab": {
     "base_uri": "https://localhost:8080/"
    },
    "id": "w-pdpp3g4uVX",
    "outputId": "718ccb15-f2d1-4640-95cc-60f508932d9e"
   },
   "outputs": [
    {
     "name": "stdout",
     "output_type": "stream",
     "text": [
      "68/68 [==============================] - 785s 12s/step - loss: 0.6361 - accuracy: 0.8342\n"
     ]
    },
    {
     "data": {
      "text/plain": [
       "[0.6361448764801025, 0.8341825008392334]"
      ]
     },
     "execution_count": 40,
     "metadata": {
      "tags": []
     },
     "output_type": "execute_result"
    }
   ],
   "source": [
    "prediction = model.evaluate(test_set)\n",
    "prediction"
   ]
  },
  {
   "cell_type": "code",
   "execution_count": null,
   "metadata": {
    "id": "AoASuxEO4uVX"
   },
   "outputs": [],
   "source": [
    "predicted_probabilities = model.predict(test_set)"
   ]
  },
  {
   "cell_type": "code",
   "execution_count": null,
   "metadata": {
    "id": "3-r_BAoO4uVY"
   },
   "outputs": [],
   "source": [
    "l=[]\n",
    "for proba in predicted_probabilities:\n",
    "  l.append(np.argmax(proba))"
   ]
  },
  {
   "cell_type": "code",
   "execution_count": null,
   "metadata": {
    "colab": {
     "base_uri": "https://localhost:8080/"
    },
    "id": "xlgGFC1b4uVY",
    "outputId": "889223ff-50f3-435a-9a59-5e64d248229a"
   },
   "outputs": [
    {
     "data": {
      "text/plain": [
       "(2159,)"
      ]
     },
     "execution_count": 43,
     "metadata": {
      "tags": []
     },
     "output_type": "execute_result"
    }
   ],
   "source": [
    "predicted_classes = np.array(l)\n",
    "predicted_classes.shape"
   ]
  },
  {
   "cell_type": "code",
   "execution_count": null,
   "metadata": {
    "colab": {
     "base_uri": "https://localhost:8080/"
    },
    "id": "Mz4mH7W14uVY",
    "outputId": "621c8d98-9f87-45a7-b71b-ca58516a43d4"
   },
   "outputs": [
    {
     "data": {
      "text/plain": [
       "(2159,)"
      ]
     },
     "execution_count": 44,
     "metadata": {
      "tags": []
     },
     "output_type": "execute_result"
    }
   ],
   "source": [
    "test_set.classes.shape"
   ]
  },
  {
   "cell_type": "code",
   "execution_count": null,
   "metadata": {
    "colab": {
     "base_uri": "https://localhost:8080/"
    },
    "id": "d_2GHSE74uVZ",
    "outputId": "3aa657fa-846b-4652-b25c-566c5e125c7b"
   },
   "outputs": [
    {
     "data": {
      "text/plain": [
       "0.8341824918943955"
      ]
     },
     "execution_count": 45,
     "metadata": {
      "tags": []
     },
     "output_type": "execute_result"
    }
   ],
   "source": [
    "from sklearn.metrics import accuracy_score, classification_report, confusion_matrix\n",
    "accuracy_score(predicted_classes, test_set.classes)"
   ]
  },
  {
   "cell_type": "code",
   "execution_count": null,
   "metadata": {
    "colab": {
     "base_uri": "https://localhost:8080/",
     "height": 142
    },
    "id": "j8eN7eoK4uVZ",
    "outputId": "e3f32761-ac5e-4cb9-ee1a-0dac0f2c1315"
   },
   "outputs": [
    {
     "data": {
      "application/vnd.google.colaboratory.intrinsic+json": {
       "type": "string"
      },
      "text/plain": [
       "'              precision    recall  f1-score   support\\n\\n           0       0.92      0.92      0.92        25\\n           1       1.00      1.00      1.00        18\\n           2       0.95      0.95      0.95        21\\n           3       0.65      0.55      0.59        20\\n           4       0.62      0.91      0.74        11\\n           5       0.90      0.73      0.81        26\\n           6       1.00      0.95      0.97        20\\n           7       0.96      0.85      0.90        26\\n           8       0.85      0.89      0.87        19\\n           9       0.80      0.60      0.69        20\\n          10       1.00      0.82      0.90        22\\n          11       1.00      0.95      0.97        20\\n          12       0.80      0.92      0.86        13\\n          13       0.88      0.88      0.88        16\\n          14       0.56      1.00      0.72         9\\n          15       0.62      1.00      0.77        10\\n          16       0.89      0.76      0.82        21\\n          17       0.88      0.82      0.85        17\\n          18       1.00      0.90      0.95        20\\n          19       0.87      0.93      0.90        14\\n          20       0.82      0.56      0.67        25\\n          21       0.88      0.79      0.83        19\\n          22       1.00      0.77      0.87        22\\n          23       0.90      0.90      0.90        21\\n          24       0.13      0.25      0.17         8\\n          25       0.94      0.89      0.91        18\\n          26       0.88      0.88      0.88        16\\n          27       0.81      0.93      0.87        14\\n          28       1.00      0.85      0.92        20\\n          29       0.73      0.70      0.71        23\\n          30       0.83      0.88      0.86        17\\n          31       0.95      0.90      0.93        21\\n          32       1.00      0.89      0.94        18\\n          33       0.89      0.76      0.82        21\\n          34       0.87      0.76      0.81        17\\n          35       0.83      0.68      0.75        28\\n          36       0.95      0.69      0.80        26\\n          37       0.95      0.95      0.95        19\\n          38       0.95      0.86      0.90        21\\n          39       0.78      0.82      0.80        17\\n          40       0.67      1.00      0.80        14\\n          41       0.95      0.95      0.95        21\\n          42       0.65      0.81      0.72        16\\n          43       0.92      0.92      0.92        26\\n          44       0.94      0.94      0.94        16\\n          45       0.90      0.78      0.84        23\\n          46       0.72      0.65      0.68        20\\n          47       0.90      0.95      0.93        20\\n          48       0.68      0.76      0.72        17\\n          49       0.94      0.85      0.89        20\\n          50       0.81      0.87      0.84        15\\n          51       1.00      0.79      0.88        24\\n          52       0.87      1.00      0.93        20\\n          53       0.72      0.81      0.76        16\\n          54       1.00      0.89      0.94        18\\n          55       0.94      1.00      0.97        16\\n          56       0.95      1.00      0.97        19\\n          57       0.87      1.00      0.93        20\\n          58       0.88      0.94      0.91        16\\n          59       0.75      0.82      0.78        22\\n          60       0.95      0.91      0.93        22\\n          61       0.76      0.68      0.72        19\\n          62       0.36      0.42      0.39        19\\n          63       0.65      0.65      0.65        20\\n          64       0.56      0.56      0.56        16\\n          65       0.75      0.92      0.83        13\\n          66       0.81      0.87      0.84        15\\n          67       0.82      0.69      0.75        26\\n          68       0.41      0.47      0.44        19\\n          69       0.56      0.82      0.67        11\\n          70       0.88      0.93      0.90        15\\n          71       1.00      0.71      0.83        21\\n          72       0.94      0.94      0.94        18\\n          73       0.53      0.90      0.67        10\\n          74       0.87      1.00      0.93        13\\n          75       0.82      0.95      0.88        19\\n          76       0.83      1.00      0.91        15\\n          77       0.80      0.84      0.82        19\\n          78       0.80      0.89      0.84        18\\n          79       0.94      0.81      0.87        21\\n          80       0.75      0.92      0.83        13\\n          81       0.62      1.00      0.77        10\\n          82       1.00      0.89      0.94        18\\n          83       0.94      0.89      0.91        18\\n          84       0.86      0.86      0.86        21\\n          85       1.00      1.00      1.00        21\\n          86       1.00      0.83      0.91        18\\n          87       0.88      0.88      0.88        16\\n          88       1.00      0.81      0.89        21\\n          89       0.94      0.89      0.91        18\\n          90       0.44      0.50      0.47        14\\n          91       1.00      1.00      1.00        15\\n          92       0.82      0.82      0.82        17\\n          93       0.88      0.88      0.88        17\\n          94       0.87      0.87      0.87        15\\n          95       0.87      1.00      0.93        13\\n          96       0.76      0.76      0.76        17\\n          97       0.62      1.00      0.77        10\\n          98       1.00      1.00      1.00        17\\n          99       0.94      0.75      0.83        20\\n         100       0.94      0.94      0.94        16\\n         101       0.73      0.73      0.73        15\\n         102       0.89      0.81      0.85        21\\n         103       1.00      0.94      0.97        16\\n         104       0.95      0.82      0.88        22\\n         105       0.44      0.64      0.52        11\\n         106       0.94      0.71      0.81        21\\n         107       0.88      0.93      0.90        15\\n         108       0.95      0.95      0.95        21\\n         109       0.90      1.00      0.95        18\\n         110       0.81      0.81      0.81        16\\n         111       0.75      0.86      0.80        14\\n         112       0.89      0.81      0.85        21\\n         113       0.71      0.86      0.77        14\\n         114       0.56      0.75      0.64        12\\n         115       0.94      0.67      0.78        24\\n         116       0.75      0.57      0.65        21\\n         117       0.72      1.00      0.84        13\\n         118       0.88      0.78      0.82        18\\n         119       0.70      1.00      0.82        14\\n\\n    accuracy                           0.83      2159\\n   macro avg       0.83      0.84      0.83      2159\\nweighted avg       0.85      0.83      0.84      2159\\n'"
      ]
     },
     "execution_count": 46,
     "metadata": {
      "tags": []
     },
     "output_type": "execute_result"
    }
   ],
   "source": [
    "classification_report(predicted_classes, test_set.classes)"
   ]
  },
  {
   "cell_type": "code",
   "execution_count": null,
   "metadata": {
    "colab": {
     "base_uri": "https://localhost:8080/",
     "height": 490
    },
    "id": "T3-GNLZ9EBtC",
    "outputId": "d11be984-9b7e-4b7a-e054-a12a22f62df2"
   },
   "outputs": [
    {
     "data": {
      "text/plain": [
       "<matplotlib.axes._subplots.AxesSubplot at 0x7f612d19c400>"
      ]
     },
     "execution_count": 52,
     "metadata": {
      "tags": []
     },
     "output_type": "execute_result"
    },
    {
     "data": {
      "image/png": "[encoded data removed]",
      "text/plain": [
       "<Figure size 720x576 with 2 Axes>"
      ]
     },
     "metadata": {
      "needs_background": "light",
      "tags": []
     },
     "output_type": "display_data"
    }
   ],
   "source": [
    "import seaborn as sns\n",
    "plt.figure(figsize=(10,8))\n",
    "plt.axis('off')\n",
    "confusion = confusion_matrix(predicted_classes, test_set.classes)\n",
    "sns.heatmap(confusion)"
   ]
  },
  {
   "cell_type": "markdown",
   "metadata": {
    "id": "2Uk8tOj14uVe"
   },
   "source": [
    "## save model"
   ]
  },
  {
   "cell_type": "code",
   "execution_count": null,
   "metadata": {
    "colab": {
     "base_uri": "https://localhost:8080/"
    },
    "id": "Zx8kHM3Y4uVe",
    "outputId": "0f880414-1296-4252-9eb6-d2615396ea2b"
   },
   "outputs": [
    {
     "name": "stdout",
     "output_type": "stream",
     "text": [
      "Saved model to disk\n"
     ]
    }
   ],
   "source": [
    "# # serialize model to JSON\n",
    "# inceptionV3_120_breeds_best_json = model.to_json()\n",
    "# with open(\"inceptionV3_120_breeds_best.json\", \"w\") as json_file:\n",
    "#     json_file.write(inceptionV3_120_breeds_best_json)\n",
    "# # serialize weights to HDF5\n",
    "# model.save_weights(\"inceptionV3_120_breeds_best.h5\")\n",
    "# print(\"Saved model to disk\")"
   ]
  },
  {
   "cell_type": "code",
   "execution_count": null,
   "metadata": {
    "colab": {
     "base_uri": "https://localhost:8080/"
    },
    "id": "LlROxIJr4uVe",
    "outputId": "60744688-b9e6-4c27-d71d-e9a08967aa52"
   },
   "outputs": [
    {
     "name": "stdout",
     "output_type": "stream",
     "text": [
      "Loaded model from disk\n"
     ]
    }
   ],
   "source": [
    "# load json and create model\n",
    "json_file = open('inceptionV3_120_breeds_best.json', 'r')\n",
    "loaded_model_json = json_file.read()\n",
    "json_file.close()\n",
    "loaded_model = model_from_json(loaded_model_json)\n",
    "# load weights into new model\n",
    "loaded_model.load_weights(\"inceptionV3_120_breeds_best.h5\")\n",
    "print(\"Loaded model from disk\")"
   ]
  },
  {
   "cell_type": "markdown",
   "metadata": {
    "id": "DuoqUiHdhlFI"
   },
   "source": [
    "## classification report"
   ]
  },
  {
   "cell_type": "code",
   "execution_count": null,
   "metadata": {
    "id": "qJVhcnqH4uVe"
   },
   "outputs": [],
   "source": [
    "loaded_model.compile(optimizer=keras.optimizers.Adam(1e-5),\n",
    "              loss='categorical_crossentropy',\n",
    "              metrics=['accuracy'])"
   ]
  },
  {
   "cell_type": "code",
   "execution_count": null,
   "metadata": {
    "id": "BURx3hF34uVf"
   },
   "outputs": [],
   "source": [
    "prediction = loaded_model.evaluate(test_set)\n",
    "prediction"
   ]
  },
  {
   "cell_type": "code",
   "execution_count": null,
   "metadata": {
    "id": "LR9-8UOOG4HE"
   },
   "outputs": [],
   "source": [
    "predicted_probabilities = loaded_model.predict(test_set)"
   ]
  },
  {
   "cell_type": "code",
   "execution_count": null,
   "metadata": {
    "id": "OixGfBQgG2IB"
   },
   "outputs": [],
   "source": [
    "l=[]\n",
    "for proba in predicted_probabilities:\n",
    "  l.append(np.argmax(proba))"
   ]
  },
  {
   "cell_type": "code",
   "execution_count": null,
   "metadata": {
    "colab": {
     "base_uri": "https://localhost:8080/"
    },
    "id": "LnLMqdEzG2IQ",
    "outputId": "18704702-ac3d-4331-8090-b5606a2a72c3"
   },
   "outputs": [
    {
     "data": {
      "text/plain": [
       "(2159,)"
      ]
     },
     "execution_count": 21,
     "metadata": {
      "tags": []
     },
     "output_type": "execute_result"
    }
   ],
   "source": [
    "predicted_classes = np.array(l)\n",
    "predicted_classes.shape"
   ]
  },
  {
   "cell_type": "code",
   "execution_count": null,
   "metadata": {
    "colab": {
     "base_uri": "https://localhost:8080/"
    },
    "id": "x7sf_49cG2IR",
    "outputId": "13881afb-0af3-4e0c-8cad-6ec0a727134a"
   },
   "outputs": [
    {
     "data": {
      "text/plain": [
       "(2159,)"
      ]
     },
     "execution_count": 22,
     "metadata": {
      "tags": []
     },
     "output_type": "execute_result"
    }
   ],
   "source": [
    "test_set.classes.shape"
   ]
  },
  {
   "cell_type": "code",
   "execution_count": null,
   "metadata": {
    "colab": {
     "base_uri": "https://localhost:8080/"
    },
    "id": "HFaEqLVCG2IS",
    "outputId": "19537e2d-2a3f-4291-b1ae-28814b7a9818"
   },
   "outputs": [
    {
     "data": {
      "text/plain": [
       "0.8341824918943955"
      ]
     },
     "execution_count": 23,
     "metadata": {
      "tags": []
     },
     "output_type": "execute_result"
    }
   ],
   "source": [
    "from sklearn.metrics import accuracy_score, classification_report, confusion_matrix\n",
    "accuracy_score(predicted_classes, test_set.classes)"
   ]
  },
  {
   "cell_type": "code",
   "execution_count": null,
   "metadata": {
    "id": "tC9mPJu_G2IS"
   },
   "outputs": [],
   "source": [
    "report = classification_report(predicted_classes, test_set.classes, output_dict=True)"
   ]
  },
  {
   "cell_type": "code",
   "execution_count": null,
   "metadata": {
    "id": "uBzz1oDLHEMR"
   },
   "outputs": [],
   "source": [
    "df = pd.DataFrame(report).transpose()"
   ]
  },
  {
   "cell_type": "code",
   "execution_count": null,
   "metadata": {
    "colab": {
     "base_uri": "https://localhost:8080/",
     "height": 399
    },
    "id": "ZEZFOwOqHLOm",
    "outputId": "dc8d72aa-2c41-45f3-85b1-ae10ab905d27"
   },
   "outputs": [
    {
     "data": {
      "text/html": [
       "<div>\n",
       "<style scoped>\n",
       "    .dataframe tbody tr th:only-of-type {\n",
       "        vertical-align: middle;\n",
       "    }\n",
       "\n",
       "    .dataframe tbody tr th {\n",
       "        vertical-align: top;\n",
       "    }\n",
       "\n",
       "    .dataframe thead th {\n",
       "        text-align: right;\n",
       "    }\n",
       "</style>\n",
       "<table border=\"1\" class=\"dataframe\">\n",
       "  <thead>\n",
       "    <tr style=\"text-align: right;\">\n",
       "      <th></th>\n",
       "      <th>precision</th>\n",
       "      <th>recall</th>\n",
       "      <th>f1-score</th>\n",
       "      <th>support</th>\n",
       "    </tr>\n",
       "  </thead>\n",
       "  <tbody>\n",
       "    <tr>\n",
       "      <th>0</th>\n",
       "      <td>0.920000</td>\n",
       "      <td>0.920000</td>\n",
       "      <td>0.920000</td>\n",
       "      <td>25.000000</td>\n",
       "    </tr>\n",
       "    <tr>\n",
       "      <th>1</th>\n",
       "      <td>1.000000</td>\n",
       "      <td>1.000000</td>\n",
       "      <td>1.000000</td>\n",
       "      <td>18.000000</td>\n",
       "    </tr>\n",
       "    <tr>\n",
       "      <th>2</th>\n",
       "      <td>0.952381</td>\n",
       "      <td>0.952381</td>\n",
       "      <td>0.952381</td>\n",
       "      <td>21.000000</td>\n",
       "    </tr>\n",
       "    <tr>\n",
       "      <th>3</th>\n",
       "      <td>0.647059</td>\n",
       "      <td>0.550000</td>\n",
       "      <td>0.594595</td>\n",
       "      <td>20.000000</td>\n",
       "    </tr>\n",
       "    <tr>\n",
       "      <th>4</th>\n",
       "      <td>0.625000</td>\n",
       "      <td>0.909091</td>\n",
       "      <td>0.740741</td>\n",
       "      <td>11.000000</td>\n",
       "    </tr>\n",
       "    <tr>\n",
       "      <th>...</th>\n",
       "      <td>...</td>\n",
       "      <td>...</td>\n",
       "      <td>...</td>\n",
       "      <td>...</td>\n",
       "    </tr>\n",
       "    <tr>\n",
       "      <th>118</th>\n",
       "      <td>0.875000</td>\n",
       "      <td>0.777778</td>\n",
       "      <td>0.823529</td>\n",
       "      <td>18.000000</td>\n",
       "    </tr>\n",
       "    <tr>\n",
       "      <th>119</th>\n",
       "      <td>0.700000</td>\n",
       "      <td>1.000000</td>\n",
       "      <td>0.823529</td>\n",
       "      <td>14.000000</td>\n",
       "    </tr>\n",
       "    <tr>\n",
       "      <th>accuracy</th>\n",
       "      <td>0.834182</td>\n",
       "      <td>0.834182</td>\n",
       "      <td>0.834182</td>\n",
       "      <td>0.834182</td>\n",
       "    </tr>\n",
       "    <tr>\n",
       "      <th>macro avg</th>\n",
       "      <td>0.832466</td>\n",
       "      <td>0.840796</td>\n",
       "      <td>0.829772</td>\n",
       "      <td>2159.000000</td>\n",
       "    </tr>\n",
       "    <tr>\n",
       "      <th>weighted avg</th>\n",
       "      <td>0.851323</td>\n",
       "      <td>0.834182</td>\n",
       "      <td>0.836857</td>\n",
       "      <td>2159.000000</td>\n",
       "    </tr>\n",
       "  </tbody>\n",
       "</table>\n",
       "<p>123 rows × 4 columns</p>\n",
       "</div>"
      ],
      "text/plain": [
       "              precision    recall  f1-score      support\n",
       "0              0.920000  0.920000  0.920000    25.000000\n",
       "1              1.000000  1.000000  1.000000    18.000000\n",
       "2              0.952381  0.952381  0.952381    21.000000\n",
       "3              0.647059  0.550000  0.594595    20.000000\n",
       "4              0.625000  0.909091  0.740741    11.000000\n",
       "...                 ...       ...       ...          ...\n",
       "118            0.875000  0.777778  0.823529    18.000000\n",
       "119            0.700000  1.000000  0.823529    14.000000\n",
       "accuracy       0.834182  0.834182  0.834182     0.834182\n",
       "macro avg      0.832466  0.840796  0.829772  2159.000000\n",
       "weighted avg   0.851323  0.834182  0.836857  2159.000000\n",
       "\n",
       "[123 rows x 4 columns]"
      ]
     },
     "execution_count": 26,
     "metadata": {
      "tags": []
     },
     "output_type": "execute_result"
    }
   ],
   "source": [
    "df"
   ]
  },
  {
   "cell_type": "code",
   "execution_count": null,
   "metadata": {
    "id": "vL1H9tjhHXWr"
   },
   "outputs": [],
   "source": [
    "df_120 = df.iloc[:120]"
   ]
  },
  {
   "cell_type": "code",
   "execution_count": null,
   "metadata": {
    "colab": {
     "base_uri": "https://localhost:8080/"
    },
    "id": "441GVG9uIjVx",
    "outputId": "28a36e54-9142-42e9-b6a3-488e6ee4f530"
   },
   "outputs": [
    {
     "name": "stderr",
     "output_type": "stream",
     "text": [
      "/usr/local/lib/python3.6/dist-packages/ipykernel_launcher.py:1: SettingWithCopyWarning: \n",
      "A value is trying to be set on a copy of a slice from a DataFrame.\n",
      "Try using .loc[row_indexer,col_indexer] = value instead\n",
      "\n",
      "See the caveats in the documentation: https://pandas.pydata.org/pandas-docs/stable/user_guide/indexing.html#returning-a-view-versus-a-copy\n",
      "  \"\"\"Entry point for launching an IPython kernel.\n"
     ]
    }
   ],
   "source": [
    "df_120['breeds'] = test_set.class_indices.keys()"
   ]
  },
  {
   "cell_type": "code",
   "execution_count": null,
   "metadata": {
    "colab": {
     "base_uri": "https://localhost:8080/",
     "height": 399
    },
    "id": "yW4RDP_Andbq",
    "outputId": "3bcfc820-a74f-43f5-fc1b-42a546d34807"
   },
   "outputs": [
    {
     "data": {
      "text/html": [
       "<div>\n",
       "<style scoped>\n",
       "    .dataframe tbody tr th:only-of-type {\n",
       "        vertical-align: middle;\n",
       "    }\n",
       "\n",
       "    .dataframe tbody tr th {\n",
       "        vertical-align: top;\n",
       "    }\n",
       "\n",
       "    .dataframe thead th {\n",
       "        text-align: right;\n",
       "    }\n",
       "</style>\n",
       "<table border=\"1\" class=\"dataframe\">\n",
       "  <thead>\n",
       "    <tr style=\"text-align: right;\">\n",
       "      <th></th>\n",
       "      <th>precision</th>\n",
       "      <th>recall</th>\n",
       "      <th>f1-score</th>\n",
       "      <th>support</th>\n",
       "      <th>breeds</th>\n",
       "    </tr>\n",
       "  </thead>\n",
       "  <tbody>\n",
       "    <tr>\n",
       "      <th>0</th>\n",
       "      <td>0.920000</td>\n",
       "      <td>0.920000</td>\n",
       "      <td>0.920000</td>\n",
       "      <td>25.0</td>\n",
       "      <td>Afghan_hound</td>\n",
       "    </tr>\n",
       "    <tr>\n",
       "      <th>1</th>\n",
       "      <td>1.000000</td>\n",
       "      <td>1.000000</td>\n",
       "      <td>1.000000</td>\n",
       "      <td>18.0</td>\n",
       "      <td>African_hunting_dog</td>\n",
       "    </tr>\n",
       "    <tr>\n",
       "      <th>2</th>\n",
       "      <td>0.952381</td>\n",
       "      <td>0.952381</td>\n",
       "      <td>0.952381</td>\n",
       "      <td>21.0</td>\n",
       "      <td>Airedale</td>\n",
       "    </tr>\n",
       "    <tr>\n",
       "      <th>3</th>\n",
       "      <td>0.647059</td>\n",
       "      <td>0.550000</td>\n",
       "      <td>0.594595</td>\n",
       "      <td>20.0</td>\n",
       "      <td>American_Staffordshire_terrier</td>\n",
       "    </tr>\n",
       "    <tr>\n",
       "      <th>4</th>\n",
       "      <td>0.625000</td>\n",
       "      <td>0.909091</td>\n",
       "      <td>0.740741</td>\n",
       "      <td>11.0</td>\n",
       "      <td>Appenzeller</td>\n",
       "    </tr>\n",
       "    <tr>\n",
       "      <th>...</th>\n",
       "      <td>...</td>\n",
       "      <td>...</td>\n",
       "      <td>...</td>\n",
       "      <td>...</td>\n",
       "      <td>...</td>\n",
       "    </tr>\n",
       "    <tr>\n",
       "      <th>115</th>\n",
       "      <td>0.941176</td>\n",
       "      <td>0.666667</td>\n",
       "      <td>0.780488</td>\n",
       "      <td>24.0</td>\n",
       "      <td>tan_coonhound</td>\n",
       "    </tr>\n",
       "    <tr>\n",
       "      <th>116</th>\n",
       "      <td>0.750000</td>\n",
       "      <td>0.571429</td>\n",
       "      <td>0.648649</td>\n",
       "      <td>21.0</td>\n",
       "      <td>toy_poodle</td>\n",
       "    </tr>\n",
       "    <tr>\n",
       "      <th>117</th>\n",
       "      <td>0.722222</td>\n",
       "      <td>1.000000</td>\n",
       "      <td>0.838710</td>\n",
       "      <td>13.0</td>\n",
       "      <td>toy_terrier</td>\n",
       "    </tr>\n",
       "    <tr>\n",
       "      <th>118</th>\n",
       "      <td>0.875000</td>\n",
       "      <td>0.777778</td>\n",
       "      <td>0.823529</td>\n",
       "      <td>18.0</td>\n",
       "      <td>vizsla</td>\n",
       "    </tr>\n",
       "    <tr>\n",
       "      <th>119</th>\n",
       "      <td>0.700000</td>\n",
       "      <td>1.000000</td>\n",
       "      <td>0.823529</td>\n",
       "      <td>14.0</td>\n",
       "      <td>whippet</td>\n",
       "    </tr>\n",
       "  </tbody>\n",
       "</table>\n",
       "<p>120 rows × 5 columns</p>\n",
       "</div>"
      ],
      "text/plain": [
       "     precision    recall  f1-score  support                          breeds\n",
       "0     0.920000  0.920000  0.920000     25.0                    Afghan_hound\n",
       "1     1.000000  1.000000  1.000000     18.0             African_hunting_dog\n",
       "2     0.952381  0.952381  0.952381     21.0                        Airedale\n",
       "3     0.647059  0.550000  0.594595     20.0  American_Staffordshire_terrier\n",
       "4     0.625000  0.909091  0.740741     11.0                     Appenzeller\n",
       "..         ...       ...       ...      ...                             ...\n",
       "115   0.941176  0.666667  0.780488     24.0                   tan_coonhound\n",
       "116   0.750000  0.571429  0.648649     21.0                      toy_poodle\n",
       "117   0.722222  1.000000  0.838710     13.0                     toy_terrier\n",
       "118   0.875000  0.777778  0.823529     18.0                          vizsla\n",
       "119   0.700000  1.000000  0.823529     14.0                         whippet\n",
       "\n",
       "[120 rows x 5 columns]"
      ]
     },
     "execution_count": 32,
     "metadata": {
      "tags": []
     },
     "output_type": "execute_result"
    }
   ],
   "source": [
    "df_120"
   ]
  },
  {
   "cell_type": "code",
   "execution_count": null,
   "metadata": {
    "colab": {
     "base_uri": "https://localhost:8080/",
     "height": 282
    },
    "id": "iI5Sl0-GHoNQ",
    "outputId": "fd572993-9f42-4bbe-f8ce-efabc0b567dd"
   },
   "outputs": [
    {
     "data": {
      "text/html": [
       "<div>\n",
       "<style scoped>\n",
       "    .dataframe tbody tr th:only-of-type {\n",
       "        vertical-align: middle;\n",
       "    }\n",
       "\n",
       "    .dataframe tbody tr th {\n",
       "        vertical-align: top;\n",
       "    }\n",
       "\n",
       "    .dataframe thead th {\n",
       "        text-align: right;\n",
       "    }\n",
       "</style>\n",
       "<table border=\"1\" class=\"dataframe\">\n",
       "  <thead>\n",
       "    <tr style=\"text-align: right;\">\n",
       "      <th></th>\n",
       "      <th>precision</th>\n",
       "      <th>recall</th>\n",
       "      <th>f1-score</th>\n",
       "      <th>support</th>\n",
       "    </tr>\n",
       "  </thead>\n",
       "  <tbody>\n",
       "    <tr>\n",
       "      <th>count</th>\n",
       "      <td>120.000000</td>\n",
       "      <td>120.000000</td>\n",
       "      <td>120.000000</td>\n",
       "      <td>120.000000</td>\n",
       "    </tr>\n",
       "    <tr>\n",
       "      <th>mean</th>\n",
       "      <td>0.832466</td>\n",
       "      <td>0.840796</td>\n",
       "      <td>0.829772</td>\n",
       "      <td>17.991667</td>\n",
       "    </tr>\n",
       "    <tr>\n",
       "      <th>std</th>\n",
       "      <td>0.156998</td>\n",
       "      <td>0.138482</td>\n",
       "      <td>0.131597</td>\n",
       "      <td>4.042829</td>\n",
       "    </tr>\n",
       "    <tr>\n",
       "      <th>min</th>\n",
       "      <td>0.133333</td>\n",
       "      <td>0.250000</td>\n",
       "      <td>0.173913</td>\n",
       "      <td>8.000000</td>\n",
       "    </tr>\n",
       "    <tr>\n",
       "      <th>25%</th>\n",
       "      <td>0.750000</td>\n",
       "      <td>0.776515</td>\n",
       "      <td>0.778914</td>\n",
       "      <td>15.000000</td>\n",
       "    </tr>\n",
       "    <tr>\n",
       "      <th>50%</th>\n",
       "      <td>0.875000</td>\n",
       "      <td>0.870833</td>\n",
       "      <td>0.857143</td>\n",
       "      <td>18.000000</td>\n",
       "    </tr>\n",
       "    <tr>\n",
       "      <th>75%</th>\n",
       "      <td>0.944444</td>\n",
       "      <td>0.937500</td>\n",
       "      <td>0.919189</td>\n",
       "      <td>21.000000</td>\n",
       "    </tr>\n",
       "    <tr>\n",
       "      <th>max</th>\n",
       "      <td>1.000000</td>\n",
       "      <td>1.000000</td>\n",
       "      <td>1.000000</td>\n",
       "      <td>28.000000</td>\n",
       "    </tr>\n",
       "  </tbody>\n",
       "</table>\n",
       "</div>"
      ],
      "text/plain": [
       "        precision      recall    f1-score     support\n",
       "count  120.000000  120.000000  120.000000  120.000000\n",
       "mean     0.832466    0.840796    0.829772   17.991667\n",
       "std      0.156998    0.138482    0.131597    4.042829\n",
       "min      0.133333    0.250000    0.173913    8.000000\n",
       "25%      0.750000    0.776515    0.778914   15.000000\n",
       "50%      0.875000    0.870833    0.857143   18.000000\n",
       "75%      0.944444    0.937500    0.919189   21.000000\n",
       "max      1.000000    1.000000    1.000000   28.000000"
      ]
     },
     "execution_count": 31,
     "metadata": {
      "tags": []
     },
     "output_type": "execute_result"
    }
   ],
   "source": [
    "df_120.describe()"
   ]
  },
  {
   "cell_type": "code",
   "execution_count": null,
   "metadata": {
    "colab": {
     "base_uri": "https://localhost:8080/",
     "height": 340
    },
    "id": "PcmcJ8aQHpFk",
    "outputId": "2913ecdc-222c-49cd-d70b-4a10275c503e"
   },
   "outputs": [
    {
     "data": {
      "text/html": [
       "<div>\n",
       "<style scoped>\n",
       "    .dataframe tbody tr th:only-of-type {\n",
       "        vertical-align: middle;\n",
       "    }\n",
       "\n",
       "    .dataframe tbody tr th {\n",
       "        vertical-align: top;\n",
       "    }\n",
       "\n",
       "    .dataframe thead th {\n",
       "        text-align: right;\n",
       "    }\n",
       "</style>\n",
       "<table border=\"1\" class=\"dataframe\">\n",
       "  <thead>\n",
       "    <tr style=\"text-align: right;\">\n",
       "      <th></th>\n",
       "      <th>precision</th>\n",
       "      <th>recall</th>\n",
       "      <th>f1-score</th>\n",
       "      <th>support</th>\n",
       "      <th>breeds</th>\n",
       "    </tr>\n",
       "  </thead>\n",
       "  <tbody>\n",
       "    <tr>\n",
       "      <th>24</th>\n",
       "      <td>0.133333</td>\n",
       "      <td>0.250000</td>\n",
       "      <td>0.173913</td>\n",
       "      <td>8.0</td>\n",
       "      <td>Eskimo_dog</td>\n",
       "    </tr>\n",
       "    <tr>\n",
       "      <th>62</th>\n",
       "      <td>0.363636</td>\n",
       "      <td>0.421053</td>\n",
       "      <td>0.390244</td>\n",
       "      <td>19.0</td>\n",
       "      <td>Shih_Tzu</td>\n",
       "    </tr>\n",
       "    <tr>\n",
       "      <th>68</th>\n",
       "      <td>0.409091</td>\n",
       "      <td>0.473684</td>\n",
       "      <td>0.439024</td>\n",
       "      <td>19.0</td>\n",
       "      <td>Tzu</td>\n",
       "    </tr>\n",
       "    <tr>\n",
       "      <th>90</th>\n",
       "      <td>0.437500</td>\n",
       "      <td>0.500000</td>\n",
       "      <td>0.466667</td>\n",
       "      <td>14.0</td>\n",
       "      <td>collie</td>\n",
       "    </tr>\n",
       "    <tr>\n",
       "      <th>105</th>\n",
       "      <td>0.437500</td>\n",
       "      <td>0.636364</td>\n",
       "      <td>0.518519</td>\n",
       "      <td>11.0</td>\n",
       "      <td>miniature_poodle</td>\n",
       "    </tr>\n",
       "    <tr>\n",
       "      <th>64</th>\n",
       "      <td>0.562500</td>\n",
       "      <td>0.562500</td>\n",
       "      <td>0.562500</td>\n",
       "      <td>16.0</td>\n",
       "      <td>Staffordshire_bullterrier</td>\n",
       "    </tr>\n",
       "    <tr>\n",
       "      <th>3</th>\n",
       "      <td>0.647059</td>\n",
       "      <td>0.550000</td>\n",
       "      <td>0.594595</td>\n",
       "      <td>20.0</td>\n",
       "      <td>American_Staffordshire_terrier</td>\n",
       "    </tr>\n",
       "    <tr>\n",
       "      <th>114</th>\n",
       "      <td>0.562500</td>\n",
       "      <td>0.750000</td>\n",
       "      <td>0.642857</td>\n",
       "      <td>12.0</td>\n",
       "      <td>standard_schnauzer</td>\n",
       "    </tr>\n",
       "    <tr>\n",
       "      <th>116</th>\n",
       "      <td>0.750000</td>\n",
       "      <td>0.571429</td>\n",
       "      <td>0.648649</td>\n",
       "      <td>21.0</td>\n",
       "      <td>toy_poodle</td>\n",
       "    </tr>\n",
       "    <tr>\n",
       "      <th>63</th>\n",
       "      <td>0.650000</td>\n",
       "      <td>0.650000</td>\n",
       "      <td>0.650000</td>\n",
       "      <td>20.0</td>\n",
       "      <td>Siberian_husky</td>\n",
       "    </tr>\n",
       "  </tbody>\n",
       "</table>\n",
       "</div>"
      ],
      "text/plain": [
       "     precision    recall  f1-score  support                          breeds\n",
       "24    0.133333  0.250000  0.173913      8.0                      Eskimo_dog\n",
       "62    0.363636  0.421053  0.390244     19.0                        Shih_Tzu\n",
       "68    0.409091  0.473684  0.439024     19.0                             Tzu\n",
       "90    0.437500  0.500000  0.466667     14.0                          collie\n",
       "105   0.437500  0.636364  0.518519     11.0                miniature_poodle\n",
       "64    0.562500  0.562500  0.562500     16.0       Staffordshire_bullterrier\n",
       "3     0.647059  0.550000  0.594595     20.0  American_Staffordshire_terrier\n",
       "114   0.562500  0.750000  0.642857     12.0              standard_schnauzer\n",
       "116   0.750000  0.571429  0.648649     21.0                      toy_poodle\n",
       "63    0.650000  0.650000  0.650000     20.0                  Siberian_husky"
      ]
     },
     "execution_count": 34,
     "metadata": {
      "tags": []
     },
     "output_type": "execute_result"
    }
   ],
   "source": [
    "df_120.sort_values(by='f1-score')[:10]"
   ]
  },
  {
   "cell_type": "code",
   "execution_count": null,
   "metadata": {
    "colab": {
     "base_uri": "https://localhost:8080/"
    },
    "id": "LFwEl5KyIZIR",
    "outputId": "297b5361-e357-4c79-af19-16abb0565ac3"
   },
   "outputs": [
    {
     "data": {
      "text/plain": [
       "array([  0,   0,   0, ..., 119, 119, 119], dtype=int32)"
      ]
     },
     "execution_count": 35,
     "metadata": {
      "tags": []
     },
     "output_type": "execute_result"
    }
   ],
   "source": [
    "test_set.classes"
   ]
  },
  {
   "cell_type": "code",
   "execution_count": null,
   "metadata": {
    "colab": {
     "base_uri": "https://localhost:8080/"
    },
    "id": "1IEdWpAMoPMU",
    "outputId": "68167c9f-1037-4c3f-fe1e-0269b77a1a1e"
   },
   "outputs": [
    {
     "data": {
      "text/plain": [
       "array([  0,   0,   0, ...,  36, 119, 119])"
      ]
     },
     "execution_count": 36,
     "metadata": {
      "tags": []
     },
     "output_type": "execute_result"
    }
   ],
   "source": [
    "predicted_classes"
   ]
  },
  {
   "cell_type": "code",
   "execution_count": null,
   "metadata": {
    "id": "fgkDMjhkoTeY"
   },
   "outputs": [],
   "source": [
    "true_predicted = pd.DataFrame([test_set.classes, predicted_classes]).transpose()."
   ]
  },
  {
   "cell_type": "code",
   "execution_count": null,
   "metadata": {
    "id": "aOfasEeJoibM"
   },
   "outputs": [],
   "source": [
    "true_predicted = true_predicted.rename({0:'true', 1:'predicetd'}, axis=1)"
   ]
  },
  {
   "cell_type": "code",
   "execution_count": null,
   "metadata": {
    "colab": {
     "base_uri": "https://localhost:8080/"
    },
    "id": "8ws72_AFojT3",
    "outputId": "b0717bab-bc05-42d2-a946-abfb32ed9ba0"
   },
   "outputs": [
    {
     "data": {
      "text/plain": [
       "true  predicetd\n",
       "24    63           7\n",
       "      102          3\n",
       "      24           2\n",
       "      92           1\n",
       "      47           1\n",
       "      36           1\n",
       "dtype: int64"
      ]
     },
     "execution_count": 50,
     "metadata": {
      "tags": []
     },
     "output_type": "execute_result"
    }
   ],
   "source": [
    "true_predicted[true_predicted['true']==24].value_counts()"
   ]
  },
  {
   "cell_type": "markdown",
   "metadata": {
    "id": "V5bO9MkCubus"
   },
   "source": [
    "7/15 eskimo_dog images were wrongly classified as siberian_husky"
   ]
  },
  {
   "cell_type": "code",
   "execution_count": null,
   "metadata": {
    "colab": {
     "base_uri": "https://localhost:8080/"
    },
    "id": "Ra7MaEHFt5jg",
    "outputId": "8748dabf-9c48-4850-93ee-b27571dfebd4"
   },
   "outputs": [
    {
     "data": {
      "text/plain": [
       "true  predicetd\n",
       "62    68           9\n",
       "      62           8\n",
       "      67           1\n",
       "      50           1\n",
       "      49           1\n",
       "      42           1\n",
       "      18           1\n",
       "dtype: int64"
      ]
     },
     "execution_count": 51,
     "metadata": {
      "tags": []
     },
     "output_type": "execute_result"
    }
   ],
   "source": [
    "true_predicted[true_predicted['true']==62].value_counts()"
   ]
  },
  {
   "cell_type": "markdown",
   "metadata": {
    "id": "JjPXbWJ1wKxB"
   },
   "source": [
    "8/22 shi_tzu images were wrongly classified as tzu\n",
    "\n",
    "\n"
   ]
  },
  {
   "cell_type": "code",
   "execution_count": null,
   "metadata": {
    "colab": {
     "base_uri": "https://localhost:8080/"
    },
    "id": "gmW5s4tIwFPo",
    "outputId": "98f4a37a-aeee-466a-8ff0-a46a71a7706e"
   },
   "outputs": [
    {
     "data": {
      "text/plain": [
       "true  predicetd\n",
       "90    90           7\n",
       "      9            5\n",
       "      61           4\n",
       "dtype: int64"
      ]
     },
     "execution_count": 52,
     "metadata": {
      "tags": []
     },
     "output_type": "execute_result"
    }
   ],
   "source": [
    "true_predicted[true_predicted['true']==90].value_counts()"
   ]
  },
  {
   "cell_type": "markdown",
   "metadata": {
    "id": "fngEojjAxouR"
   },
   "source": [
    "5/16 collie images were wrongly classified as border_collie"
   ]
  },
  {
   "cell_type": "code",
   "execution_count": null,
   "metadata": {
    "colab": {
     "base_uri": "https://localhost:8080/"
    },
    "id": "rS4RlRT9xaVJ",
    "outputId": "b89a1703-7b35-4a8b-8c4a-ad2011068198"
   },
   "outputs": [
    {
     "data": {
      "text/plain": [
       "{'Afghan_hound': 0,\n",
       " 'African_hunting_dog': 1,\n",
       " 'Airedale': 2,\n",
       " 'American_Staffordshire_terrier': 3,\n",
       " 'Appenzeller': 4,\n",
       " 'Australian_terrier': 5,\n",
       " 'Bedlington_terrier': 6,\n",
       " 'Bernese_mountain_dog': 7,\n",
       " 'Blenheim_spaniel': 8,\n",
       " 'Border_collie': 9,\n",
       " 'Border_terrier': 10,\n",
       " 'Boston_bull': 11,\n",
       " 'Bouvier_des_Flandres': 12,\n",
       " 'Brabancon_griffon': 13,\n",
       " 'Brittany_spaniel': 14,\n",
       " 'Cardigan': 15,\n",
       " 'Chesapeake_Bay_retriever': 16,\n",
       " 'Chihuahua': 17,\n",
       " 'Dandie_Dinmont': 18,\n",
       " 'Doberman': 19,\n",
       " 'English_foxhound': 20,\n",
       " 'English_setter': 21,\n",
       " 'English_springer': 22,\n",
       " 'EntleBucher': 23,\n",
       " 'Eskimo_dog': 24,\n",
       " 'French_bulldog': 25,\n",
       " 'German_shepherd': 26,\n",
       " 'Gordon_setter': 27,\n",
       " 'Great_Dane': 28,\n",
       " 'Great_Pyrenees': 29,\n",
       " 'Greater_Swiss_Mountain_dog': 30,\n",
       " 'Ibizan_hound': 31,\n",
       " 'Irish_setter': 32,\n",
       " 'Irish_terrier': 33,\n",
       " 'Irish_water_spaniel': 34,\n",
       " 'Irish_wolfhound': 35,\n",
       " 'Italian_greyhound': 36,\n",
       " 'Japanese_spaniel': 37,\n",
       " 'Kerry_blue_terrier': 38,\n",
       " 'Labrador_retriever': 39,\n",
       " 'Lakeland_terrier': 40,\n",
       " 'Leonberg': 41,\n",
       " 'Lhasa': 42,\n",
       " 'Maltese_dog': 43,\n",
       " 'Mexican_hairless': 44,\n",
       " 'Newfoundland': 45,\n",
       " 'Norfolk_terrier': 46,\n",
       " 'Norwegian_elkhound': 47,\n",
       " 'Norwich_terrier': 48,\n",
       " 'Old_English_sheepdog': 49,\n",
       " 'Pekinese': 50,\n",
       " 'Pembroke': 51,\n",
       " 'Pomeranian': 52,\n",
       " 'Rhodesian_ridgeback': 53,\n",
       " 'Rottweiler': 54,\n",
       " 'Saint_Bernard': 55,\n",
       " 'Saluki': 56,\n",
       " 'Samoyed': 57,\n",
       " 'Scotch_terrier': 58,\n",
       " 'Scottish_deerhound': 59,\n",
       " 'Sealyham_terrier': 60,\n",
       " 'Shetland_sheepdog': 61,\n",
       " 'Shih_Tzu': 62,\n",
       " 'Siberian_husky': 63,\n",
       " 'Staffordshire_bullterrier': 64,\n",
       " 'Sussex_spaniel': 65,\n",
       " 'Tibetan_mastiff': 66,\n",
       " 'Tibetan_terrier': 67,\n",
       " 'Tzu': 68,\n",
       " 'Walker_hound': 69,\n",
       " 'Weimaraner': 70,\n",
       " 'Welsh_springer_spaniel': 71,\n",
       " 'West_Highland_white_terrier': 72,\n",
       " 'Yorkshire_terrier': 73,\n",
       " 'affenpinscher': 74,\n",
       " 'basenji': 75,\n",
       " 'basset': 76,\n",
       " 'beagle': 77,\n",
       " 'bloodhound': 78,\n",
       " 'bluetick': 79,\n",
       " 'borzoi': 80,\n",
       " 'boxer': 81,\n",
       " 'briard': 82,\n",
       " 'bull_mastiff': 83,\n",
       " 'cairn': 84,\n",
       " 'chow': 85,\n",
       " 'clumber': 86,\n",
       " 'coated_retriever': 87,\n",
       " 'coated_wheaten_terrier': 88,\n",
       " 'cocker_spaniel': 89,\n",
       " 'collie': 90,\n",
       " 'dhole': 91,\n",
       " 'dingo': 92,\n",
       " 'giant_schnauzer': 93,\n",
       " 'golden_retriever': 94,\n",
       " 'groenendael': 95,\n",
       " 'haired_fox_terrier': 96,\n",
       " 'haired_pointer': 97,\n",
       " 'keeshond': 98,\n",
       " 'kelpie': 99,\n",
       " 'komondor': 100,\n",
       " 'kuvasz': 101,\n",
       " 'malamute': 102,\n",
       " 'malinois': 103,\n",
       " 'miniature_pinscher': 104,\n",
       " 'miniature_poodle': 105,\n",
       " 'miniature_schnauzer': 106,\n",
       " 'otterhound': 107,\n",
       " 'papillon': 108,\n",
       " 'pug': 109,\n",
       " 'redbone': 110,\n",
       " 'schipperke': 111,\n",
       " 'silky_terrier': 112,\n",
       " 'standard_poodle': 113,\n",
       " 'standard_schnauzer': 114,\n",
       " 'tan_coonhound': 115,\n",
       " 'toy_poodle': 116,\n",
       " 'toy_terrier': 117,\n",
       " 'vizsla': 118,\n",
       " 'whippet': 119}"
      ]
     },
     "execution_count": 53,
     "metadata": {
      "tags": []
     },
     "output_type": "execute_result"
    }
   ],
   "source": [
    "test_set.class_indices"
   ]
  }
 ],
 "metadata": {
  "accelerator": "GPU",
  "colab": {
   "collapsed_sections": [
    "gF3fJfHJFTVe",
    "EmxCNYI-4uVQ"
   ],
   "name": "Copie_de_P6_dog_classification_transfer_learning_all.ipynb",
   "provenance": [],
   "toc_visible": true
  },
  "kernelspec": {
   "display_name": "Python 3",
   "language": "python",
   "name": "python3"
  },
  "language_info": {
   "codemirror_mode": {
    "name": "ipython",
    "version": 3
   },
   "file_extension": ".py",
   "mimetype": "text/x-python",
   "name": "python",
   "nbconvert_exporter": "python",
   "pygments_lexer": "ipython3",
   "version": "3.7.6"
  }
 },
 "nbformat": 4,
 "nbformat_minor": 1
}
