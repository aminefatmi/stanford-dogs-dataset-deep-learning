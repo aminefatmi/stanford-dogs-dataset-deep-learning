{
 "cells": [
  {
   "cell_type": "markdown",
   "metadata": {
    "id": "xvqdI8CJmi97"
   },
   "source": [
    "In this notebook, I will be impementig transfer learnig using 10 breeds in order to improve the results obtained in the previous notebook (CNN from scratch).\n",
    "\n",
    "I will be testing:\n",
    "\n",
    "* 3 different models (Xception, VGG16 and Inception V3)\n",
    "* Flatten vs Global Average Pooling\n",
    "* Different optimizers (Adam, SGD and RMSProp)\n",
    "* Fine tuning with low learnig rate (a=10-5)\n",
    "\n",
    "The most performing model will be used for scaling from 10 to 120 breeds. The results of the generalization will be discussed in another notebook."
   ]
  },
  {
   "cell_type": "markdown",
   "metadata": {
    "id": "Hn1aw5orEZi-"
   },
   "source": [
    "# Libraries"
   ]
  },
  {
   "cell_type": "code",
   "execution_count": null,
   "metadata": {
    "id": "LAArVPy9z8nq"
   },
   "outputs": [],
   "source": [
    "import numpy as np\n",
    "import pandas as pd\n",
    "import matplotlib.pyplot as plt\n",
    "import os\n",
    "\n",
    "import tensorflow as tf\n",
    "import keras\n",
    "from tensorflow.keras.layers import Input, Lambda, Dense, Flatten\n",
    "from tensorflow.keras.layers import Conv2D, MaxPool2D\n",
    "from tensorflow.keras.preprocessing import image\n",
    "from tensorflow.keras.preprocessing.image import ImageDataGenerator,load_img\n",
    "from tensorflow.keras.models import Sequential\n",
    "from keras.layers import Dropout\n",
    "from tensorflow import keras\n",
    "import cv2\n",
    "from glob import glob\n",
    "\n",
    "from keras.models import model_from_json"
   ]
  },
  {
   "cell_type": "markdown",
   "metadata": {
    "id": "3s61TSKGF3aj"
   },
   "source": [
    "# Xception 10 breeds"
   ]
  },
  {
   "cell_type": "markdown",
   "metadata": {
    "id": "M4oPxMqXF8fO"
   },
   "source": [
    "## Data preprocessing"
   ]
  },
  {
   "cell_type": "code",
   "execution_count": null,
   "metadata": {
    "id": "Q0UDWCxfNqX0"
   },
   "outputs": [],
   "source": [
    "# rescale images and use data augmentation on the training set\n",
    "train_datagen = ImageDataGenerator(rescale = 1./255,\n",
    "                                  rotation_range=40,\n",
    "                                   width_shift_range=0.2,\n",
    "                                   height_shift_range=0.2,\n",
    "                                   shear_range = 0.2,\n",
    "                                   zoom_range = 0.2,\n",
    "                                   horizontal_flip = True,\n",
    "                                   fill_mode='nearest'\n",
    "                                   )\n",
    " \n",
    "val_datagen = ImageDataGenerator(rescale = 1./255)\n",
    "test_datagen = ImageDataGenerator(rescale = 1./255)"
   ]
  },
  {
   "cell_type": "code",
   "execution_count": null,
   "metadata": {
    "colab": {
     "base_uri": "https://localhost:8080/"
    },
    "id": "IhICsycOObSB",
    "outputId": "3c113b11-c85e-4c04-ba6e-14d99000bfd9"
   },
   "outputs": [
    {
     "name": "stdout",
     "output_type": "stream",
     "text": [
      "Found 1447 images belonging to 10 classes.\n"
     ]
    }
   ],
   "source": [
    "# reshape images to 299*299 (recommended size for Xception)\n",
    "training_set = train_datagen.flow_from_directory('train',\n",
    "                                                 target_size = (299, 299),\n",
    "                                                 batch_size = 32,\n",
    "                                                 class_mode = 'categorical')"
   ]
  },
  {
   "cell_type": "code",
   "execution_count": null,
   "metadata": {
    "colab": {
     "base_uri": "https://localhost:8080/"
    },
    "id": "PWrOvwNFOxia",
    "outputId": "052bdc64-2d3e-4769-98ac-93f4294c90b5"
   },
   "outputs": [
    {
     "name": "stdout",
     "output_type": "stream",
     "text": [
      "Found 177 images belonging to 10 classes.\n"
     ]
    }
   ],
   "source": [
    "validation_set = val_datagen.flow_from_directory('val',\n",
    "                                                 target_size = (299, 299),\n",
    "                                                 batch_size = 32,\n",
    "                                                 class_mode = 'categorical')"
   ]
  },
  {
   "cell_type": "code",
   "execution_count": null,
   "metadata": {
    "colab": {
     "base_uri": "https://localhost:8080/"
    },
    "id": "wZH64Xk9RiCs",
    "outputId": "6e23b3d1-1ce0-41f4-d64a-c0564df0c06f"
   },
   "outputs": [
    {
     "data": {
      "text/plain": [
       "['American_Staffordshire_terrier',\n",
       " 'Chihuahua',\n",
       " 'Ibizan_hound',\n",
       " 'Saluki',\n",
       " 'Scottish_deerhound',\n",
       " 'basset',\n",
       " 'papillon',\n",
       " 'redbone',\n",
       " 'toy_terrier',\n",
       " 'whippet']"
      ]
     },
     "execution_count": 204,
     "metadata": {
      "tags": []
     },
     "output_type": "execute_result"
    }
   ],
   "source": [
    "# list of 10 breeds\n",
    "list(training_set.class_indices.keys())"
   ]
  },
  {
   "cell_type": "markdown",
   "metadata": {
    "id": "TuXkrvAfK5vz"
   },
   "source": [
    "## model"
   ]
  },
  {
   "cell_type": "markdown",
   "metadata": {
    "id": "Cjjgqbnp9Ahb"
   },
   "source": [
    "Xception model with pre-trained weights"
   ]
  },
  {
   "cell_type": "code",
   "execution_count": null,
   "metadata": {
    "colab": {
     "base_uri": "https://localhost:8080/"
    },
    "id": "yozvSwuz89cc",
    "outputId": "3203ce19-d715-4982-e9fb-a4c246a01e36"
   },
   "outputs": [
    {
     "name": "stdout",
     "output_type": "stream",
     "text": [
      "Downloading data from https://storage.googleapis.com/tensorflow/keras-applications/xception/xception_weights_tf_dim_ordering_tf_kernels_notop.h5\n",
      "83689472/83683744 [==============================] - 1s 0us/step\n"
     ]
    }
   ],
   "source": [
    "base_model = keras.applications.Xception(\n",
    "    weights='imagenet',  # Load weights pre-trained on ImageNet.\n",
    "    input_shape=(299, 299, 3),\n",
    "    include_top=False)  # Do not include the ImageNet classifier at the top."
   ]
  },
  {
   "cell_type": "markdown",
   "metadata": {
    "id": "F59XJysU-68y"
   },
   "source": [
    "Freeze the base model"
   ]
  },
  {
   "cell_type": "code",
   "execution_count": null,
   "metadata": {
    "id": "Xq3nIEdl89ZP"
   },
   "outputs": [],
   "source": [
    "base_model.trainable = False"
   ]
  },
  {
   "cell_type": "markdown",
   "metadata": {
    "id": "c0cm7szp_P_T"
   },
   "source": [
    "Create new model on top"
   ]
  },
  {
   "cell_type": "code",
   "execution_count": null,
   "metadata": {
    "id": "KpWpEyY389XC"
   },
   "outputs": [],
   "source": [
    "inputs = keras.Input(shape=(299, 299, 3))\n",
    "# We make sure that the base_model is running in inference mode here,\n",
    "# by passing `training=False`.\n",
    "x = tf.keras.applications.inception_v3.preprocess_input(inputs)\n",
    "x = base_model(inputs, training=False)\n",
    "# Convert features of shape `base_model.output_shape[1:]` to vectors\n",
    "x = keras.layers.Flatten()(x)\n",
    "# x = keras.layers.Dense(32, activation='relu')\n",
    "# A Dense classifier (10 class)\n",
    "outputs = keras.layers.Dense(10, activation='softmax')(x)\n",
    "model = keras.Model(inputs, outputs)"
   ]
  },
  {
   "cell_type": "code",
   "execution_count": null,
   "metadata": {
    "colab": {
     "base_uri": "https://localhost:8080/"
    },
    "id": "kUIuzXTXEgda",
    "outputId": "884c09a1-a9f3-4874-96d1-171902eb2eaf"
   },
   "outputs": [
    {
     "name": "stdout",
     "output_type": "stream",
     "text": [
      "Model: \"model\"\n",
      "_________________________________________________________________\n",
      "Layer (type)                 Output Shape              Param #   \n",
      "=================================================================\n",
      "input_2 (InputLayer)         [(None, 299, 299, 3)]     0         \n",
      "_________________________________________________________________\n",
      "xception (Functional)        (None, 10, 10, 2048)      20861480  \n",
      "_________________________________________________________________\n",
      "flatten (Flatten)            (None, 204800)            0         \n",
      "_________________________________________________________________\n",
      "dense (Dense)                (None, 10)                2048010   \n",
      "=================================================================\n",
      "Total params: 22,909,490\n",
      "Trainable params: 2,048,010\n",
      "Non-trainable params: 20,861,480\n",
      "_________________________________________________________________\n"
     ]
    }
   ],
   "source": [
    "model.summary()"
   ]
  },
  {
   "cell_type": "markdown",
   "metadata": {
    "id": "B2DUo8Fe_al-"
   },
   "source": [
    "Train the model on new data"
   ]
  },
  {
   "cell_type": "code",
   "execution_count": null,
   "metadata": {
    "id": "Un15hliR89Uq"
   },
   "outputs": [],
   "source": [
    "model.compile(optimizer='rmsprop',\n",
    "              loss='categorical_crossentropy',\n",
    "              metrics=['accuracy'])"
   ]
  },
  {
   "cell_type": "code",
   "execution_count": null,
   "metadata": {
    "colab": {
     "base_uri": "https://localhost:8080/"
    },
    "id": "ib3EkvUf89QY",
    "outputId": "eb409fe5-bccd-4520-efa6-4ea6a65c4dcf"
   },
   "outputs": [
    {
     "name": "stdout",
     "output_type": "stream",
     "text": [
      "Epoch 1/100\n",
      "46/46 [==============================] - 1094s 24s/step - loss: 6.4030 - accuracy: 0.6682 - val_loss: 0.9324 - val_accuracy: 0.9435\n",
      "Epoch 2/100\n",
      "46/46 [==============================] - 36s 786ms/step - loss: 1.6564 - accuracy: 0.8971 - val_loss: 1.1268 - val_accuracy: 0.9322\n",
      "Epoch 3/100\n",
      "46/46 [==============================] - 36s 789ms/step - loss: 1.6946 - accuracy: 0.9144 - val_loss: 1.6613 - val_accuracy: 0.9435\n",
      "Epoch 4/100\n",
      "46/46 [==============================] - 36s 785ms/step - loss: 1.7511 - accuracy: 0.9159 - val_loss: 1.0844 - val_accuracy: 0.9548\n",
      "Epoch 5/100\n",
      "46/46 [==============================] - 36s 781ms/step - loss: 1.2028 - accuracy: 0.9420 - val_loss: 1.1260 - val_accuracy: 0.9548\n",
      "Epoch 6/100\n",
      "46/46 [==============================] - 36s 775ms/step - loss: 1.2453 - accuracy: 0.9386 - val_loss: 1.7954 - val_accuracy: 0.9322\n"
     ]
    }
   ],
   "source": [
    "from keras import callbacks \n",
    "earlystopping = callbacks.EarlyStopping(monitor =\"val_loss\",  \n",
    "                                        mode =\"min\", patience = 5,  \n",
    "                                        restore_best_weights = True\n",
    "                                        )\n",
    "model_fit = model.fit(training_set, epochs=100,\n",
    "          callbacks=[earlystopping], \n",
    "          validation_data=validation_set)"
   ]
  },
  {
   "cell_type": "markdown",
   "metadata": {
    "id": "cWUDaY9TGSDz"
   },
   "source": [
    "Accuracy vs Epochs"
   ]
  },
  {
   "cell_type": "code",
   "execution_count": null,
   "metadata": {
    "colab": {
     "base_uri": "https://localhost:8080/",
     "height": 406
    },
    "id": "zv1eBf3zGSES",
    "outputId": "faef7bc6-d88b-41a7-bd7c-85b206cceb0b"
   },
   "outputs": [
    {
     "data": {
      "text/plain": [
       "<matplotlib.legend.Legend at 0x7fe265e5e978>"
      ]
     },
     "execution_count": 15,
     "metadata": {
      "tags": []
     },
     "output_type": "execute_result"
    },
    {
     "data": {
      "image/png": "[encoded data removed]",
      "text/plain": [
       "<Figure size 1152x432 with 2 Axes>"
      ]
     },
     "metadata": {
      "needs_background": "light",
      "tags": []
     },
     "output_type": "display_data"
    }
   ],
   "source": [
    "fig, ax = plt.subplots(nrows=1, ncols=2, figsize=(16, 6))\n",
    "\n",
    "ax[0].plot(model_fit.history['accuracy'], label='accuracy')\n",
    "ax[0].plot(model_fit.history['val_accuracy'], label='val_accuracy')\n",
    "ax[0].set_xlabel('Epoch')\n",
    "ax[0].set_ylabel('Accuracy')\n",
    "ax[0].legend()\n",
    "\n",
    "ax[1].plot(model_fit.history['loss'], label='loss')\n",
    "ax[1].plot(model_fit.history['val_loss'], label='val_loss')\n",
    "ax[1].set_xlabel('Epoch')\n",
    "ax[1].set_ylabel('Loss')\n",
    "ax[1].legend()"
   ]
  },
  {
   "cell_type": "markdown",
   "metadata": {
    "id": "v1AM0Up6K-Dp"
   },
   "source": [
    "## evaluation"
   ]
  },
  {
   "cell_type": "markdown",
   "metadata": {},
   "source": [
    "Evaluate the performance of the model on the test set"
   ]
  },
  {
   "cell_type": "code",
   "execution_count": null,
   "metadata": {
    "colab": {
     "base_uri": "https://localhost:8080/"
    },
    "id": "JztNnkewB1mD",
    "outputId": "aafca2b5-9a83-4f3b-dd2e-74c6fbdfce95"
   },
   "outputs": [
    {
     "name": "stdout",
     "output_type": "stream",
     "text": [
      "Found 190 images belonging to 10 classes.\n"
     ]
    }
   ],
   "source": [
    "test_datagen = ImageDataGenerator(rescale = 1./255)\n",
    "\n",
    "test_set = test_datagen.flow_from_directory('test',\n",
    "                                                 target_size = (299, 299),\n",
    "                                                 batch_size = 32,\n",
    "                                                 class_mode = 'categorical',\n",
    "                                            shuffle=False)"
   ]
  },
  {
   "cell_type": "code",
   "execution_count": null,
   "metadata": {
    "colab": {
     "base_uri": "https://localhost:8080/"
    },
    "id": "nCbHVu-9rO77",
    "outputId": "93354ba6-2c42-40c0-b6aa-84ed925577ab"
   },
   "outputs": [
    {
     "name": "stdout",
     "output_type": "stream",
     "text": [
      "6/6 [==============================] - 107s 21s/step - loss: 0.9029 - accuracy: 0.9316\n"
     ]
    },
    {
     "data": {
      "text/plain": [
       "[0.9029069542884827, 0.9315789341926575]"
      ]
     },
     "execution_count": 17,
     "metadata": {
      "tags": []
     },
     "output_type": "execute_result"
    }
   ],
   "source": [
    "prediction = model.evaluate(test_set)\n",
    "prediction"
   ]
  },
  {
   "cell_type": "code",
   "execution_count": null,
   "metadata": {
    "id": "0Z-pppsYy2S4"
   },
   "outputs": [],
   "source": [
    "predicted_probabilities = model.predict(test_set)"
   ]
  },
  {
   "cell_type": "code",
   "execution_count": null,
   "metadata": {
    "id": "PeD8zpzeIVUz"
   },
   "outputs": [],
   "source": [
    "l=[]\n",
    "for proba in predicted_probabilities:\n",
    "  l.append(np.argmax(proba))\n",
    "predicted_classes = np.array(l)"
   ]
  },
  {
   "cell_type": "code",
   "execution_count": null,
   "metadata": {
    "colab": {
     "base_uri": "https://localhost:8080/"
    },
    "id": "Qq9jgUXn1Yaw",
    "outputId": "cef9cf41-9977-47fe-84fc-46cd0e8be86f"
   },
   "outputs": [
    {
     "data": {
      "text/plain": [
       "0.9315789473684211"
      ]
     },
     "execution_count": 21,
     "metadata": {
      "tags": []
     },
     "output_type": "execute_result"
    }
   ],
   "source": [
    "from sklearn.metrics import accuracy_score, classification_report\n",
    "accuracy_score(predicted_classes, test_set.classes)"
   ]
  },
  {
   "cell_type": "code",
   "execution_count": null,
   "metadata": {
    "colab": {
     "base_uri": "https://localhost:8080/",
     "height": 107
    },
    "id": "uN3dzS7_H3xA",
    "outputId": "382f9218-9b6f-4085-90c1-f981aa8c11de"
   },
   "outputs": [
    {
     "data": {
      "application/vnd.google.colaboratory.intrinsic+json": {
       "type": "string"
      },
      "text/plain": [
       "'              precision    recall  f1-score   support\\n\\n           0       0.59      0.77      0.67        13\\n           1       0.75      0.52      0.62        23\\n           2       0.90      0.58      0.71        31\\n           3       0.45      0.90      0.60        10\\n           4       0.92      1.00      0.96        22\\n           5       0.94      0.94      0.94        18\\n           6       0.90      0.90      0.90        21\\n           7       0.88      0.64      0.74        22\\n           8       0.61      0.85      0.71        13\\n           9       0.65      0.76      0.70        17\\n\\n    accuracy                           0.76       190\\n   macro avg       0.76      0.79      0.75       190\\nweighted avg       0.80      0.76      0.76       190\\n'"
      ]
     },
     "execution_count": 220,
     "metadata": {
      "tags": []
     },
     "output_type": "execute_result"
    }
   ],
   "source": [
    "classification_report(predicted_classes, test_set.classes)"
   ]
  },
  {
   "cell_type": "markdown",
   "metadata": {
    "id": "TCBHpdpKLFM2"
   },
   "source": [
    "# VGG16 10 breeds"
   ]
  },
  {
   "cell_type": "markdown",
   "metadata": {
    "id": "yvVEzVDVLFM-"
   },
   "source": [
    "## Data preprocessing"
   ]
  },
  {
   "cell_type": "code",
   "execution_count": null,
   "metadata": {
    "id": "BXMjurGDLFM-"
   },
   "outputs": [],
   "source": [
    "train_datagen = ImageDataGenerator(rescale = 1./255,\n",
    "                                   rotation_range=40,\n",
    "                                   width_shift_range=0.2,\n",
    "                                   height_shift_range=0.2,\n",
    "                                   shear_range = 0.2,\n",
    "                                   zoom_range = 0.2,\n",
    "                                   horizontal_flip = True,\n",
    "                                   fill_mode='nearest'\n",
    "                                   )\n",
    " \n",
    "val_datagen = ImageDataGenerator(rescale = 1./255)\n",
    "test_datagen = ImageDataGenerator(rescale = 1./255)"
   ]
  },
  {
   "cell_type": "code",
   "execution_count": null,
   "metadata": {
    "colab": {
     "base_uri": "https://localhost:8080/"
    },
    "id": "aOUlx20yLFM_",
    "outputId": "380bde24-32db-4f7c-a909-9f611c043ece"
   },
   "outputs": [
    {
     "name": "stdout",
     "output_type": "stream",
     "text": [
      "Found 1447 images belonging to 10 classes.\n"
     ]
    }
   ],
   "source": [
    "training_set = train_datagen.flow_from_directory('train',\n",
    "                                                 target_size = (224, 224),\n",
    "                                                 batch_size = 32,\n",
    "                                                 class_mode = 'categorical')"
   ]
  },
  {
   "cell_type": "code",
   "execution_count": null,
   "metadata": {
    "colab": {
     "base_uri": "https://localhost:8080/"
    },
    "id": "z7uWbj3TLFM_",
    "outputId": "b7e5b405-1bbc-4e1f-87f3-a82fe8ff27b0"
   },
   "outputs": [
    {
     "name": "stdout",
     "output_type": "stream",
     "text": [
      "Found 177 images belonging to 10 classes.\n"
     ]
    }
   ],
   "source": [
    "validation_set = val_datagen.flow_from_directory('val',\n",
    "                                                 target_size = (224, 224),\n",
    "                                                 batch_size = 32,\n",
    "                                                 class_mode = 'categorical')"
   ]
  },
  {
   "cell_type": "code",
   "execution_count": null,
   "metadata": {
    "colab": {
     "base_uri": "https://localhost:8080/"
    },
    "id": "SD22VZlMLFNE",
    "outputId": "947300a8-d510-4d83-dcb4-17261cf3c62f"
   },
   "outputs": [
    {
     "name": "stdout",
     "output_type": "stream",
     "text": [
      "Found 190 images belonging to 10 classes.\n"
     ]
    }
   ],
   "source": [
    "test_set = test_datagen.flow_from_directory('test',\n",
    "                                                 target_size = (224, 224),\n",
    "                                                 batch_size = 32,\n",
    "                                                 class_mode = 'categorical',\n",
    "                                                 shuffle=False)"
   ]
  },
  {
   "cell_type": "markdown",
   "metadata": {
    "id": "CZOPVb_ILFNA"
   },
   "source": [
    "## model"
   ]
  },
  {
   "cell_type": "markdown",
   "metadata": {
    "id": "E4vPqWRBLFNA"
   },
   "source": [
    "VGG16 model with pre-trained weights"
   ]
  },
  {
   "cell_type": "code",
   "execution_count": null,
   "metadata": {
    "id": "sxbU3qtFLFNA"
   },
   "outputs": [],
   "source": [
    "base_model = keras.applications.VGG16(\n",
    "    weights='imagenet',  # Load weights pre-trained on ImageNet.\n",
    "    input_shape=(224, 224, 3),\n",
    "    include_top=False)  # Do not include the ImageNet classifier at the top."
   ]
  },
  {
   "cell_type": "markdown",
   "metadata": {
    "id": "WsP9IJn_LFNA"
   },
   "source": [
    "Freeze the base model"
   ]
  },
  {
   "cell_type": "code",
   "execution_count": null,
   "metadata": {
    "id": "fhpcFDl5LFNB"
   },
   "outputs": [],
   "source": [
    "base_model.trainable = False"
   ]
  },
  {
   "cell_type": "markdown",
   "metadata": {
    "id": "lWE6g2iiLFNB"
   },
   "source": [
    "Create new model on top"
   ]
  },
  {
   "cell_type": "code",
   "execution_count": null,
   "metadata": {
    "id": "ocoSwADELFNB"
   },
   "outputs": [],
   "source": [
    "inputs = keras.Input(shape=(224, 224, 3))\n",
    "# We make sure that the base_model is running in inference mode here,\n",
    "# by passing `training=False`.\n",
    "x = tf.keras.applications.vgg16.preprocess_input(inputs)\n",
    "x = base_model(inputs, training=False)\n",
    "# Convert features of shape `base_model.output_shape[1:]` to vectors\n",
    "x = keras.layers.Flatten()(x)\n",
    "# A Dense classifier (10 class)\n",
    "outputs = keras.layers.Dense(10, activation='softmax')(x)\n",
    "model = keras.Model(inputs, outputs)"
   ]
  },
  {
   "cell_type": "code",
   "execution_count": null,
   "metadata": {
    "colab": {
     "base_uri": "https://localhost:8080/"
    },
    "id": "abqp-eBQLFNB",
    "outputId": "501de98c-0bf2-4677-f292-e7b21902c145"
   },
   "outputs": [
    {
     "name": "stdout",
     "output_type": "stream",
     "text": [
      "Model: \"model_2\"\n",
      "_________________________________________________________________\n",
      "Layer (type)                 Output Shape              Param #   \n",
      "=================================================================\n",
      "input_6 (InputLayer)         [(None, 224, 224, 3)]     0         \n",
      "_________________________________________________________________\n",
      "vgg16 (Functional)           (None, 7, 7, 512)         14714688  \n",
      "_________________________________________________________________\n",
      "flatten_2 (Flatten)          (None, 25088)             0         \n",
      "_________________________________________________________________\n",
      "dense_2 (Dense)              (None, 10)                250890    \n",
      "=================================================================\n",
      "Total params: 14,965,578\n",
      "Trainable params: 250,890\n",
      "Non-trainable params: 14,714,688\n",
      "_________________________________________________________________\n"
     ]
    }
   ],
   "source": [
    "model.summary()"
   ]
  },
  {
   "cell_type": "markdown",
   "metadata": {
    "id": "_khbeP9rLFNB"
   },
   "source": [
    "Train the model on new data"
   ]
  },
  {
   "cell_type": "code",
   "execution_count": null,
   "metadata": {
    "id": "FoNGqe_vLFNB"
   },
   "outputs": [],
   "source": [
    "model.compile(optimizer='rmsprop',\n",
    "              loss='categorical_crossentropy',\n",
    "              metrics=['accuracy'])"
   ]
  },
  {
   "cell_type": "code",
   "execution_count": null,
   "metadata": {
    "colab": {
     "base_uri": "https://localhost:8080/"
    },
    "id": "5ZwIL4HoLFNC",
    "outputId": "20017626-f386-4df2-e235-53387316631b"
   },
   "outputs": [
    {
     "name": "stdout",
     "output_type": "stream",
     "text": [
      "Epoch 1/100\n",
      "46/46 [==============================] - 24s 517ms/step - loss: 5.5940 - accuracy: 0.1437 - val_loss: 3.6341 - val_accuracy: 0.2712\n",
      "Epoch 2/100\n",
      "46/46 [==============================] - 23s 507ms/step - loss: 3.1796 - accuracy: 0.2647 - val_loss: 2.0529 - val_accuracy: 0.3446\n",
      "Epoch 3/100\n",
      "46/46 [==============================] - 23s 508ms/step - loss: 2.5734 - accuracy: 0.3574 - val_loss: 2.4811 - val_accuracy: 0.3220\n",
      "Epoch 4/100\n",
      "46/46 [==============================] - 24s 513ms/step - loss: 2.4655 - accuracy: 0.3703 - val_loss: 1.5364 - val_accuracy: 0.5311\n",
      "Epoch 5/100\n",
      "46/46 [==============================] - 24s 511ms/step - loss: 2.1861 - accuracy: 0.4296 - val_loss: 2.4935 - val_accuracy: 0.4520\n",
      "Epoch 6/100\n",
      "46/46 [==============================] - 23s 509ms/step - loss: 2.3617 - accuracy: 0.3996 - val_loss: 2.8679 - val_accuracy: 0.3955\n",
      "Epoch 7/100\n",
      "46/46 [==============================] - 23s 507ms/step - loss: 2.2484 - accuracy: 0.4280 - val_loss: 1.5813 - val_accuracy: 0.5537\n",
      "Epoch 8/100\n",
      "46/46 [==============================] - 23s 506ms/step - loss: 1.8667 - accuracy: 0.5091 - val_loss: 1.8257 - val_accuracy: 0.5537\n",
      "Epoch 9/100\n",
      "46/46 [==============================] - 23s 507ms/step - loss: 1.8254 - accuracy: 0.5219 - val_loss: 1.3013 - val_accuracy: 0.6271\n",
      "Epoch 10/100\n",
      "46/46 [==============================] - 23s 505ms/step - loss: 1.8515 - accuracy: 0.5112 - val_loss: 1.9863 - val_accuracy: 0.5650\n",
      "Epoch 11/100\n",
      "46/46 [==============================] - 23s 504ms/step - loss: 1.7928 - accuracy: 0.5126 - val_loss: 2.6587 - val_accuracy: 0.4689\n",
      "Epoch 12/100\n",
      "46/46 [==============================] - 23s 503ms/step - loss: 1.7391 - accuracy: 0.5465 - val_loss: 1.6010 - val_accuracy: 0.5876\n",
      "Epoch 13/100\n",
      "46/46 [==============================] - 23s 504ms/step - loss: 1.7677 - accuracy: 0.5394 - val_loss: 1.5571 - val_accuracy: 0.6441\n",
      "Epoch 14/100\n",
      "46/46 [==============================] - 23s 502ms/step - loss: 1.7326 - accuracy: 0.5607 - val_loss: 1.8669 - val_accuracy: 0.4972\n"
     ]
    }
   ],
   "source": [
    "from keras import callbacks \n",
    "earlystopping = callbacks.EarlyStopping(monitor =\"val_loss\",  \n",
    "                                        mode =\"min\", patience = 5,  \n",
    "                                        restore_best_weights = True\n",
    "                                        )\n",
    "model_fit = model.fit(training_set, epochs=100,\n",
    "          callbacks=[earlystopping], \n",
    "          validation_data=validation_set)"
   ]
  },
  {
   "cell_type": "markdown",
   "metadata": {
    "id": "9KV66ik-LFNC"
   },
   "source": [
    "## evaluation"
   ]
  },
  {
   "cell_type": "markdown",
   "metadata": {
    "id": "mnIyzrtaLFNE"
   },
   "source": [
    "Accuracy vs Epochs"
   ]
  },
  {
   "cell_type": "code",
   "execution_count": null,
   "metadata": {
    "colab": {
     "base_uri": "https://localhost:8080/",
     "height": 406
    },
    "id": "1F65_CmdLFNE",
    "outputId": "f73f0a88-f5d7-4882-d86e-0353046d78a7"
   },
   "outputs": [
    {
     "data": {
      "text/plain": [
       "<matplotlib.legend.Legend at 0x7fe265f1cf98>"
      ]
     },
     "execution_count": 42,
     "metadata": {
      "tags": []
     },
     "output_type": "execute_result"
    },
    {
     "data": {
      "image/png": "[encoded data removed]",
      "text/plain": [
       "<Figure size 1152x432 with 2 Axes>"
      ]
     },
     "metadata": {
      "needs_background": "light",
      "tags": []
     },
     "output_type": "display_data"
    }
   ],
   "source": [
    "fig, ax = plt.subplots(nrows=1, ncols=2, figsize=(16, 6))\n",
    "\n",
    "ax[0].plot(model_fit.history['accuracy'], label='accuracy')\n",
    "ax[0].plot(model_fit.history['val_accuracy'], label='val_accuracy')\n",
    "ax[0].set_xlabel('Epoch')\n",
    "ax[0].set_ylabel('Accuracy')\n",
    "ax[0].legend()\n",
    "\n",
    "ax[1].plot(model_fit.history['loss'], label='loss')\n",
    "ax[1].plot(model_fit.history['val_loss'], label='val_loss')\n",
    "ax[1].set_xlabel('Epoch')\n",
    "ax[1].set_ylabel('Loss')\n",
    "ax[1].legend()"
   ]
  },
  {
   "cell_type": "code",
   "execution_count": null,
   "metadata": {
    "colab": {
     "base_uri": "https://localhost:8080/"
    },
    "id": "iMAnL6lZLFNF",
    "outputId": "65c9368a-da77-46bb-d83a-520bc1a8d333"
   },
   "outputs": [
    {
     "name": "stdout",
     "output_type": "stream",
     "text": [
      "6/6 [==============================] - 2s 310ms/step - loss: 1.6347 - accuracy: 0.5632\n"
     ]
    },
    {
     "data": {
      "text/plain": [
       "[1.6347458362579346, 0.5631579160690308]"
      ]
     },
     "execution_count": 43,
     "metadata": {
      "tags": []
     },
     "output_type": "execute_result"
    }
   ],
   "source": [
    "prediction = model.evaluate(test_set)\n",
    "prediction"
   ]
  },
  {
   "cell_type": "code",
   "execution_count": null,
   "metadata": {
    "id": "a-cdcKpeLFNF"
   },
   "outputs": [],
   "source": [
    "predicted_probabilities = model.predict(test_set)"
   ]
  },
  {
   "cell_type": "code",
   "execution_count": null,
   "metadata": {
    "id": "Km4DxywILFNF"
   },
   "outputs": [],
   "source": [
    "l=[]\n",
    "for proba in predicted_probabilities:\n",
    "  l.append(np.argmax(proba))\n",
    "\n",
    "predicted_classes = np.array(l)"
   ]
  },
  {
   "cell_type": "code",
   "execution_count": null,
   "metadata": {
    "colab": {
     "base_uri": "https://localhost:8080/"
    },
    "id": "WfZws-O5LFNG",
    "outputId": "ab431f2f-3fff-487a-c0e6-d8b634b03851"
   },
   "outputs": [
    {
     "data": {
      "text/plain": [
       "0.5631578947368421"
      ]
     },
     "execution_count": 46,
     "metadata": {
      "tags": []
     },
     "output_type": "execute_result"
    }
   ],
   "source": [
    "from sklearn.metrics import accuracy_score, classification_report\n",
    "accuracy_score(predicted_classes, test_set.classes)"
   ]
  },
  {
   "cell_type": "code",
   "execution_count": null,
   "metadata": {
    "colab": {
     "base_uri": "https://localhost:8080/",
     "height": 107
    },
    "id": "DLd5o0RgLFNG",
    "outputId": "dbb11db7-6a75-47ca-ad18-49853cb36e9d"
   },
   "outputs": [
    {
     "data": {
      "application/vnd.google.colaboratory.intrinsic+json": {
       "type": "string"
      },
      "text/plain": [
       "'              precision    recall  f1-score   support\\n\\n           0       0.35      0.43      0.39        14\\n           1       0.31      0.56      0.40         9\\n           2       0.40      0.67      0.50        12\\n           3       0.45      0.47      0.46        19\\n           4       0.83      1.00      0.91        20\\n           5       0.44      1.00      0.62         8\\n           6       0.76      0.80      0.78        20\\n           7       0.62      0.40      0.49        25\\n           8       0.61      0.46      0.52        24\\n           9       0.70      0.36      0.47        39\\n\\n    accuracy                           0.56       190\\n   macro avg       0.55      0.61      0.55       190\\nweighted avg       0.60      0.56      0.56       190\\n'"
      ]
     },
     "execution_count": 47,
     "metadata": {
      "tags": []
     },
     "output_type": "execute_result"
    }
   ],
   "source": [
    "classification_report(predicted_classes, test_set.classes)"
   ]
  },
  {
   "cell_type": "markdown",
   "metadata": {
    "id": "ysBZcwLCUvDN"
   },
   "source": [
    "# Inception_V3 10 breeds"
   ]
  },
  {
   "cell_type": "markdown",
   "metadata": {
    "id": "Nh_nHMZAUvDW"
   },
   "source": [
    "## Data preprocessing"
   ]
  },
  {
   "cell_type": "code",
   "execution_count": null,
   "metadata": {
    "id": "TuCXmBHiUvDX"
   },
   "outputs": [],
   "source": [
    "train_datagen = ImageDataGenerator(rescale = 1./255,\n",
    "                                   rotation_range=40,\n",
    "                                   width_shift_range=0.2,\n",
    "                                   height_shift_range=0.2,\n",
    "                                   shear_range = 0.2,\n",
    "                                   zoom_range = 0.2,\n",
    "                                   horizontal_flip = True,\n",
    "                                   fill_mode='nearest'\n",
    "                                   )\n",
    " \n",
    "val_datagen = ImageDataGenerator(rescale = 1./255)\n",
    "test_datagen = ImageDataGenerator(rescale = 1./255)"
   ]
  },
  {
   "cell_type": "code",
   "execution_count": null,
   "metadata": {
    "colab": {
     "base_uri": "https://localhost:8080/"
    },
    "id": "tWySDVNkUvDX",
    "outputId": "c6723a9a-b54c-4176-d3bc-4d497ce30914"
   },
   "outputs": [
    {
     "name": "stdout",
     "output_type": "stream",
     "text": [
      "Found 1447 images belonging to 10 classes.\n"
     ]
    }
   ],
   "source": [
    "training_set = train_datagen.flow_from_directory('train',\n",
    "                                                 target_size = (299, 299),\n",
    "                                                 batch_size = 32,\n",
    "                                                 class_mode = 'categorical')"
   ]
  },
  {
   "cell_type": "code",
   "execution_count": null,
   "metadata": {
    "colab": {
     "base_uri": "https://localhost:8080/"
    },
    "id": "qexwEi5YUvDY",
    "outputId": "8f5b5a80-e890-4a00-9131-b6ac782d057a"
   },
   "outputs": [
    {
     "name": "stdout",
     "output_type": "stream",
     "text": [
      "Found 177 images belonging to 10 classes.\n"
     ]
    }
   ],
   "source": [
    "validation_set = val_datagen.flow_from_directory('val',\n",
    "                                                 target_size = (299, 299),\n",
    "                                                 batch_size = 32,\n",
    "                                                 class_mode = 'categorical')"
   ]
  },
  {
   "cell_type": "code",
   "execution_count": null,
   "metadata": {
    "colab": {
     "base_uri": "https://localhost:8080/"
    },
    "id": "Ko6oKJi-UvDY",
    "outputId": "09599e22-c431-4ce9-dce8-1c4f3276b3a1"
   },
   "outputs": [
    {
     "name": "stdout",
     "output_type": "stream",
     "text": [
      "Found 190 images belonging to 10 classes.\n"
     ]
    }
   ],
   "source": [
    "test_set = test_datagen.flow_from_directory('test',\n",
    "                                                 target_size = (299, 299),\n",
    "                                                 batch_size = 32,\n",
    "                                                 class_mode = 'categorical',\n",
    "                                                 shuffle=False)"
   ]
  },
  {
   "cell_type": "markdown",
   "metadata": {
    "id": "rFfNLbikUvDY"
   },
   "source": [
    "## model"
   ]
  },
  {
   "cell_type": "markdown",
   "metadata": {
    "id": "cH0tf5XPUvDZ"
   },
   "source": [
    "Inception V3 model with pre-trained weights"
   ]
  },
  {
   "cell_type": "code",
   "execution_count": null,
   "metadata": {
    "colab": {
     "base_uri": "https://localhost:8080/"
    },
    "id": "cTqbT1m6UvDZ",
    "outputId": "71b6d18e-3d4d-41bb-c30c-4c18dfbdfd8a"
   },
   "outputs": [
    {
     "name": "stdout",
     "output_type": "stream",
     "text": [
      "Downloading data from https://storage.googleapis.com/tensorflow/keras-applications/inception_v3/inception_v3_weights_tf_dim_ordering_tf_kernels_notop.h5\n",
      "87916544/87910968 [==============================] - 4s 0us/step\n"
     ]
    }
   ],
   "source": [
    "base_model = keras.applications.InceptionV3(\n",
    "    weights='imagenet',  # Load weights pre-trained on ImageNet.\n",
    "    input_shape=(299, 299, 3),\n",
    "    include_top=False)  # Do not include the ImageNet classifier at the top."
   ]
  },
  {
   "cell_type": "markdown",
   "metadata": {
    "id": "Vq5u0zAKUvDZ"
   },
   "source": [
    "Freeze the base model"
   ]
  },
  {
   "cell_type": "code",
   "execution_count": null,
   "metadata": {
    "id": "ClAKe1SIUvDZ"
   },
   "outputs": [],
   "source": [
    "base_model.trainable = False"
   ]
  },
  {
   "cell_type": "markdown",
   "metadata": {
    "id": "TAUZgtIPUvDa"
   },
   "source": [
    "Create new model on top"
   ]
  },
  {
   "cell_type": "code",
   "execution_count": null,
   "metadata": {
    "id": "gPeib1u0UvDa"
   },
   "outputs": [],
   "source": [
    "inputs = keras.Input(shape=(299, 299, 3))\n",
    "# We make sure that the base_model is running in inference mode here,\n",
    "# by passing `training=False`.\n",
    "x = tf.keras.applications.inception_v3.preprocess_input(inputs)\n",
    "x = base_model(inputs, training=False)\n",
    "# Convert features of shape `base_model.output_shape[1:]` to vectors\n",
    "x = keras.layers.Flatten()(x)\n",
    "# A Dense classifier (10 class)\n",
    "outputs = keras.layers.Dense(10, activation='softmax')(x)\n",
    "model = keras.Model(inputs, outputs)"
   ]
  },
  {
   "cell_type": "code",
   "execution_count": null,
   "metadata": {
    "colab": {
     "base_uri": "https://localhost:8080/"
    },
    "id": "lOpo_Qh2UvDa",
    "outputId": "4e1166ee-3c60-4c85-ace5-39cae1d6580a"
   },
   "outputs": [
    {
     "name": "stdout",
     "output_type": "stream",
     "text": [
      "Model: \"model_4\"\n",
      "_________________________________________________________________\n",
      "Layer (type)                 Output Shape              Param #   \n",
      "=================================================================\n",
      "input_11 (InputLayer)        [(None, 299, 299, 3)]     0         \n",
      "_________________________________________________________________\n",
      "inception_v3 (Functional)    (None, 8, 8, 2048)        21802784  \n",
      "_________________________________________________________________\n",
      "flatten_4 (Flatten)          (None, 131072)            0         \n",
      "_________________________________________________________________\n",
      "dense_4 (Dense)              (None, 10)                1310730   \n",
      "=================================================================\n",
      "Total params: 23,113,514\n",
      "Trainable params: 1,310,730\n",
      "Non-trainable params: 21,802,784\n",
      "_________________________________________________________________\n"
     ]
    }
   ],
   "source": [
    "model.summary()"
   ]
  },
  {
   "cell_type": "markdown",
   "metadata": {
    "id": "06OpbP_AUvDa"
   },
   "source": [
    "Train the model on new data"
   ]
  },
  {
   "cell_type": "code",
   "execution_count": null,
   "metadata": {
    "id": "OxOHzAAQUvDa"
   },
   "outputs": [],
   "source": [
    "model.compile(optimizer='rmsprop',\n",
    "              loss='categorical_crossentropy',\n",
    "              metrics=['accuracy'])"
   ]
  },
  {
   "cell_type": "code",
   "execution_count": null,
   "metadata": {
    "colab": {
     "base_uri": "https://localhost:8080/"
    },
    "id": "XdUCQ8v7UvDb",
    "outputId": "1490f03d-ea29-488e-ca09-b19fdab64e22"
   },
   "outputs": [
    {
     "name": "stdout",
     "output_type": "stream",
     "text": [
      "Epoch 1/100\n",
      "46/46 [==============================] - 42s 798ms/step - loss: 28.6027 - accuracy: 0.4767 - val_loss: 0.9142 - val_accuracy: 0.9266\n",
      "Epoch 2/100\n",
      "46/46 [==============================] - 35s 761ms/step - loss: 3.4432 - accuracy: 0.8468 - val_loss: 0.5337 - val_accuracy: 0.9605\n",
      "Epoch 3/100\n",
      "46/46 [==============================] - 35s 756ms/step - loss: 3.7485 - accuracy: 0.8696 - val_loss: 2.2657 - val_accuracy: 0.9096\n",
      "Epoch 4/100\n",
      "46/46 [==============================] - 35s 758ms/step - loss: 4.0343 - accuracy: 0.8648 - val_loss: 0.8489 - val_accuracy: 0.9548\n",
      "Epoch 5/100\n",
      "46/46 [==============================] - 35s 754ms/step - loss: 3.5280 - accuracy: 0.8990 - val_loss: 0.5466 - val_accuracy: 0.9435\n",
      "Epoch 6/100\n",
      "46/46 [==============================] - 35s 751ms/step - loss: 3.3667 - accuracy: 0.8971 - val_loss: 2.9972 - val_accuracy: 0.9266\n",
      "Epoch 7/100\n",
      "46/46 [==============================] - 35s 753ms/step - loss: 3.2094 - accuracy: 0.9033 - val_loss: 1.5101 - val_accuracy: 0.9435\n"
     ]
    }
   ],
   "source": [
    "from keras import callbacks \n",
    "earlystopping = callbacks.EarlyStopping(monitor =\"val_loss\",  \n",
    "                                        mode =\"min\", patience = 5,  \n",
    "                                        restore_best_weights = True\n",
    "                                        )\n",
    "model_fit = model.fit(training_set, epochs=100,\n",
    "          callbacks=[earlystopping], \n",
    "          validation_data=validation_set)"
   ]
  },
  {
   "cell_type": "markdown",
   "metadata": {
    "id": "hgyV2kOoUvDb"
   },
   "source": [
    "## evaluation"
   ]
  },
  {
   "cell_type": "markdown",
   "metadata": {
    "id": "HcvTLzdgUvDb"
   },
   "source": [
    "Accuracy vs Epochs"
   ]
  },
  {
   "cell_type": "code",
   "execution_count": null,
   "metadata": {
    "colab": {
     "base_uri": "https://localhost:8080/",
     "height": 406
    },
    "id": "-npahwtcUvDb",
    "outputId": "cd31ad74-667a-4db6-e33f-e4e65fdb622a"
   },
   "outputs": [
    {
     "data": {
      "text/plain": [
       "<matplotlib.legend.Legend at 0x7fe485cb7b38>"
      ]
     },
     "execution_count": 73,
     "metadata": {
      "tags": []
     },
     "output_type": "execute_result"
    },
    {
     "data": {
      "image/png": "[encoded data removed]",
      "text/plain": [
       "<Figure size 1152x432 with 2 Axes>"
      ]
     },
     "metadata": {
      "needs_background": "light",
      "tags": []
     },
     "output_type": "display_data"
    }
   ],
   "source": [
    "fig, ax = plt.subplots(nrows=1, ncols=2, figsize=(16, 6))\n",
    "\n",
    "ax[0].plot(model_fit.history['accuracy'], label='accuracy')\n",
    "ax[0].plot(model_fit.history['val_accuracy'], label='val_accuracy')\n",
    "ax[0].set_xlabel('Epoch')\n",
    "ax[0].set_ylabel('Accuracy')\n",
    "ax[0].legend()\n",
    "\n",
    "ax[1].plot(model_fit.history['loss'], label='loss')\n",
    "ax[1].plot(model_fit.history['val_loss'], label='val_loss')\n",
    "ax[1].set_xlabel('Epoch')\n",
    "ax[1].set_ylabel('Loss')\n",
    "ax[1].legend()"
   ]
  },
  {
   "cell_type": "code",
   "execution_count": null,
   "metadata": {
    "colab": {
     "base_uri": "https://localhost:8080/"
    },
    "id": "LWcQQZ-pUvDb",
    "outputId": "f4fe88d7-75ee-4ac7-e084-27c66ee51bc9"
   },
   "outputs": [
    {
     "name": "stdout",
     "output_type": "stream",
     "text": [
      "6/6 [==============================] - 2s 309ms/step - loss: 1.2644 - accuracy: 0.9421\n"
     ]
    },
    {
     "data": {
      "text/plain": [
       "[1.2644081115722656, 0.942105233669281]"
      ]
     },
     "execution_count": 74,
     "metadata": {
      "tags": []
     },
     "output_type": "execute_result"
    }
   ],
   "source": [
    "prediction = model.evaluate(test_set)\n",
    "prediction"
   ]
  },
  {
   "cell_type": "code",
   "execution_count": null,
   "metadata": {
    "id": "mvAXViJHUvDc"
   },
   "outputs": [],
   "source": [
    "predicted_probabilities = model.predict(test_set)"
   ]
  },
  {
   "cell_type": "code",
   "execution_count": null,
   "metadata": {
    "id": "rb2uBw7gUvDc"
   },
   "outputs": [],
   "source": [
    "l=[]\n",
    "for proba in predicted_probabilities:\n",
    "  l.append(np.argmax(proba))\n",
    "\n",
    "predicted_classes = np.array(l)"
   ]
  },
  {
   "cell_type": "code",
   "execution_count": null,
   "metadata": {
    "colab": {
     "base_uri": "https://localhost:8080/"
    },
    "id": "4Fp2Aco5UvDc",
    "outputId": "cb85fabf-baa8-4451-d3b3-84e64290718b"
   },
   "outputs": [
    {
     "data": {
      "text/plain": [
       "0.9421052631578948"
      ]
     },
     "execution_count": 77,
     "metadata": {
      "tags": []
     },
     "output_type": "execute_result"
    }
   ],
   "source": [
    "from sklearn.metrics import accuracy_score, classification_report\n",
    "accuracy_score(predicted_classes, test_set.classes)"
   ]
  },
  {
   "cell_type": "code",
   "execution_count": null,
   "metadata": {
    "colab": {
     "base_uri": "https://localhost:8080/",
     "height": 107
    },
    "id": "H9vchIZsUvDc",
    "outputId": "8da0004c-ca8d-4d15-c86e-ab357fb20ff3"
   },
   "outputs": [
    {
     "data": {
      "application/vnd.google.colaboratory.intrinsic+json": {
       "type": "string"
      },
      "text/plain": [
       "'              precision    recall  f1-score   support\\n\\n           0       0.94      0.84      0.89        19\\n           1       0.94      0.79      0.86        19\\n           2       0.95      1.00      0.97        19\\n           3       0.95      1.00      0.97        19\\n           4       1.00      1.00      1.00        24\\n           5       1.00      1.00      1.00        18\\n           6       0.95      1.00      0.98        20\\n           7       1.00      1.00      1.00        16\\n           8       0.72      0.93      0.81        14\\n           9       0.95      0.86      0.90        22\\n\\n    accuracy                           0.94       190\\n   macro avg       0.94      0.94      0.94       190\\nweighted avg       0.95      0.94      0.94       190\\n'"
      ]
     },
     "execution_count": 78,
     "metadata": {
      "tags": []
     },
     "output_type": "execute_result"
    }
   ],
   "source": [
    "classification_report(predicted_classes, test_set.classes)"
   ]
  },
  {
   "cell_type": "markdown",
   "metadata": {
    "id": "TCb0WTiQoJZ4"
   },
   "source": [
    "Xception and Inception V3 are by far outperforming VGG16. In the next section I will then be focusing on these two models only:\n",
    "\n",
    "* Hyperparameter tuning (Flatten vs GAP, Optimizers)\n",
    "* Fine-tuning"
   ]
  },
  {
   "cell_type": "markdown",
   "metadata": {
    "id": "obXsiCqBf38x"
   },
   "source": [
    "# Xception 10 breeds Optim"
   ]
  },
  {
   "cell_type": "markdown",
   "metadata": {
    "id": "PpkHjyEDfmNR"
   },
   "source": [
    "## **Flatten vs GlobalAveragePooling with RMSProp**"
   ]
  },
  {
   "cell_type": "markdown",
   "metadata": {
    "id": "M2UISocMos9W"
   },
   "source": [
    "Here, I am updating the previous Xception model by changing only Flatten with Global Average Pooling. "
   ]
  },
  {
   "cell_type": "markdown",
   "metadata": {
    "id": "K0syK3yDf38y"
   },
   "source": [
    "**Data preprocessing**"
   ]
  },
  {
   "cell_type": "code",
   "execution_count": null,
   "metadata": {
    "id": "KmPQxX1df38z"
   },
   "outputs": [],
   "source": [
    "train_datagen = ImageDataGenerator(rescale = 1./255,\n",
    "                                  rotation_range=40,\n",
    "                                   width_shift_range=0.2,\n",
    "                                   height_shift_range=0.2,\n",
    "                                   shear_range = 0.2,\n",
    "                                   zoom_range = 0.2,\n",
    "                                   horizontal_flip = True,\n",
    "                                   fill_mode='nearest'\n",
    "                                   )\n",
    " \n",
    "val_datagen = ImageDataGenerator(rescale = 1./255)\n",
    "test_datagen = ImageDataGenerator(rescale = 1./255)"
   ]
  },
  {
   "cell_type": "code",
   "execution_count": null,
   "metadata": {
    "colab": {
     "base_uri": "https://localhost:8080/"
    },
    "id": "NtGHDgVyf380",
    "outputId": "08e7d827-ef4a-45f6-d672-c8457c43a28a"
   },
   "outputs": [
    {
     "name": "stdout",
     "output_type": "stream",
     "text": [
      "Found 1447 images belonging to 10 classes.\n"
     ]
    }
   ],
   "source": [
    "training_set = train_datagen.flow_from_directory('train',\n",
    "                                                 target_size = (299, 299),\n",
    "                                                 batch_size = 32,\n",
    "                                                 class_mode = 'categorical')"
   ]
  },
  {
   "cell_type": "code",
   "execution_count": null,
   "metadata": {
    "colab": {
     "base_uri": "https://localhost:8080/"
    },
    "id": "kvUnpg7ef381",
    "outputId": "2eadf46d-3cbe-4057-9e67-9e23d87741fa"
   },
   "outputs": [
    {
     "name": "stdout",
     "output_type": "stream",
     "text": [
      "Found 177 images belonging to 10 classes.\n"
     ]
    }
   ],
   "source": [
    "validation_set = val_datagen.flow_from_directory('val',\n",
    "                                                 target_size = (299, 299),\n",
    "                                                 batch_size = 32,\n",
    "                                                 class_mode = 'categorical')"
   ]
  },
  {
   "cell_type": "code",
   "execution_count": null,
   "metadata": {
    "colab": {
     "base_uri": "https://localhost:8080/"
    },
    "id": "1_9l2Qlaf381",
    "outputId": "44a468be-9261-4040-e3ca-1695c81d79de"
   },
   "outputs": [
    {
     "data": {
      "text/plain": [
       "['American_Staffordshire_terrier',\n",
       " 'Chihuahua',\n",
       " 'Ibizan_hound',\n",
       " 'Saluki',\n",
       " 'Scottish_deerhound',\n",
       " 'basset',\n",
       " 'papillon',\n",
       " 'redbone',\n",
       " 'toy_terrier',\n",
       " 'whippet']"
      ]
     },
     "execution_count": 92,
     "metadata": {
      "tags": []
     },
     "output_type": "execute_result"
    }
   ],
   "source": [
    "list(training_set.class_indices.keys())"
   ]
  },
  {
   "cell_type": "markdown",
   "metadata": {
    "id": "WOxDdI-hf382"
   },
   "source": [
    "**model**"
   ]
  },
  {
   "cell_type": "markdown",
   "metadata": {
    "id": "yn2omrIdf383"
   },
   "source": [
    "Xception model with pre-trained weights"
   ]
  },
  {
   "cell_type": "code",
   "execution_count": null,
   "metadata": {
    "id": "BklrUlgaf383"
   },
   "outputs": [],
   "source": [
    "base_model = keras.applications.Xception(\n",
    "    weights='imagenet',  # Load weights pre-trained on ImageNet.\n",
    "    input_shape=(299, 299, 3),\n",
    "    include_top=False)  # Do not include the ImageNet classifier at the top."
   ]
  },
  {
   "cell_type": "markdown",
   "metadata": {
    "id": "XU4ZQeB9f384"
   },
   "source": [
    "Freeze the base model"
   ]
  },
  {
   "cell_type": "code",
   "execution_count": null,
   "metadata": {
    "id": "KLTcx6Unf384"
   },
   "outputs": [],
   "source": [
    "base_model.trainable = False"
   ]
  },
  {
   "cell_type": "markdown",
   "metadata": {
    "id": "acxE25pcf385"
   },
   "source": [
    "Create new model on top"
   ]
  },
  {
   "cell_type": "code",
   "execution_count": null,
   "metadata": {
    "id": "xNb4CZ75f385"
   },
   "outputs": [],
   "source": [
    "inputs = keras.Input(shape=(299, 299, 3))\n",
    "# We make sure that the base_model is running in inference mode here,\n",
    "# by passing `training=False`.\n",
    "x = tf.keras.applications.inception_v3.preprocess_input(inputs)\n",
    "x = base_model(inputs, training=False)\n",
    "# Convert features of shape `base_model.output_shape[1:]` to vectors\n",
    "x = keras.layers.GlobalAveragePooling2D()(x)\n",
    "# x = keras.layers.Dense(32, activation='relu')\n",
    "# A Dense classifier (10 class)\n",
    "outputs = keras.layers.Dense(10, activation='softmax')(x)\n",
    "model = keras.Model(inputs, outputs)"
   ]
  },
  {
   "cell_type": "code",
   "execution_count": null,
   "metadata": {
    "colab": {
     "base_uri": "https://localhost:8080/"
    },
    "id": "6QLytEQQf386",
    "outputId": "6949f11b-d577-4b82-f620-2921f1886b3c"
   },
   "outputs": [
    {
     "name": "stdout",
     "output_type": "stream",
     "text": [
      "Model: \"model_6\"\n",
      "_________________________________________________________________\n",
      "Layer (type)                 Output Shape              Param #   \n",
      "=================================================================\n",
      "input_15 (InputLayer)        [(None, 299, 299, 3)]     0         \n",
      "_________________________________________________________________\n",
      "xception (Functional)        (None, 10, 10, 2048)      20861480  \n",
      "_________________________________________________________________\n",
      "global_average_pooling2d (Gl (None, 2048)              0         \n",
      "_________________________________________________________________\n",
      "dense_6 (Dense)              (None, 10)                20490     \n",
      "=================================================================\n",
      "Total params: 20,881,970\n",
      "Trainable params: 20,490\n",
      "Non-trainable params: 20,861,480\n",
      "_________________________________________________________________\n"
     ]
    }
   ],
   "source": [
    "model.summary()"
   ]
  },
  {
   "cell_type": "markdown",
   "metadata": {
    "id": "qUwKry8sf387"
   },
   "source": [
    "Train the model on new data"
   ]
  },
  {
   "cell_type": "code",
   "execution_count": null,
   "metadata": {
    "id": "3Ubp5ZIJf388"
   },
   "outputs": [],
   "source": [
    "model.compile(optimizer='rmsprop',\n",
    "              loss='categorical_crossentropy',\n",
    "              metrics=['accuracy'])"
   ]
  },
  {
   "cell_type": "code",
   "execution_count": null,
   "metadata": {
    "colab": {
     "base_uri": "https://localhost:8080/"
    },
    "id": "cg0pj_1mf388",
    "outputId": "2b55eee3-bedc-4ed1-c59e-28bf009990ea"
   },
   "outputs": [
    {
     "name": "stdout",
     "output_type": "stream",
     "text": [
      "Epoch 1/100\n",
      "46/46 [==============================] - 40s 805ms/step - loss: 1.2854 - accuracy: 0.6937 - val_loss: 0.2827 - val_accuracy: 0.9548\n",
      "Epoch 2/100\n",
      "46/46 [==============================] - 36s 785ms/step - loss: 0.3347 - accuracy: 0.9263 - val_loss: 0.1560 - val_accuracy: 0.9548\n",
      "Epoch 3/100\n",
      "46/46 [==============================] - 36s 786ms/step - loss: 0.2035 - accuracy: 0.9392 - val_loss: 0.1255 - val_accuracy: 0.9605\n",
      "Epoch 4/100\n",
      "46/46 [==============================] - 36s 783ms/step - loss: 0.1675 - accuracy: 0.9527 - val_loss: 0.1167 - val_accuracy: 0.9548\n",
      "Epoch 5/100\n",
      "46/46 [==============================] - 36s 785ms/step - loss: 0.1613 - accuracy: 0.9522 - val_loss: 0.1079 - val_accuracy: 0.9548\n",
      "Epoch 6/100\n",
      "46/46 [==============================] - 36s 787ms/step - loss: 0.1213 - accuracy: 0.9628 - val_loss: 0.1114 - val_accuracy: 0.9548\n",
      "Epoch 7/100\n",
      "46/46 [==============================] - 36s 784ms/step - loss: 0.1173 - accuracy: 0.9605 - val_loss: 0.1031 - val_accuracy: 0.9548\n",
      "Epoch 8/100\n",
      "46/46 [==============================] - 36s 777ms/step - loss: 0.1147 - accuracy: 0.9617 - val_loss: 0.1092 - val_accuracy: 0.9661\n",
      "Epoch 9/100\n",
      "46/46 [==============================] - 36s 774ms/step - loss: 0.1215 - accuracy: 0.9682 - val_loss: 0.1060 - val_accuracy: 0.9548\n",
      "Epoch 10/100\n",
      "46/46 [==============================] - 36s 773ms/step - loss: 0.1042 - accuracy: 0.9687 - val_loss: 0.1109 - val_accuracy: 0.9718\n",
      "Epoch 11/100\n",
      "46/46 [==============================] - 36s 770ms/step - loss: 0.1210 - accuracy: 0.9622 - val_loss: 0.1121 - val_accuracy: 0.9548\n",
      "Epoch 12/100\n",
      "46/46 [==============================] - 36s 774ms/step - loss: 0.1111 - accuracy: 0.9617 - val_loss: 0.1068 - val_accuracy: 0.9661\n"
     ]
    }
   ],
   "source": [
    "from keras import callbacks \n",
    "earlystopping = callbacks.EarlyStopping(monitor =\"val_loss\",  \n",
    "                                        mode =\"min\", patience = 5,  \n",
    "                                        restore_best_weights = True\n",
    "                                        )\n",
    "model_fit = model.fit(training_set, epochs=100,\n",
    "          callbacks=[earlystopping], \n",
    "          validation_data=validation_set)"
   ]
  },
  {
   "cell_type": "markdown",
   "metadata": {
    "id": "quu6bG7sf389"
   },
   "source": [
    "**evaluation**"
   ]
  },
  {
   "cell_type": "markdown",
   "metadata": {
    "id": "SVAZSSL5f389"
   },
   "source": [
    "Accuracy vs Epochs"
   ]
  },
  {
   "cell_type": "code",
   "execution_count": null,
   "metadata": {
    "colab": {
     "base_uri": "https://localhost:8080/",
     "height": 406
    },
    "id": "C3MfzlgQf389",
    "outputId": "413c8629-4b49-4da2-f4c4-cf778654cf73"
   },
   "outputs": [
    {
     "data": {
      "text/plain": [
       "<matplotlib.legend.Legend at 0x7fe485996b38>"
      ]
     },
     "execution_count": 99,
     "metadata": {
      "tags": []
     },
     "output_type": "execute_result"
    },
    {
     "data": {
      "image/png": "[encoded data removed]",
      "text/plain": [
       "<Figure size 1152x432 with 2 Axes>"
      ]
     },
     "metadata": {
      "needs_background": "light",
      "tags": []
     },
     "output_type": "display_data"
    }
   ],
   "source": [
    "fig, ax = plt.subplots(nrows=1, ncols=2, figsize=(16, 6))\n",
    "\n",
    "ax[0].plot(model_fit.history['accuracy'], label='accuracy')\n",
    "ax[0].plot(model_fit.history['val_accuracy'], label='val_accuracy')\n",
    "ax[0].set_xlabel('Epoch')\n",
    "ax[0].set_ylabel('Accuracy')\n",
    "ax[0].legend()\n",
    "\n",
    "ax[1].plot(model_fit.history['loss'], label='loss')\n",
    "ax[1].plot(model_fit.history['val_loss'], label='val_loss')\n",
    "ax[1].set_xlabel('Epoch')\n",
    "ax[1].set_ylabel('Loss')\n",
    "ax[1].legend()"
   ]
  },
  {
   "cell_type": "code",
   "execution_count": null,
   "metadata": {
    "colab": {
     "base_uri": "https://localhost:8080/"
    },
    "id": "7FW-uAOMf38-",
    "outputId": "f8cecf5b-9990-440d-91ba-215cc016f5bd"
   },
   "outputs": [
    {
     "name": "stdout",
     "output_type": "stream",
     "text": [
      "Found 190 images belonging to 10 classes.\n"
     ]
    }
   ],
   "source": [
    "test_datagen = ImageDataGenerator(rescale = 1./255)\n",
    "\n",
    "test_set = test_datagen.flow_from_directory('test',\n",
    "                                                 target_size = (299, 299),\n",
    "                                                 batch_size = 32,\n",
    "                                                 class_mode = 'categorical',\n",
    "                                            shuffle=False)"
   ]
  },
  {
   "cell_type": "code",
   "execution_count": null,
   "metadata": {
    "colab": {
     "base_uri": "https://localhost:8080/"
    },
    "id": "scYdUuGaf38-",
    "outputId": "b4fcb6b2-8c92-4f4b-dd9b-98438af41181"
   },
   "outputs": [
    {
     "name": "stdout",
     "output_type": "stream",
     "text": [
      "6/6 [==============================] - 1s 217ms/step - loss: 0.0680 - accuracy: 0.9842\n"
     ]
    },
    {
     "data": {
      "text/plain": [
       "[0.06799543648958206, 0.9842105507850647]"
      ]
     },
     "execution_count": 101,
     "metadata": {
      "tags": []
     },
     "output_type": "execute_result"
    }
   ],
   "source": [
    "prediction = model.evaluate(test_set)\n",
    "prediction"
   ]
  },
  {
   "cell_type": "code",
   "execution_count": null,
   "metadata": {
    "id": "T44_WlyWf38_"
   },
   "outputs": [],
   "source": [
    "predicted_probabilities = model.predict(test_set)"
   ]
  },
  {
   "cell_type": "code",
   "execution_count": null,
   "metadata": {
    "id": "baIMXR5cf38_"
   },
   "outputs": [],
   "source": [
    "l=[]\n",
    "for proba in predicted_probabilities:\n",
    "  l.append(np.argmax(proba))\n",
    "predicted_classes = np.array(l)"
   ]
  },
  {
   "cell_type": "code",
   "execution_count": null,
   "metadata": {
    "colab": {
     "base_uri": "https://localhost:8080/"
    },
    "id": "B8HJBG-cf38_",
    "outputId": "54a330df-7597-45c4-c02a-cdd96571b23f"
   },
   "outputs": [
    {
     "data": {
      "text/plain": [
       "0.9842105263157894"
      ]
     },
     "execution_count": 104,
     "metadata": {
      "tags": []
     },
     "output_type": "execute_result"
    }
   ],
   "source": [
    "from sklearn.metrics import accuracy_score, classification_report\n",
    "accuracy_score(predicted_classes, test_set.classes)"
   ]
  },
  {
   "cell_type": "code",
   "execution_count": null,
   "metadata": {
    "colab": {
     "base_uri": "https://localhost:8080/",
     "height": 107
    },
    "id": "3xXK1U7Nf39A",
    "outputId": "204ba0ee-5c4c-4b9b-a407-7052bbacfdba"
   },
   "outputs": [
    {
     "data": {
      "application/vnd.google.colaboratory.intrinsic+json": {
       "type": "string"
      },
      "text/plain": [
       "'              precision    recall  f1-score   support\\n\\n           0       0.94      1.00      0.97        16\\n           1       1.00      0.94      0.97        17\\n           2       1.00      0.95      0.98        21\\n           3       0.95      1.00      0.97        19\\n           4       1.00      1.00      1.00        24\\n           5       1.00      1.00      1.00        18\\n           6       1.00      1.00      1.00        21\\n           7       1.00      1.00      1.00        16\\n           8       0.94      1.00      0.97        17\\n           9       1.00      0.95      0.98        21\\n\\n    accuracy                           0.98       190\\n   macro avg       0.98      0.98      0.98       190\\nweighted avg       0.99      0.98      0.98       190\\n'"
      ]
     },
     "execution_count": 105,
     "metadata": {
      "tags": []
     },
     "output_type": "execute_result"
    }
   ],
   "source": [
    "classification_report(predicted_classes, test_set.classes)"
   ]
  },
  {
   "cell_type": "markdown",
   "metadata": {
    "id": "2hD9rl9ojn0N"
   },
   "source": [
    "GlobalAveragePooling2D gives better results than Flatten. GAD2D will be used from now on. So far, I was using RMSProp optimizer by default for all models. I will now be testing 2 other optimizers in the next section."
   ]
  },
  {
   "cell_type": "markdown",
   "metadata": {
    "id": "1sNltK6ai-za"
   },
   "source": [
    "## Optimizers"
   ]
  },
  {
   "cell_type": "markdown",
   "metadata": {
    "id": "h4M3F-7HjBBM"
   },
   "source": [
    "I am comparing RMSProp with 2 other optimizers:\n",
    "\n",
    "*   SGD\n",
    "*   ADAM\n",
    "\n"
   ]
  },
  {
   "cell_type": "markdown",
   "metadata": {
    "id": "dN75ZGpJkgta"
   },
   "source": [
    "### **SGD**"
   ]
  },
  {
   "cell_type": "markdown",
   "metadata": {
    "id": "GZ63T9iTjZce"
   },
   "source": [
    "**Data preprocessing**"
   ]
  },
  {
   "cell_type": "code",
   "execution_count": null,
   "metadata": {
    "id": "wdEQELIvjZcf"
   },
   "outputs": [],
   "source": [
    "train_datagen = ImageDataGenerator(rescale = 1./255,\n",
    "                                  rotation_range=40,\n",
    "                                   width_shift_range=0.2,\n",
    "                                   height_shift_range=0.2,\n",
    "                                   shear_range = 0.2,\n",
    "                                   zoom_range = 0.2,\n",
    "                                   horizontal_flip = True,\n",
    "                                   fill_mode='nearest'\n",
    "                                   )\n",
    " \n",
    "val_datagen = ImageDataGenerator(rescale = 1./255)\n",
    "test_datagen = ImageDataGenerator(rescale = 1./255)"
   ]
  },
  {
   "cell_type": "code",
   "execution_count": null,
   "metadata": {
    "colab": {
     "base_uri": "https://localhost:8080/"
    },
    "id": "lCc3mXgLjZcf",
    "outputId": "02dbfd47-7875-4d70-f1ba-339b29bc94e5"
   },
   "outputs": [
    {
     "name": "stdout",
     "output_type": "stream",
     "text": [
      "Found 1447 images belonging to 10 classes.\n"
     ]
    }
   ],
   "source": [
    "training_set = train_datagen.flow_from_directory('train',\n",
    "                                                 target_size = (299, 299),\n",
    "                                                 batch_size = 32,\n",
    "                                                 class_mode = 'categorical')"
   ]
  },
  {
   "cell_type": "code",
   "execution_count": null,
   "metadata": {
    "colab": {
     "base_uri": "https://localhost:8080/"
    },
    "id": "i_SYoamvjZcg",
    "outputId": "fddef713-bb17-4099-8181-e2e95c9ae913"
   },
   "outputs": [
    {
     "name": "stdout",
     "output_type": "stream",
     "text": [
      "Found 177 images belonging to 10 classes.\n"
     ]
    }
   ],
   "source": [
    "validation_set = val_datagen.flow_from_directory('val',\n",
    "                                                 target_size = (299, 299),\n",
    "                                                 batch_size = 32,\n",
    "                                                 class_mode = 'categorical')"
   ]
  },
  {
   "cell_type": "code",
   "execution_count": null,
   "metadata": {
    "colab": {
     "base_uri": "https://localhost:8080/"
    },
    "id": "n51vMrehjZcg",
    "outputId": "66b4ec33-0731-4721-82d2-0cb701bdb7d4"
   },
   "outputs": [
    {
     "data": {
      "text/plain": [
       "['American_Staffordshire_terrier',\n",
       " 'Chihuahua',\n",
       " 'Ibizan_hound',\n",
       " 'Saluki',\n",
       " 'Scottish_deerhound',\n",
       " 'basset',\n",
       " 'papillon',\n",
       " 'redbone',\n",
       " 'toy_terrier',\n",
       " 'whippet']"
      ]
     },
     "execution_count": 109,
     "metadata": {
      "tags": []
     },
     "output_type": "execute_result"
    }
   ],
   "source": [
    "list(training_set.class_indices.keys())"
   ]
  },
  {
   "cell_type": "markdown",
   "metadata": {
    "id": "3DcySlEQjZch"
   },
   "source": [
    "**model**"
   ]
  },
  {
   "cell_type": "markdown",
   "metadata": {
    "id": "GehdnhOMjZch"
   },
   "source": [
    "Xception model with pre-trained weights"
   ]
  },
  {
   "cell_type": "code",
   "execution_count": null,
   "metadata": {
    "id": "f9cV-Q3ujZch"
   },
   "outputs": [],
   "source": [
    "base_model = keras.applications.Xception(\n",
    "    weights='imagenet',  # Load weights pre-trained on ImageNet.\n",
    "    input_shape=(299, 299, 3),\n",
    "    include_top=False)  # Do not include the ImageNet classifier at the top."
   ]
  },
  {
   "cell_type": "markdown",
   "metadata": {
    "id": "2QP17x5rjZci"
   },
   "source": [
    "Freeze the base model"
   ]
  },
  {
   "cell_type": "code",
   "execution_count": null,
   "metadata": {
    "id": "LcnTx5OpjZci"
   },
   "outputs": [],
   "source": [
    "base_model.trainable = False"
   ]
  },
  {
   "cell_type": "markdown",
   "metadata": {
    "id": "1_NO0mCQjZci"
   },
   "source": [
    "Create new model on top"
   ]
  },
  {
   "cell_type": "code",
   "execution_count": null,
   "metadata": {
    "id": "RgLmC7LRjZci"
   },
   "outputs": [],
   "source": [
    "inputs = keras.Input(shape=(299, 299, 3))\n",
    "# We make sure that the base_model is running in inference mode here,\n",
    "# by passing `training=False`.\n",
    "x = tf.keras.applications.inception_v3.preprocess_input(inputs)\n",
    "x = base_model(inputs, training=False)\n",
    "# Convert features of shape `base_model.output_shape[1:]` to vectors\n",
    "x = keras.layers.GlobalAveragePooling2D()(x)\n",
    "# x = keras.layers.Dense(32, activation='relu')\n",
    "# A Dense classifier (10 class)\n",
    "outputs = keras.layers.Dense(10, activation='softmax')(x)\n",
    "model = keras.Model(inputs, outputs)"
   ]
  },
  {
   "cell_type": "code",
   "execution_count": null,
   "metadata": {
    "colab": {
     "base_uri": "https://localhost:8080/"
    },
    "id": "rNzugEEzjZci",
    "outputId": "23d6fbd8-bdde-40fc-8444-94d1bb71447d"
   },
   "outputs": [
    {
     "name": "stdout",
     "output_type": "stream",
     "text": [
      "Model: \"model_7\"\n",
      "_________________________________________________________________\n",
      "Layer (type)                 Output Shape              Param #   \n",
      "=================================================================\n",
      "input_17 (InputLayer)        [(None, 299, 299, 3)]     0         \n",
      "_________________________________________________________________\n",
      "xception (Functional)        (None, 10, 10, 2048)      20861480  \n",
      "_________________________________________________________________\n",
      "global_average_pooling2d_1 ( (None, 2048)              0         \n",
      "_________________________________________________________________\n",
      "dense_7 (Dense)              (None, 10)                20490     \n",
      "=================================================================\n",
      "Total params: 20,881,970\n",
      "Trainable params: 20,490\n",
      "Non-trainable params: 20,861,480\n",
      "_________________________________________________________________\n"
     ]
    }
   ],
   "source": [
    "model.summary()"
   ]
  },
  {
   "cell_type": "markdown",
   "metadata": {
    "id": "csWUwpdDjZcj"
   },
   "source": [
    "Train the model on new data"
   ]
  },
  {
   "cell_type": "code",
   "execution_count": null,
   "metadata": {
    "id": "eCQ3PLEJjZcj"
   },
   "outputs": [],
   "source": [
    "model.compile(optimizer='SGD',\n",
    "              loss='categorical_crossentropy',\n",
    "              metrics=['accuracy'])"
   ]
  },
  {
   "cell_type": "code",
   "execution_count": null,
   "metadata": {
    "colab": {
     "base_uri": "https://localhost:8080/"
    },
    "id": "O7hysLdHjZcj",
    "outputId": "5f2ccd72-c991-4574-f324-eaa81e51395b"
   },
   "outputs": [
    {
     "name": "stdout",
     "output_type": "stream",
     "text": [
      "Epoch 1/100\n",
      "46/46 [==============================] - 40s 812ms/step - loss: 2.1703 - accuracy: 0.2846 - val_loss: 1.4892 - val_accuracy: 0.8531\n",
      "Epoch 2/100\n",
      "46/46 [==============================] - 36s 782ms/step - loss: 1.4392 - accuracy: 0.8170 - val_loss: 0.9864 - val_accuracy: 0.9379\n",
      "Epoch 3/100\n",
      "46/46 [==============================] - 36s 781ms/step - loss: 1.0115 - accuracy: 0.9121 - val_loss: 0.7091 - val_accuracy: 0.9548\n",
      "Epoch 4/100\n",
      "46/46 [==============================] - 36s 780ms/step - loss: 0.8022 - accuracy: 0.9153 - val_loss: 0.5500 - val_accuracy: 0.9605\n",
      "Epoch 5/100\n",
      "46/46 [==============================] - 36s 794ms/step - loss: 0.6136 - accuracy: 0.9452 - val_loss: 0.4507 - val_accuracy: 0.9605\n",
      "Epoch 6/100\n",
      "46/46 [==============================] - 36s 775ms/step - loss: 0.5514 - accuracy: 0.9390 - val_loss: 0.3859 - val_accuracy: 0.9605\n",
      "Epoch 7/100\n",
      "46/46 [==============================] - 36s 774ms/step - loss: 0.4934 - accuracy: 0.9320 - val_loss: 0.3401 - val_accuracy: 0.9605\n",
      "Epoch 8/100\n",
      "46/46 [==============================] - 36s 776ms/step - loss: 0.4369 - accuracy: 0.9407 - val_loss: 0.3055 - val_accuracy: 0.9661\n",
      "Epoch 9/100\n",
      "46/46 [==============================] - 36s 775ms/step - loss: 0.3947 - accuracy: 0.9315 - val_loss: 0.2803 - val_accuracy: 0.9661\n",
      "Epoch 10/100\n",
      "46/46 [==============================] - 36s 773ms/step - loss: 0.3780 - accuracy: 0.9339 - val_loss: 0.2612 - val_accuracy: 0.9661\n",
      "Epoch 11/100\n",
      "46/46 [==============================] - 36s 772ms/step - loss: 0.3603 - accuracy: 0.9228 - val_loss: 0.2453 - val_accuracy: 0.9718\n",
      "Epoch 12/100\n",
      "46/46 [==============================] - 36s 771ms/step - loss: 0.3528 - accuracy: 0.9407 - val_loss: 0.2309 - val_accuracy: 0.9718\n",
      "Epoch 13/100\n",
      "46/46 [==============================] - 36s 773ms/step - loss: 0.3090 - accuracy: 0.9503 - val_loss: 0.2197 - val_accuracy: 0.9718\n",
      "Epoch 14/100\n",
      "46/46 [==============================] - 36s 772ms/step - loss: 0.3044 - accuracy: 0.9445 - val_loss: 0.2105 - val_accuracy: 0.9718\n",
      "Epoch 15/100\n",
      "46/46 [==============================] - 36s 774ms/step - loss: 0.2849 - accuracy: 0.9472 - val_loss: 0.2026 - val_accuracy: 0.9718\n",
      "Epoch 16/100\n",
      "46/46 [==============================] - 35s 767ms/step - loss: 0.2990 - accuracy: 0.9366 - val_loss: 0.1947 - val_accuracy: 0.9718\n",
      "Epoch 17/100\n",
      "46/46 [==============================] - 35s 767ms/step - loss: 0.2697 - accuracy: 0.9584 - val_loss: 0.1887 - val_accuracy: 0.9718\n",
      "Epoch 18/100\n",
      "46/46 [==============================] - 35s 762ms/step - loss: 0.2718 - accuracy: 0.9420 - val_loss: 0.1834 - val_accuracy: 0.9718\n",
      "Epoch 19/100\n",
      "46/46 [==============================] - 35s 764ms/step - loss: 0.2552 - accuracy: 0.9422 - val_loss: 0.1790 - val_accuracy: 0.9718\n",
      "Epoch 20/100\n",
      "46/46 [==============================] - 35s 759ms/step - loss: 0.2641 - accuracy: 0.9434 - val_loss: 0.1748 - val_accuracy: 0.9718\n",
      "Epoch 21/100\n",
      "46/46 [==============================] - 35s 759ms/step - loss: 0.2525 - accuracy: 0.9390 - val_loss: 0.1704 - val_accuracy: 0.9718\n",
      "Epoch 22/100\n",
      "46/46 [==============================] - 35s 753ms/step - loss: 0.2435 - accuracy: 0.9457 - val_loss: 0.1667 - val_accuracy: 0.9718\n",
      "Epoch 23/100\n",
      "46/46 [==============================] - 35s 754ms/step - loss: 0.2272 - accuracy: 0.9497 - val_loss: 0.1634 - val_accuracy: 0.9718\n",
      "Epoch 24/100\n",
      "46/46 [==============================] - 35s 751ms/step - loss: 0.2461 - accuracy: 0.9474 - val_loss: 0.1601 - val_accuracy: 0.9718\n",
      "Epoch 25/100\n",
      "46/46 [==============================] - 34s 747ms/step - loss: 0.2459 - accuracy: 0.9428 - val_loss: 0.1577 - val_accuracy: 0.9718\n",
      "Epoch 26/100\n",
      "46/46 [==============================] - 35s 748ms/step - loss: 0.2409 - accuracy: 0.9433 - val_loss: 0.1551 - val_accuracy: 0.9718\n",
      "Epoch 27/100\n",
      "46/46 [==============================] - 34s 748ms/step - loss: 0.2337 - accuracy: 0.9437 - val_loss: 0.1532 - val_accuracy: 0.9718\n",
      "Epoch 28/100\n",
      "46/46 [==============================] - 35s 751ms/step - loss: 0.2259 - accuracy: 0.9516 - val_loss: 0.1517 - val_accuracy: 0.9718\n",
      "Epoch 29/100\n",
      "46/46 [==============================] - 34s 745ms/step - loss: 0.2049 - accuracy: 0.9462 - val_loss: 0.1499 - val_accuracy: 0.9718\n",
      "Epoch 30/100\n",
      "46/46 [==============================] - 34s 744ms/step - loss: 0.2205 - accuracy: 0.9410 - val_loss: 0.1485 - val_accuracy: 0.9718\n",
      "Epoch 31/100\n",
      "46/46 [==============================] - 34s 741ms/step - loss: 0.2237 - accuracy: 0.9440 - val_loss: 0.1462 - val_accuracy: 0.9718\n",
      "Epoch 32/100\n",
      "46/46 [==============================] - 35s 750ms/step - loss: 0.1964 - accuracy: 0.9487 - val_loss: 0.1446 - val_accuracy: 0.9718\n",
      "Epoch 33/100\n",
      "46/46 [==============================] - 34s 740ms/step - loss: 0.1832 - accuracy: 0.9602 - val_loss: 0.1428 - val_accuracy: 0.9661\n",
      "Epoch 34/100\n",
      "46/46 [==============================] - 34s 742ms/step - loss: 0.2112 - accuracy: 0.9529 - val_loss: 0.1417 - val_accuracy: 0.9661\n",
      "Epoch 35/100\n",
      "46/46 [==============================] - 34s 742ms/step - loss: 0.2069 - accuracy: 0.9531 - val_loss: 0.1406 - val_accuracy: 0.9718\n",
      "Epoch 36/100\n",
      "46/46 [==============================] - 34s 732ms/step - loss: 0.2016 - accuracy: 0.9580 - val_loss: 0.1389 - val_accuracy: 0.9718\n",
      "Epoch 37/100\n",
      "46/46 [==============================] - 34s 746ms/step - loss: 0.1922 - accuracy: 0.9529 - val_loss: 0.1376 - val_accuracy: 0.9718\n",
      "Epoch 38/100\n",
      "46/46 [==============================] - 34s 735ms/step - loss: 0.1881 - accuracy: 0.9599 - val_loss: 0.1361 - val_accuracy: 0.9718\n",
      "Epoch 39/100\n",
      "46/46 [==============================] - 34s 740ms/step - loss: 0.2203 - accuracy: 0.9463 - val_loss: 0.1351 - val_accuracy: 0.9718\n",
      "Epoch 40/100\n",
      "46/46 [==============================] - 34s 736ms/step - loss: 0.1896 - accuracy: 0.9560 - val_loss: 0.1344 - val_accuracy: 0.9718\n",
      "Epoch 41/100\n",
      "46/46 [==============================] - 34s 742ms/step - loss: 0.1867 - accuracy: 0.9562 - val_loss: 0.1337 - val_accuracy: 0.9718\n",
      "Epoch 42/100\n",
      "46/46 [==============================] - 34s 736ms/step - loss: 0.1798 - accuracy: 0.9558 - val_loss: 0.1331 - val_accuracy: 0.9718\n",
      "Epoch 43/100\n",
      "46/46 [==============================] - 34s 741ms/step - loss: 0.1989 - accuracy: 0.9492 - val_loss: 0.1326 - val_accuracy: 0.9718\n",
      "Epoch 44/100\n",
      "46/46 [==============================] - 34s 743ms/step - loss: 0.1878 - accuracy: 0.9497 - val_loss: 0.1320 - val_accuracy: 0.9718\n",
      "Epoch 45/100\n",
      "46/46 [==============================] - 34s 734ms/step - loss: 0.1883 - accuracy: 0.9525 - val_loss: 0.1310 - val_accuracy: 0.9718\n",
      "Epoch 46/100\n",
      "46/46 [==============================] - 34s 746ms/step - loss: 0.1844 - accuracy: 0.9487 - val_loss: 0.1298 - val_accuracy: 0.9718\n",
      "Epoch 47/100\n",
      "46/46 [==============================] - 34s 742ms/step - loss: 0.1955 - accuracy: 0.9443 - val_loss: 0.1291 - val_accuracy: 0.9718\n",
      "Epoch 48/100\n",
      "46/46 [==============================] - 34s 742ms/step - loss: 0.1820 - accuracy: 0.9539 - val_loss: 0.1281 - val_accuracy: 0.9718\n",
      "Epoch 49/100\n",
      "46/46 [==============================] - 34s 738ms/step - loss: 0.1669 - accuracy: 0.9595 - val_loss: 0.1277 - val_accuracy: 0.9718\n",
      "Epoch 50/100\n",
      "46/46 [==============================] - 34s 744ms/step - loss: 0.1791 - accuracy: 0.9529 - val_loss: 0.1279 - val_accuracy: 0.9718\n",
      "Epoch 51/100\n",
      "46/46 [==============================] - 34s 737ms/step - loss: 0.1702 - accuracy: 0.9594 - val_loss: 0.1269 - val_accuracy: 0.9718\n",
      "Epoch 52/100\n",
      "46/46 [==============================] - 34s 741ms/step - loss: 0.1741 - accuracy: 0.9519 - val_loss: 0.1261 - val_accuracy: 0.9718\n",
      "Epoch 53/100\n",
      "46/46 [==============================] - 34s 737ms/step - loss: 0.1743 - accuracy: 0.9522 - val_loss: 0.1253 - val_accuracy: 0.9718\n",
      "Epoch 54/100\n",
      "46/46 [==============================] - 34s 731ms/step - loss: 0.1813 - accuracy: 0.9546 - val_loss: 0.1252 - val_accuracy: 0.9718\n",
      "Epoch 55/100\n",
      "46/46 [==============================] - 34s 738ms/step - loss: 0.1850 - accuracy: 0.9483 - val_loss: 0.1249 - val_accuracy: 0.9718\n",
      "Epoch 56/100\n",
      "46/46 [==============================] - 34s 738ms/step - loss: 0.1660 - accuracy: 0.9539 - val_loss: 0.1247 - val_accuracy: 0.9661\n",
      "Epoch 57/100\n",
      "46/46 [==============================] - 34s 733ms/step - loss: 0.1839 - accuracy: 0.9494 - val_loss: 0.1237 - val_accuracy: 0.9718\n",
      "Epoch 58/100\n",
      "46/46 [==============================] - 34s 739ms/step - loss: 0.1665 - accuracy: 0.9485 - val_loss: 0.1233 - val_accuracy: 0.9718\n",
      "Epoch 59/100\n",
      "46/46 [==============================] - 34s 731ms/step - loss: 0.1692 - accuracy: 0.9605 - val_loss: 0.1228 - val_accuracy: 0.9718\n",
      "Epoch 60/100\n",
      "46/46 [==============================] - 34s 737ms/step - loss: 0.1668 - accuracy: 0.9585 - val_loss: 0.1225 - val_accuracy: 0.9718\n",
      "Epoch 61/100\n",
      "46/46 [==============================] - 34s 736ms/step - loss: 0.1795 - accuracy: 0.9477 - val_loss: 0.1214 - val_accuracy: 0.9718\n",
      "Epoch 62/100\n",
      "46/46 [==============================] - 34s 735ms/step - loss: 0.1512 - accuracy: 0.9634 - val_loss: 0.1210 - val_accuracy: 0.9661\n",
      "Epoch 63/100\n",
      "46/46 [==============================] - 34s 740ms/step - loss: 0.1681 - accuracy: 0.9514 - val_loss: 0.1208 - val_accuracy: 0.9718\n",
      "Epoch 64/100\n",
      "46/46 [==============================] - 34s 740ms/step - loss: 0.1717 - accuracy: 0.9480 - val_loss: 0.1203 - val_accuracy: 0.9661\n",
      "Epoch 65/100\n",
      "46/46 [==============================] - 34s 736ms/step - loss: 0.1621 - accuracy: 0.9574 - val_loss: 0.1207 - val_accuracy: 0.9661\n",
      "Epoch 66/100\n",
      "46/46 [==============================] - 34s 733ms/step - loss: 0.1637 - accuracy: 0.9645 - val_loss: 0.1205 - val_accuracy: 0.9661\n",
      "Epoch 67/100\n",
      "46/46 [==============================] - 34s 740ms/step - loss: 0.1805 - accuracy: 0.9525 - val_loss: 0.1198 - val_accuracy: 0.9661\n",
      "Epoch 68/100\n",
      "46/46 [==============================] - 33s 723ms/step - loss: 0.1461 - accuracy: 0.9611 - val_loss: 0.1190 - val_accuracy: 0.9718\n",
      "Epoch 69/100\n",
      "46/46 [==============================] - 33s 721ms/step - loss: 0.1463 - accuracy: 0.9550 - val_loss: 0.1187 - val_accuracy: 0.9718\n",
      "Epoch 70/100\n",
      "46/46 [==============================] - 34s 728ms/step - loss: 0.1537 - accuracy: 0.9676 - val_loss: 0.1179 - val_accuracy: 0.9718\n",
      "Epoch 71/100\n",
      "46/46 [==============================] - 34s 741ms/step - loss: 0.1698 - accuracy: 0.9476 - val_loss: 0.1182 - val_accuracy: 0.9718\n",
      "Epoch 72/100\n",
      "46/46 [==============================] - 33s 725ms/step - loss: 0.1767 - accuracy: 0.9465 - val_loss: 0.1184 - val_accuracy: 0.9661\n",
      "Epoch 73/100\n",
      "46/46 [==============================] - 33s 724ms/step - loss: 0.1527 - accuracy: 0.9624 - val_loss: 0.1176 - val_accuracy: 0.9661\n",
      "Epoch 74/100\n",
      "46/46 [==============================] - 33s 723ms/step - loss: 0.1320 - accuracy: 0.9631 - val_loss: 0.1180 - val_accuracy: 0.9718\n",
      "Epoch 75/100\n",
      "46/46 [==============================] - 33s 718ms/step - loss: 0.1459 - accuracy: 0.9566 - val_loss: 0.1175 - val_accuracy: 0.9661\n",
      "Epoch 76/100\n",
      "46/46 [==============================] - 34s 729ms/step - loss: 0.1577 - accuracy: 0.9508 - val_loss: 0.1175 - val_accuracy: 0.9718\n",
      "Epoch 77/100\n",
      "46/46 [==============================] - 33s 722ms/step - loss: 0.1524 - accuracy: 0.9556 - val_loss: 0.1171 - val_accuracy: 0.9718\n",
      "Epoch 78/100\n",
      "46/46 [==============================] - 33s 724ms/step - loss: 0.1359 - accuracy: 0.9650 - val_loss: 0.1162 - val_accuracy: 0.9661\n",
      "Epoch 79/100\n",
      "46/46 [==============================] - 33s 719ms/step - loss: 0.1454 - accuracy: 0.9580 - val_loss: 0.1161 - val_accuracy: 0.9661\n",
      "Epoch 80/100\n",
      "46/46 [==============================] - 33s 721ms/step - loss: 0.1358 - accuracy: 0.9654 - val_loss: 0.1155 - val_accuracy: 0.9661\n",
      "Epoch 81/100\n",
      "46/46 [==============================] - 33s 723ms/step - loss: 0.1457 - accuracy: 0.9602 - val_loss: 0.1159 - val_accuracy: 0.9661\n",
      "Epoch 82/100\n",
      "46/46 [==============================] - 34s 728ms/step - loss: 0.1434 - accuracy: 0.9695 - val_loss: 0.1156 - val_accuracy: 0.9661\n",
      "Epoch 83/100\n",
      "46/46 [==============================] - 35s 760ms/step - loss: 0.1651 - accuracy: 0.9582 - val_loss: 0.1158 - val_accuracy: 0.9661\n",
      "Epoch 84/100\n",
      "46/46 [==============================] - 33s 722ms/step - loss: 0.1404 - accuracy: 0.9583 - val_loss: 0.1155 - val_accuracy: 0.9661\n",
      "Epoch 85/100\n",
      "46/46 [==============================] - 34s 733ms/step - loss: 0.1363 - accuracy: 0.9619 - val_loss: 0.1155 - val_accuracy: 0.9661\n",
      "Epoch 86/100\n",
      "46/46 [==============================] - 33s 713ms/step - loss: 0.1501 - accuracy: 0.9616 - val_loss: 0.1147 - val_accuracy: 0.9661\n",
      "Epoch 87/100\n",
      "46/46 [==============================] - 33s 720ms/step - loss: 0.1654 - accuracy: 0.9518 - val_loss: 0.1147 - val_accuracy: 0.9661\n",
      "Epoch 88/100\n",
      "46/46 [==============================] - 34s 728ms/step - loss: 0.1491 - accuracy: 0.9552 - val_loss: 0.1139 - val_accuracy: 0.9661\n",
      "Epoch 89/100\n",
      "46/46 [==============================] - 33s 715ms/step - loss: 0.1461 - accuracy: 0.9570 - val_loss: 0.1148 - val_accuracy: 0.9661\n",
      "Epoch 90/100\n",
      "46/46 [==============================] - 33s 720ms/step - loss: 0.1610 - accuracy: 0.9608 - val_loss: 0.1145 - val_accuracy: 0.9661\n",
      "Epoch 91/100\n",
      "46/46 [==============================] - 33s 715ms/step - loss: 0.1282 - accuracy: 0.9713 - val_loss: 0.1145 - val_accuracy: 0.9661\n",
      "Epoch 92/100\n",
      "46/46 [==============================] - 33s 725ms/step - loss: 0.1304 - accuracy: 0.9666 - val_loss: 0.1142 - val_accuracy: 0.9661\n",
      "Epoch 93/100\n",
      "46/46 [==============================] - 33s 724ms/step - loss: 0.1382 - accuracy: 0.9672 - val_loss: 0.1140 - val_accuracy: 0.9661\n"
     ]
    }
   ],
   "source": [
    "from keras import callbacks \n",
    "earlystopping = callbacks.EarlyStopping(monitor =\"val_loss\",  \n",
    "                                        mode =\"min\", patience = 5,  \n",
    "                                        restore_best_weights = True\n",
    "                                        )\n",
    "model_fit = model.fit(training_set, epochs=100,\n",
    "          callbacks=[earlystopping], \n",
    "          validation_data=validation_set)"
   ]
  },
  {
   "cell_type": "markdown",
   "metadata": {
    "id": "vi_szuHQjZcj"
   },
   "source": [
    "**evaluation**"
   ]
  },
  {
   "cell_type": "markdown",
   "metadata": {
    "id": "jacXMf3xjZcj"
   },
   "source": [
    "Accuracy vs Epochs"
   ]
  },
  {
   "cell_type": "code",
   "execution_count": null,
   "metadata": {
    "colab": {
     "base_uri": "https://localhost:8080/",
     "height": 422
    },
    "id": "0rMuNrLsjZcj",
    "outputId": "1e25bf30-ca9a-44e2-aad6-9dcdb1eb3905"
   },
   "outputs": [
    {
     "data": {
      "text/plain": [
       "<matplotlib.legend.Legend at 0x7fe4f2e29438>"
      ]
     },
     "execution_count": 116,
     "metadata": {
      "tags": []
     },
     "output_type": "execute_result"
    },
    {
     "data": {
      "image/png": "[encoded data removed]",
      "text/plain": [
       "<Figure size 1152x432 with 2 Axes>"
      ]
     },
     "metadata": {
      "needs_background": "light",
      "tags": []
     },
     "output_type": "display_data"
    }
   ],
   "source": [
    "fig, ax = plt.subplots(nrows=1, ncols=2, figsize=(16, 6))\n",
    "\n",
    "ax[0].plot(model_fit.history['accuracy'], label='accuracy')\n",
    "ax[0].plot(model_fit.history['val_accuracy'], label='val_accuracy')\n",
    "ax[0].set_xlabel('Epoch')\n",
    "ax[0].set_ylabel('Accuracy')\n",
    "ax[0].set_title('Accuracy_Xception_SGD_10_breeds')\n",
    "ax[0].legend()\n",
    "\n",
    "ax[1].plot(model_fit.history['loss'], label='loss')\n",
    "ax[1].plot(model_fit.history['val_loss'], label='val_loss')\n",
    "ax[1].set_xlabel('Epoch')\n",
    "ax[1].set_ylabel('Loss')\n",
    "ax[1].set_title('Loss_Xception_SGD_10_breeds')\n",
    "ax[1].legend()"
   ]
  },
  {
   "cell_type": "code",
   "execution_count": null,
   "metadata": {
    "colab": {
     "base_uri": "https://localhost:8080/"
    },
    "id": "AilT7fZ1jZck",
    "outputId": "be81859c-6b8f-4832-83eb-c6faa0c6d338"
   },
   "outputs": [
    {
     "name": "stdout",
     "output_type": "stream",
     "text": [
      "Found 190 images belonging to 10 classes.\n"
     ]
    }
   ],
   "source": [
    "test_datagen = ImageDataGenerator(rescale = 1./255)\n",
    "\n",
    "test_set = test_datagen.flow_from_directory('test',\n",
    "                                                 target_size = (299, 299),\n",
    "                                                 batch_size = 32,\n",
    "                                                 class_mode = 'categorical',\n",
    "                                            shuffle=False)"
   ]
  },
  {
   "cell_type": "code",
   "execution_count": null,
   "metadata": {
    "colab": {
     "base_uri": "https://localhost:8080/"
    },
    "id": "Tnrxojg3jZck",
    "outputId": "392b2e65-01e9-47ce-ca58-34429b786fc8"
   },
   "outputs": [
    {
     "name": "stdout",
     "output_type": "stream",
     "text": [
      "6/6 [==============================] - 1s 218ms/step - loss: 0.0745 - accuracy: 0.9842\n"
     ]
    },
    {
     "data": {
      "text/plain": [
       "[0.07451289147138596, 0.9842105507850647]"
      ]
     },
     "execution_count": 119,
     "metadata": {
      "tags": []
     },
     "output_type": "execute_result"
    }
   ],
   "source": [
    "prediction = model.evaluate(test_set)\n",
    "prediction"
   ]
  },
  {
   "cell_type": "code",
   "execution_count": null,
   "metadata": {
    "id": "C3HCxLapjZck"
   },
   "outputs": [],
   "source": [
    "predicted_probabilities = model.predict(test_set)"
   ]
  },
  {
   "cell_type": "code",
   "execution_count": null,
   "metadata": {
    "id": "4jb898eNjZcl"
   },
   "outputs": [],
   "source": [
    "l=[]\n",
    "for proba in predicted_probabilities:\n",
    "  l.append(np.argmax(proba))\n",
    "predicted_classes = np.array(l)"
   ]
  },
  {
   "cell_type": "code",
   "execution_count": null,
   "metadata": {
    "colab": {
     "base_uri": "https://localhost:8080/"
    },
    "id": "038ufv-SjZcl",
    "outputId": "b3617c35-6366-4c11-e91c-a17dd5950ecf"
   },
   "outputs": [
    {
     "data": {
      "text/plain": [
       "0.9842105263157894"
      ]
     },
     "execution_count": 122,
     "metadata": {
      "tags": []
     },
     "output_type": "execute_result"
    }
   ],
   "source": [
    "from sklearn.metrics import accuracy_score, classification_report\n",
    "accuracy_score(predicted_classes, test_set.classes)"
   ]
  },
  {
   "cell_type": "code",
   "execution_count": null,
   "metadata": {
    "colab": {
     "base_uri": "https://localhost:8080/",
     "height": 107
    },
    "id": "4tz_FbuDjZcl",
    "outputId": "df517875-4418-42b9-a673-929dd6e2ce20"
   },
   "outputs": [
    {
     "data": {
      "application/vnd.google.colaboratory.intrinsic+json": {
       "type": "string"
      },
      "text/plain": [
       "'              precision    recall  f1-score   support\\n\\n           0       0.94      1.00      0.97        16\\n           1       1.00      0.94      0.97        17\\n           2       1.00      0.95      0.98        21\\n           3       1.00      1.00      1.00        20\\n           4       1.00      1.00      1.00        24\\n           5       1.00      1.00      1.00        18\\n           6       1.00      1.00      1.00        21\\n           7       1.00      1.00      1.00        16\\n           8       0.89      1.00      0.94        16\\n           9       1.00      0.95      0.98        21\\n\\n    accuracy                           0.98       190\\n   macro avg       0.98      0.98      0.98       190\\nweighted avg       0.99      0.98      0.98       190\\n'"
      ]
     },
     "execution_count": 123,
     "metadata": {
      "tags": []
     },
     "output_type": "execute_result"
    }
   ],
   "source": [
    "classification_report(predicted_classes, test_set.classes)"
   ]
  },
  {
   "cell_type": "markdown",
   "metadata": {
    "id": "W0ZRSTuKxSeP"
   },
   "source": [
    "### **Adam**"
   ]
  },
  {
   "cell_type": "markdown",
   "metadata": {
    "id": "50hSuK45xSel"
   },
   "source": [
    "**Data preprocessing**"
   ]
  },
  {
   "cell_type": "code",
   "execution_count": null,
   "metadata": {
    "id": "SxzN1VxpxSem"
   },
   "outputs": [],
   "source": [
    "train_datagen = ImageDataGenerator(rescale = 1./255,\n",
    "                                  rotation_range=40,\n",
    "                                   width_shift_range=0.2,\n",
    "                                   height_shift_range=0.2,\n",
    "                                   shear_range = 0.2,\n",
    "                                   zoom_range = 0.2,\n",
    "                                   horizontal_flip = True,\n",
    "                                   fill_mode='nearest'\n",
    "                                   )\n",
    " \n",
    "val_datagen = ImageDataGenerator(rescale = 1./255)\n",
    "test_datagen = ImageDataGenerator(rescale = 1./255)"
   ]
  },
  {
   "cell_type": "code",
   "execution_count": null,
   "metadata": {
    "colab": {
     "base_uri": "https://localhost:8080/"
    },
    "id": "qqq8-E5DxSen",
    "outputId": "87f7edac-d1d2-41c2-81db-2c741cf33b86"
   },
   "outputs": [
    {
     "name": "stdout",
     "output_type": "stream",
     "text": [
      "Found 1447 images belonging to 10 classes.\n"
     ]
    }
   ],
   "source": [
    "training_set = train_datagen.flow_from_directory('train',\n",
    "                                                 target_size = (299, 299),\n",
    "                                                 batch_size = 32,\n",
    "                                                 class_mode = 'categorical')"
   ]
  },
  {
   "cell_type": "code",
   "execution_count": null,
   "metadata": {
    "colab": {
     "base_uri": "https://localhost:8080/"
    },
    "id": "2dQjVCumxSen",
    "outputId": "b5da8feb-5c83-42bf-cdb1-9748b9349773"
   },
   "outputs": [
    {
     "name": "stdout",
     "output_type": "stream",
     "text": [
      "Found 177 images belonging to 10 classes.\n"
     ]
    }
   ],
   "source": [
    "validation_set = val_datagen.flow_from_directory('val',\n",
    "                                                 target_size = (299, 299),\n",
    "                                                 batch_size = 32,\n",
    "                                                 class_mode = 'categorical')"
   ]
  },
  {
   "cell_type": "code",
   "execution_count": null,
   "metadata": {
    "colab": {
     "base_uri": "https://localhost:8080/"
    },
    "id": "sL3Dq0CoxSeo",
    "outputId": "a2777de3-715f-4aba-9b87-60a5d93335b5"
   },
   "outputs": [
    {
     "data": {
      "text/plain": [
       "['American_Staffordshire_terrier',\n",
       " 'Chihuahua',\n",
       " 'Ibizan_hound',\n",
       " 'Saluki',\n",
       " 'Scottish_deerhound',\n",
       " 'basset',\n",
       " 'papillon',\n",
       " 'redbone',\n",
       " 'toy_terrier',\n",
       " 'whippet']"
      ]
     },
     "execution_count": 177,
     "metadata": {
      "tags": []
     },
     "output_type": "execute_result"
    }
   ],
   "source": [
    "list(training_set.class_indices.keys())"
   ]
  },
  {
   "cell_type": "markdown",
   "metadata": {
    "id": "TKSpQfs0xSep"
   },
   "source": [
    "**model**"
   ]
  },
  {
   "cell_type": "markdown",
   "metadata": {
    "id": "mGUAGDVdxSep"
   },
   "source": [
    "Xception model with pre-trained weights"
   ]
  },
  {
   "cell_type": "code",
   "execution_count": null,
   "metadata": {
    "id": "mlUZOnOcxSep"
   },
   "outputs": [],
   "source": [
    "base_model = keras.applications.Xception(\n",
    "    weights='imagenet',  # Load weights pre-trained on ImageNet.\n",
    "    input_shape=(299, 299, 3),\n",
    "    include_top=False)  # Do not include the ImageNet classifier at the top."
   ]
  },
  {
   "cell_type": "markdown",
   "metadata": {
    "id": "fqIABE0dxSep"
   },
   "source": [
    "Freeze the base model"
   ]
  },
  {
   "cell_type": "code",
   "execution_count": null,
   "metadata": {
    "id": "l8gC-lNSxSeq"
   },
   "outputs": [],
   "source": [
    "base_model.trainable = False"
   ]
  },
  {
   "cell_type": "markdown",
   "metadata": {
    "id": "c6JQvMn_xSeq"
   },
   "source": [
    "Create new model on top"
   ]
  },
  {
   "cell_type": "code",
   "execution_count": null,
   "metadata": {
    "id": "SfoS6629xSeq"
   },
   "outputs": [],
   "source": [
    "inputs = keras.Input(shape=(299, 299, 3))\n",
    "# We make sure that the base_model is running in inference mode here,\n",
    "# by passing `training=False`.\n",
    "x = tf.keras.applications.xception.preprocess_input(inputs)\n",
    "x = base_model(inputs, training=False)\n",
    "# Convert features of shape `base_model.output_shape[1:]` to vectors\n",
    "x = keras.layers.GlobalAveragePooling2D()(x)\n",
    "# x = keras.layers.Dense(32, activation='relu')\n",
    "# A Dense classifier (10 class)\n",
    "outputs = keras.layers.Dense(10, activation='softmax')(x)\n",
    "model = keras.Model(inputs, outputs)"
   ]
  },
  {
   "cell_type": "code",
   "execution_count": null,
   "metadata": {
    "colab": {
     "base_uri": "https://localhost:8080/"
    },
    "id": "uQ3GHgGhxSer",
    "outputId": "503b7363-122a-47b2-ba95-b06a07a8feab"
   },
   "outputs": [
    {
     "name": "stdout",
     "output_type": "stream",
     "text": [
      "Model: \"model_11\"\n",
      "_________________________________________________________________\n",
      "Layer (type)                 Output Shape              Param #   \n",
      "=================================================================\n",
      "input_25 (InputLayer)        [(None, 299, 299, 3)]     0         \n",
      "_________________________________________________________________\n",
      "xception (Functional)        (None, 10, 10, 2048)      20861480  \n",
      "_________________________________________________________________\n",
      "global_average_pooling2d_5 ( (None, 2048)              0         \n",
      "_________________________________________________________________\n",
      "dense_11 (Dense)             (None, 10)                20490     \n",
      "=================================================================\n",
      "Total params: 20,881,970\n",
      "Trainable params: 20,490\n",
      "Non-trainable params: 20,861,480\n",
      "_________________________________________________________________\n"
     ]
    }
   ],
   "source": [
    "model.summary()"
   ]
  },
  {
   "cell_type": "markdown",
   "metadata": {
    "id": "FQ1q9NsIxSer"
   },
   "source": [
    "Train the model on new data"
   ]
  },
  {
   "cell_type": "code",
   "execution_count": null,
   "metadata": {
    "id": "DpSYyIJ2xSer"
   },
   "outputs": [],
   "source": [
    "model.compile(optimizer='Adam',\n",
    "              loss='categorical_crossentropy',\n",
    "              metrics=['accuracy'])"
   ]
  },
  {
   "cell_type": "code",
   "execution_count": null,
   "metadata": {
    "colab": {
     "base_uri": "https://localhost:8080/"
    },
    "id": "2YV-5SsxxSer",
    "outputId": "98b04343-97a9-4f0b-b0d6-fabdee8c8c10"
   },
   "outputs": [
    {
     "name": "stdout",
     "output_type": "stream",
     "text": [
      "Epoch 1/100\n",
      "46/46 [==============================] - 40s 804ms/step - loss: 1.6005 - accuracy: 0.5634 - val_loss: 0.3104 - val_accuracy: 0.9605\n",
      "Epoch 2/100\n",
      "46/46 [==============================] - 36s 785ms/step - loss: 0.3426 - accuracy: 0.9329 - val_loss: 0.1804 - val_accuracy: 0.9718\n",
      "Epoch 3/100\n",
      "46/46 [==============================] - 36s 777ms/step - loss: 0.2505 - accuracy: 0.9421 - val_loss: 0.1493 - val_accuracy: 0.9718\n",
      "Epoch 4/100\n",
      "46/46 [==============================] - 36s 777ms/step - loss: 0.2124 - accuracy: 0.9442 - val_loss: 0.1311 - val_accuracy: 0.9718\n",
      "Epoch 5/100\n",
      "46/46 [==============================] - 36s 777ms/step - loss: 0.1844 - accuracy: 0.9488 - val_loss: 0.1222 - val_accuracy: 0.9774\n",
      "Epoch 6/100\n",
      "46/46 [==============================] - 36s 773ms/step - loss: 0.1586 - accuracy: 0.9567 - val_loss: 0.1156 - val_accuracy: 0.9718\n",
      "Epoch 7/100\n",
      "46/46 [==============================] - 36s 772ms/step - loss: 0.1650 - accuracy: 0.9501 - val_loss: 0.1141 - val_accuracy: 0.9718\n",
      "Epoch 8/100\n",
      "46/46 [==============================] - 36s 770ms/step - loss: 0.1312 - accuracy: 0.9644 - val_loss: 0.1100 - val_accuracy: 0.9718\n",
      "Epoch 9/100\n",
      "46/46 [==============================] - 36s 771ms/step - loss: 0.1548 - accuracy: 0.9519 - val_loss: 0.1051 - val_accuracy: 0.9718\n",
      "Epoch 10/100\n",
      "46/46 [==============================] - 36s 774ms/step - loss: 0.1268 - accuracy: 0.9657 - val_loss: 0.1055 - val_accuracy: 0.9661\n",
      "Epoch 11/100\n",
      "46/46 [==============================] - 36s 771ms/step - loss: 0.1126 - accuracy: 0.9728 - val_loss: 0.1122 - val_accuracy: 0.9548\n",
      "Epoch 12/100\n",
      "46/46 [==============================] - 35s 769ms/step - loss: 0.1188 - accuracy: 0.9619 - val_loss: 0.1059 - val_accuracy: 0.9661\n",
      "Epoch 13/100\n",
      "46/46 [==============================] - 35s 767ms/step - loss: 0.1155 - accuracy: 0.9653 - val_loss: 0.1036 - val_accuracy: 0.9661\n",
      "Epoch 14/100\n",
      "46/46 [==============================] - 36s 774ms/step - loss: 0.1044 - accuracy: 0.9752 - val_loss: 0.1060 - val_accuracy: 0.9661\n",
      "Epoch 15/100\n",
      "46/46 [==============================] - 36s 771ms/step - loss: 0.1078 - accuracy: 0.9613 - val_loss: 0.1053 - val_accuracy: 0.9548\n",
      "Epoch 16/100\n",
      "46/46 [==============================] - 35s 765ms/step - loss: 0.1001 - accuracy: 0.9754 - val_loss: 0.1054 - val_accuracy: 0.9661\n",
      "Epoch 17/100\n",
      "46/46 [==============================] - 35s 767ms/step - loss: 0.1160 - accuracy: 0.9650 - val_loss: 0.1034 - val_accuracy: 0.9661\n",
      "Epoch 18/100\n",
      "46/46 [==============================] - 35s 770ms/step - loss: 0.1089 - accuracy: 0.9623 - val_loss: 0.1090 - val_accuracy: 0.9605\n",
      "Epoch 19/100\n",
      "46/46 [==============================] - 35s 766ms/step - loss: 0.0831 - accuracy: 0.9810 - val_loss: 0.1045 - val_accuracy: 0.9605\n",
      "Epoch 20/100\n",
      "46/46 [==============================] - 35s 759ms/step - loss: 0.0848 - accuracy: 0.9759 - val_loss: 0.1085 - val_accuracy: 0.9548\n",
      "Epoch 21/100\n",
      "46/46 [==============================] - 35s 758ms/step - loss: 0.0917 - accuracy: 0.9716 - val_loss: 0.1117 - val_accuracy: 0.9605\n",
      "Epoch 22/100\n",
      "46/46 [==============================] - 35s 757ms/step - loss: 0.0841 - accuracy: 0.9750 - val_loss: 0.1072 - val_accuracy: 0.9605\n"
     ]
    }
   ],
   "source": [
    "from keras import callbacks \n",
    "earlystopping = callbacks.EarlyStopping(monitor =\"val_loss\",  \n",
    "                                        mode =\"min\", patience = 5,  \n",
    "                                        restore_best_weights = True\n",
    "                                        )\n",
    "model_fit = model.fit(training_set, epochs=100,\n",
    "          callbacks=[earlystopping], \n",
    "          validation_data=validation_set)"
   ]
  },
  {
   "cell_type": "markdown",
   "metadata": {
    "id": "DvRTMvTyxSes"
   },
   "source": [
    "**evaluation**"
   ]
  },
  {
   "cell_type": "markdown",
   "metadata": {
    "id": "0DYylmsBxSes"
   },
   "source": [
    "Accuracy vs Epochs"
   ]
  },
  {
   "cell_type": "code",
   "execution_count": null,
   "metadata": {
    "colab": {
     "base_uri": "https://localhost:8080/",
     "height": 422
    },
    "id": "dO9SAYMCxSes",
    "outputId": "fc1deb1d-1061-4c48-d26e-db38598dd4c0"
   },
   "outputs": [
    {
     "data": {
      "text/plain": [
       "<matplotlib.legend.Legend at 0x7fe25a86cac8>"
      ]
     },
     "execution_count": 184,
     "metadata": {
      "tags": []
     },
     "output_type": "execute_result"
    },
    {
     "data": {
      "image/png": "[encoded data removed]",
      "text/plain": [
       "<Figure size 1152x432 with 2 Axes>"
      ]
     },
     "metadata": {
      "needs_background": "light",
      "tags": []
     },
     "output_type": "display_data"
    }
   ],
   "source": [
    "fig, ax = plt.subplots(nrows=1, ncols=2, figsize=(16, 6))\n",
    "\n",
    "ax[0].plot(model_fit.history['accuracy'], label='accuracy')\n",
    "ax[0].plot(model_fit.history['val_accuracy'], label='val_accuracy')\n",
    "ax[0].set_xlabel('Epoch')\n",
    "ax[0].set_ylabel('Accuracy')\n",
    "ax[0].set_title('Accuracy_Xception_Adam_10_breeds')\n",
    "ax[0].legend()\n",
    "\n",
    "ax[1].plot(model_fit.history['loss'], label='loss')\n",
    "ax[1].plot(model_fit.history['val_loss'], label='val_loss')\n",
    "ax[1].set_xlabel('Epoch')\n",
    "ax[1].set_ylabel('Loss')\n",
    "ax[1].set_title('Loss_Xception_Adam_10_breeds')\n",
    "ax[1].legend()"
   ]
  },
  {
   "cell_type": "code",
   "execution_count": null,
   "metadata": {
    "colab": {
     "base_uri": "https://localhost:8080/"
    },
    "id": "Dgd3mvHNxSet",
    "outputId": "e3aef8fc-4e0f-429b-e314-38d719f0884b"
   },
   "outputs": [
    {
     "name": "stdout",
     "output_type": "stream",
     "text": [
      "Found 190 images belonging to 10 classes.\n"
     ]
    }
   ],
   "source": [
    "test_datagen = ImageDataGenerator(rescale = 1./255)\n",
    "\n",
    "test_set = test_datagen.flow_from_directory('test',\n",
    "                                                 target_size = (299, 299),\n",
    "                                                 batch_size = 32,\n",
    "                                                 class_mode = 'categorical',\n",
    "                                            shuffle=False)"
   ]
  },
  {
   "cell_type": "code",
   "execution_count": null,
   "metadata": {
    "colab": {
     "base_uri": "https://localhost:8080/"
    },
    "id": "viMoXOMwxSet",
    "outputId": "cd2f90c4-27b2-4552-c836-2e090d3e95c0"
   },
   "outputs": [
    {
     "name": "stdout",
     "output_type": "stream",
     "text": [
      "6/6 [==============================] - 1s 217ms/step - loss: 0.0634 - accuracy: 0.9737\n"
     ]
    },
    {
     "data": {
      "text/plain": [
       "[0.06342556327581406, 0.9736841917037964]"
      ]
     },
     "execution_count": 186,
     "metadata": {
      "tags": []
     },
     "output_type": "execute_result"
    }
   ],
   "source": [
    "prediction = model.evaluate(test_set)\n",
    "prediction"
   ]
  },
  {
   "cell_type": "code",
   "execution_count": null,
   "metadata": {
    "id": "-1CxCLNtxSet"
   },
   "outputs": [],
   "source": [
    "predicted_probabilities = model.predict(test_set)"
   ]
  },
  {
   "cell_type": "code",
   "execution_count": null,
   "metadata": {
    "id": "zTOcTBnWxSet"
   },
   "outputs": [],
   "source": [
    "l=[]\n",
    "for proba in predicted_probabilities:\n",
    "  l.append(np.argmax(proba))\n",
    "predicted_classes = np.array(l)"
   ]
  },
  {
   "cell_type": "code",
   "execution_count": null,
   "metadata": {
    "colab": {
     "base_uri": "https://localhost:8080/"
    },
    "id": "IZFhWT6zxSeu",
    "outputId": "266809e8-ad18-4386-a095-ef7b8be9ee58"
   },
   "outputs": [
    {
     "data": {
      "text/plain": [
       "0.9736842105263158"
      ]
     },
     "execution_count": 189,
     "metadata": {
      "tags": []
     },
     "output_type": "execute_result"
    }
   ],
   "source": [
    "from sklearn.metrics import accuracy_score, classification_report\n",
    "accuracy_score(predicted_classes, test_set.classes)"
   ]
  },
  {
   "cell_type": "code",
   "execution_count": null,
   "metadata": {
    "colab": {
     "base_uri": "https://localhost:8080/",
     "height": 107
    },
    "id": "0St7GYlpxSeu",
    "outputId": "eb372e7c-b4c0-4aaf-ce3d-d82fc675788f"
   },
   "outputs": [
    {
     "data": {
      "application/vnd.google.colaboratory.intrinsic+json": {
       "type": "string"
      },
      "text/plain": [
       "'              precision    recall  f1-score   support\\n\\n           0       0.94      0.89      0.91        18\\n           1       1.00      0.94      0.97        17\\n           2       1.00      0.95      0.98        21\\n           3       1.00      1.00      1.00        20\\n           4       1.00      1.00      1.00        24\\n           5       1.00      1.00      1.00        18\\n           6       1.00      1.00      1.00        21\\n           7       1.00      1.00      1.00        16\\n           8       0.89      1.00      0.94        16\\n           9       0.90      0.95      0.92        19\\n\\n    accuracy                           0.97       190\\n   macro avg       0.97      0.97      0.97       190\\nweighted avg       0.98      0.97      0.97       190\\n'"
      ]
     },
     "execution_count": 190,
     "metadata": {
      "tags": []
     },
     "output_type": "execute_result"
    }
   ],
   "source": [
    "classification_report(predicted_classes, test_set.classes)"
   ]
  },
  {
   "cell_type": "markdown",
   "metadata": {
    "id": "t3kIUiAZpgWT"
   },
   "source": [
    "Adam and RMSProp gives better results than SGD. I will be using Adam optimizers for the fine-tuning of Xception model."
   ]
  },
  {
   "cell_type": "markdown",
   "metadata": {
    "id": "6JNLuEuc_Aaf"
   },
   "source": [
    "## Fine tuning"
   ]
  },
  {
   "cell_type": "code",
   "execution_count": null,
   "metadata": {
    "id": "FIbHz1C8_TYk"
   },
   "outputs": [],
   "source": [
    "base_model.trainable=True"
   ]
  },
  {
   "cell_type": "code",
   "execution_count": null,
   "metadata": {
    "id": "Yc0PsJ0y_TYl"
   },
   "outputs": [],
   "source": [
    "model.compile(optimizer=keras.optimizers.Adam(1e-5),\n",
    "              loss='categorical_crossentropy',\n",
    "              metrics=['accuracy'])"
   ]
  },
  {
   "cell_type": "code",
   "execution_count": null,
   "metadata": {
    "colab": {
     "base_uri": "https://localhost:8080/"
    },
    "id": "mt4yLE8l_Sz4",
    "outputId": "c56ab9cb-adf0-4245-9112-1f9c3ca88cd0"
   },
   "outputs": [
    {
     "name": "stdout",
     "output_type": "stream",
     "text": [
      "Epoch 1/100\n",
      "46/46 [==============================] - 54s 1s/step - loss: 0.0911 - accuracy: 0.9751 - val_loss: 0.1157 - val_accuracy: 0.9661\n",
      "Epoch 2/100\n",
      "46/46 [==============================] - 48s 1s/step - loss: 0.0616 - accuracy: 0.9822 - val_loss: 0.1240 - val_accuracy: 0.9548\n",
      "Epoch 3/100\n",
      "46/46 [==============================] - 48s 1s/step - loss: 0.0412 - accuracy: 0.9843 - val_loss: 0.1155 - val_accuracy: 0.9492\n",
      "Epoch 4/100\n",
      "46/46 [==============================] - 48s 1s/step - loss: 0.0427 - accuracy: 0.9850 - val_loss: 0.1430 - val_accuracy: 0.9548\n",
      "Epoch 5/100\n",
      "46/46 [==============================] - 48s 1s/step - loss: 0.0626 - accuracy: 0.9822 - val_loss: 0.1189 - val_accuracy: 0.9661\n",
      "Epoch 6/100\n",
      "46/46 [==============================] - 48s 1s/step - loss: 0.0372 - accuracy: 0.9890 - val_loss: 0.1242 - val_accuracy: 0.9492\n",
      "Epoch 7/100\n",
      "46/46 [==============================] - 48s 1s/step - loss: 0.0295 - accuracy: 0.9907 - val_loss: 0.1371 - val_accuracy: 0.9661\n",
      "Epoch 8/100\n",
      "46/46 [==============================] - 48s 1s/step - loss: 0.0170 - accuracy: 0.9969 - val_loss: 0.1236 - val_accuracy: 0.9605\n"
     ]
    }
   ],
   "source": [
    "from keras import callbacks \n",
    "earlystopping = callbacks.EarlyStopping(monitor =\"val_loss\",  \n",
    "                                        mode =\"min\", patience = 5,  \n",
    "                                        restore_best_weights = True\n",
    "                                        )\n",
    "model_fit = model.fit(training_set, epochs=100,\n",
    "          callbacks=[earlystopping], \n",
    "          validation_data=validation_set)"
   ]
  },
  {
   "cell_type": "code",
   "execution_count": null,
   "metadata": {
    "colab": {
     "base_uri": "https://localhost:8080/",
     "height": 422
    },
    "id": "Aw4V6gklBRvJ",
    "outputId": "afd701d9-ce66-4b52-9d14-bf01bfd93f87"
   },
   "outputs": [
    {
     "data": {
      "text/plain": [
       "<matplotlib.legend.Legend at 0x7fe4845df668>"
      ]
     },
     "execution_count": 194,
     "metadata": {
      "tags": []
     },
     "output_type": "execute_result"
    },
    {
     "data": {
      "image/png": "[encoded data removed]",
      "text/plain": [
       "<Figure size 1152x432 with 2 Axes>"
      ]
     },
     "metadata": {
      "needs_background": "light",
      "tags": []
     },
     "output_type": "display_data"
    }
   ],
   "source": [
    "fig, ax = plt.subplots(nrows=1, ncols=2, figsize=(16, 6))\n",
    "\n",
    "ax[0].plot(model_fit.history['accuracy'], label='accuracy')\n",
    "ax[0].plot(model_fit.history['val_accuracy'], label='val_accuracy')\n",
    "ax[0].set_xlabel('Epoch')\n",
    "ax[0].set_ylabel('Accuracy')\n",
    "ax[0].set_title('Accuracy_Xception_Adam_10_breeds')\n",
    "ax[0].legend()\n",
    "\n",
    "ax[1].plot(model_fit.history['loss'], label='loss')\n",
    "ax[1].plot(model_fit.history['val_loss'], label='val_loss')\n",
    "ax[1].set_xlabel('Epoch')\n",
    "ax[1].set_ylabel('Loss')\n",
    "ax[1].set_title('Loss_Xception_Adam_10_breeds')\n",
    "ax[1].legend()"
   ]
  },
  {
   "cell_type": "code",
   "execution_count": null,
   "metadata": {
    "colab": {
     "base_uri": "https://localhost:8080/"
    },
    "id": "YoHLJ3z-BRvN",
    "outputId": "7eb9b8be-a5bf-4d10-e2bf-60f1b075e503"
   },
   "outputs": [
    {
     "name": "stdout",
     "output_type": "stream",
     "text": [
      "Found 190 images belonging to 10 classes.\n"
     ]
    }
   ],
   "source": [
    "test_datagen = ImageDataGenerator(rescale = 1./255)\n",
    "\n",
    "test_set = test_datagen.flow_from_directory('test',\n",
    "                                                 target_size = (299, 299),\n",
    "                                                 batch_size = 32,\n",
    "                                                 class_mode = 'categorical',\n",
    "                                            shuffle=False)"
   ]
  },
  {
   "cell_type": "code",
   "execution_count": null,
   "metadata": {
    "colab": {
     "base_uri": "https://localhost:8080/"
    },
    "id": "cSUP_oS-BRvO",
    "outputId": "414e09b0-aeb2-402c-c7da-617cc65274c4"
   },
   "outputs": [
    {
     "name": "stdout",
     "output_type": "stream",
     "text": [
      "6/6 [==============================] - 1s 220ms/step - loss: 0.0527 - accuracy: 0.9789\n"
     ]
    },
    {
     "data": {
      "text/plain": [
       "[0.05272899568080902, 0.9789473414421082]"
      ]
     },
     "execution_count": 196,
     "metadata": {
      "tags": []
     },
     "output_type": "execute_result"
    }
   ],
   "source": [
    "prediction = model.evaluate(test_set)\n",
    "prediction"
   ]
  },
  {
   "cell_type": "code",
   "execution_count": null,
   "metadata": {
    "id": "rhcvLFsnBRvP"
   },
   "outputs": [],
   "source": [
    "predicted_probabilities = model.predict(test_set)"
   ]
  },
  {
   "cell_type": "code",
   "execution_count": null,
   "metadata": {
    "id": "LGpdi1cABRvP"
   },
   "outputs": [],
   "source": [
    "l=[]\n",
    "for proba in predicted_probabilities:\n",
    "  l.append(np.argmax(proba))\n",
    "predicted_classes = np.array(l)"
   ]
  },
  {
   "cell_type": "code",
   "execution_count": null,
   "metadata": {
    "colab": {
     "base_uri": "https://localhost:8080/"
    },
    "id": "mKB_qcauBRvP",
    "outputId": "81e6165a-6cc8-469f-cf03-309fb0dcea7e"
   },
   "outputs": [
    {
     "data": {
      "text/plain": [
       "0.9789473684210527"
      ]
     },
     "execution_count": 199,
     "metadata": {
      "tags": []
     },
     "output_type": "execute_result"
    }
   ],
   "source": [
    "from sklearn.metrics import accuracy_score, classification_report\n",
    "accuracy_score(predicted_classes, test_set.classes)"
   ]
  },
  {
   "cell_type": "code",
   "execution_count": null,
   "metadata": {
    "colab": {
     "base_uri": "https://localhost:8080/",
     "height": 107
    },
    "id": "Hxn85y5VBRvP",
    "outputId": "778e9aba-c1f3-4e00-e3b6-81746c73988a"
   },
   "outputs": [
    {
     "data": {
      "application/vnd.google.colaboratory.intrinsic+json": {
       "type": "string"
      },
      "text/plain": [
       "'              precision    recall  f1-score   support\\n\\n           0       0.94      1.00      0.97        16\\n           1       1.00      0.94      0.97        17\\n           2       1.00      0.95      0.98        21\\n           3       0.95      1.00      0.97        19\\n           4       1.00      1.00      1.00        24\\n           5       1.00      1.00      1.00        18\\n           6       1.00      1.00      1.00        21\\n           7       1.00      1.00      1.00        16\\n           8       0.89      1.00      0.94        16\\n           9       1.00      0.91      0.95        22\\n\\n    accuracy                           0.98       190\\n   macro avg       0.98      0.98      0.98       190\\nweighted avg       0.98      0.98      0.98       190\\n'"
      ]
     },
     "execution_count": 200,
     "metadata": {
      "tags": []
     },
     "output_type": "execute_result"
    }
   ],
   "source": [
    "classification_report(predicted_classes, test_set.classes)"
   ]
  },
  {
   "cell_type": "markdown",
   "metadata": {
    "id": "BZCNREuf0arE"
   },
   "source": [
    "# Inception_V3 10 breeds Optim"
   ]
  },
  {
   "cell_type": "markdown",
   "metadata": {
    "id": "WiJRyCmx0ar5"
   },
   "source": [
    "## Optimizers"
   ]
  },
  {
   "cell_type": "markdown",
   "metadata": {
    "id": "f9Yw3a_A0ar5"
   },
   "source": [
    "I will be comparing 3 optimizers:\n",
    "\n",
    "*   SGD\n",
    "*   RMSPROP\n",
    "*   ADAM\n",
    "\n"
   ]
  },
  {
   "cell_type": "markdown",
   "metadata": {
    "id": "G9dGm6c00arv"
   },
   "source": [
    "### **RMSPROP**"
   ]
  },
  {
   "cell_type": "markdown",
   "metadata": {
    "id": "EN5zUPJX0arw"
   },
   "source": [
    "**Data preprocessing**"
   ]
  },
  {
   "cell_type": "code",
   "execution_count": null,
   "metadata": {
    "id": "FkG4KrEJ0arw"
   },
   "outputs": [],
   "source": [
    "train_datagen = ImageDataGenerator(rescale = 1./255,\n",
    "                                  rotation_range=40,\n",
    "                                   width_shift_range=0.2,\n",
    "                                   height_shift_range=0.2,\n",
    "                                   shear_range = 0.2,\n",
    "                                   zoom_range = 0.2,\n",
    "                                   horizontal_flip = True,\n",
    "                                   fill_mode='nearest'\n",
    "                                   )\n",
    " \n",
    "val_datagen = ImageDataGenerator(rescale = 1./255)\n",
    "test_datagen = ImageDataGenerator(rescale = 1./255)"
   ]
  },
  {
   "cell_type": "code",
   "execution_count": null,
   "metadata": {
    "colab": {
     "base_uri": "https://localhost:8080/"
    },
    "id": "bGJ-iqZx0arx",
    "outputId": "197a3fdc-db80-48df-c8c9-fffeedcf7f6d"
   },
   "outputs": [
    {
     "name": "stdout",
     "output_type": "stream",
     "text": [
      "Found 1447 images belonging to 10 classes.\n"
     ]
    }
   ],
   "source": [
    "training_set = train_datagen.flow_from_directory('train',\n",
    "                                                 target_size = (299, 299),\n",
    "                                                 batch_size = 32,\n",
    "                                                 class_mode = 'categorical')"
   ]
  },
  {
   "cell_type": "code",
   "execution_count": null,
   "metadata": {
    "colab": {
     "base_uri": "https://localhost:8080/"
    },
    "id": "vhxeNC_10ary",
    "outputId": "e3379636-bcbe-4c66-ec26-88013c268f56"
   },
   "outputs": [
    {
     "name": "stdout",
     "output_type": "stream",
     "text": [
      "Found 177 images belonging to 10 classes.\n"
     ]
    }
   ],
   "source": [
    "validation_set = val_datagen.flow_from_directory('val',\n",
    "                                                 target_size = (299, 299),\n",
    "                                                 batch_size = 32,\n",
    "                                                 class_mode = 'categorical')"
   ]
  },
  {
   "cell_type": "code",
   "execution_count": null,
   "metadata": {
    "colab": {
     "base_uri": "https://localhost:8080/"
    },
    "id": "sxcBbM_k0ary",
    "outputId": "3be50341-6afb-41a1-a53f-c84a73cbcc90"
   },
   "outputs": [
    {
     "data": {
      "text/plain": [
       "['American_Staffordshire_terrier',\n",
       " 'Chihuahua',\n",
       " 'Ibizan_hound',\n",
       " 'Saluki',\n",
       " 'Scottish_deerhound',\n",
       " 'basset',\n",
       " 'papillon',\n",
       " 'redbone',\n",
       " 'toy_terrier',\n",
       " 'whippet']"
      ]
     },
     "execution_count": 147,
     "metadata": {
      "tags": []
     },
     "output_type": "execute_result"
    }
   ],
   "source": [
    "list(training_set.class_indices.keys())"
   ]
  },
  {
   "cell_type": "markdown",
   "metadata": {
    "id": "jwPJmSEE0arz"
   },
   "source": [
    "**model**"
   ]
  },
  {
   "cell_type": "markdown",
   "metadata": {
    "id": "VF_37RSr0arz"
   },
   "source": [
    "Xception model with pre-trained weights"
   ]
  },
  {
   "cell_type": "code",
   "execution_count": null,
   "metadata": {
    "id": "An4Utxmo0arz"
   },
   "outputs": [],
   "source": [
    "base_model = keras.applications.InceptionV3(\n",
    "    weights='imagenet',  # Load weights pre-trained on ImageNet.\n",
    "    input_shape=(299, 299, 3),\n",
    "    include_top=False)  # Do not include the ImageNet classifier at the top."
   ]
  },
  {
   "cell_type": "markdown",
   "metadata": {
    "id": "GiHMJyWm0ar0"
   },
   "source": [
    "Freeze the base model"
   ]
  },
  {
   "cell_type": "code",
   "execution_count": null,
   "metadata": {
    "id": "WxJdfge20ar0"
   },
   "outputs": [],
   "source": [
    "base_model.trainable = False"
   ]
  },
  {
   "cell_type": "markdown",
   "metadata": {
    "id": "jB7XaUwm0ar0"
   },
   "source": [
    "Create new model on top"
   ]
  },
  {
   "cell_type": "code",
   "execution_count": null,
   "metadata": {
    "id": "i9WE-5eT0ar0"
   },
   "outputs": [],
   "source": [
    "inputs = keras.Input(shape=(299, 299, 3))\n",
    "# We make sure that the base_model is running in inference mode here,\n",
    "# by passing `training=False`.\n",
    "x = tf.keras.applications.inception_v3.preprocess_input(inputs)\n",
    "x = base_model(inputs, training=False)\n",
    "# Convert features of shape `base_model.output_shape[1:]` to vectors\n",
    "x = keras.layers.GlobalAveragePooling2D()(x)\n",
    "# x = keras.layers.Dense(32, activation='relu')\n",
    "# A Dense classifier (10 class)\n",
    "outputs = keras.layers.Dense(10, activation='softmax')(x)\n",
    "model = keras.Model(inputs, outputs)"
   ]
  },
  {
   "cell_type": "code",
   "execution_count": null,
   "metadata": {
    "colab": {
     "base_uri": "https://localhost:8080/"
    },
    "id": "7K4UJhAB0ar1",
    "outputId": "d6c20a6c-85f6-4405-cfc5-6366832db8b5"
   },
   "outputs": [
    {
     "name": "stdout",
     "output_type": "stream",
     "text": [
      "Model: \"model_9\"\n",
      "_________________________________________________________________\n",
      "Layer (type)                 Output Shape              Param #   \n",
      "=================================================================\n",
      "input_21 (InputLayer)        [(None, 299, 299, 3)]     0         \n",
      "_________________________________________________________________\n",
      "inception_v3 (Functional)    (None, 8, 8, 2048)        21802784  \n",
      "_________________________________________________________________\n",
      "global_average_pooling2d_3 ( (None, 2048)              0         \n",
      "_________________________________________________________________\n",
      "dense_9 (Dense)              (None, 10)                20490     \n",
      "=================================================================\n",
      "Total params: 21,823,274\n",
      "Trainable params: 20,490\n",
      "Non-trainable params: 21,802,784\n",
      "_________________________________________________________________\n"
     ]
    }
   ],
   "source": [
    "model.summary()"
   ]
  },
  {
   "cell_type": "markdown",
   "metadata": {
    "id": "DnMRU_qF0ar1"
   },
   "source": [
    "Train the model on new data"
   ]
  },
  {
   "cell_type": "code",
   "execution_count": null,
   "metadata": {
    "id": "BgURuMN-0ar1"
   },
   "outputs": [],
   "source": [
    "model.compile(optimizer='rmsprop',\n",
    "              loss='categorical_crossentropy',\n",
    "              metrics=['accuracy'])"
   ]
  },
  {
   "cell_type": "code",
   "execution_count": null,
   "metadata": {
    "colab": {
     "base_uri": "https://localhost:8080/"
    },
    "id": "zOZk0s450ar2",
    "outputId": "6d3ec2bd-c807-4216-c137-ac433c730236"
   },
   "outputs": [
    {
     "name": "stdout",
     "output_type": "stream",
     "text": [
      "Epoch 1/100\n",
      "46/46 [==============================] - 41s 800ms/step - loss: 1.4155 - accuracy: 0.6252 - val_loss: 0.2414 - val_accuracy: 0.9661\n",
      "Epoch 2/100\n",
      "46/46 [==============================] - 35s 766ms/step - loss: 0.3480 - accuracy: 0.9238 - val_loss: 0.1148 - val_accuracy: 0.9831\n",
      "Epoch 3/100\n",
      "46/46 [==============================] - 35s 760ms/step - loss: 0.2436 - accuracy: 0.9250 - val_loss: 0.1066 - val_accuracy: 0.9661\n",
      "Epoch 4/100\n",
      "46/46 [==============================] - 35s 759ms/step - loss: 0.1960 - accuracy: 0.9498 - val_loss: 0.0815 - val_accuracy: 0.9831\n",
      "Epoch 5/100\n",
      "46/46 [==============================] - 35s 757ms/step - loss: 0.1874 - accuracy: 0.9496 - val_loss: 0.1040 - val_accuracy: 0.9605\n",
      "Epoch 6/100\n",
      "46/46 [==============================] - 35s 761ms/step - loss: 0.1740 - accuracy: 0.9437 - val_loss: 0.0889 - val_accuracy: 0.9661\n",
      "Epoch 7/100\n",
      "46/46 [==============================] - 35s 755ms/step - loss: 0.1695 - accuracy: 0.9473 - val_loss: 0.0634 - val_accuracy: 0.9944\n",
      "Epoch 8/100\n",
      "46/46 [==============================] - 35s 758ms/step - loss: 0.1554 - accuracy: 0.9534 - val_loss: 0.0999 - val_accuracy: 0.9548\n",
      "Epoch 9/100\n",
      "46/46 [==============================] - 35s 754ms/step - loss: 0.1535 - accuracy: 0.9476 - val_loss: 0.0792 - val_accuracy: 0.9831\n",
      "Epoch 10/100\n",
      "46/46 [==============================] - 35s 763ms/step - loss: 0.1492 - accuracy: 0.9562 - val_loss: 0.0597 - val_accuracy: 0.9887\n",
      "Epoch 11/100\n",
      "46/46 [==============================] - 35s 755ms/step - loss: 0.1491 - accuracy: 0.9489 - val_loss: 0.0593 - val_accuracy: 0.9831\n",
      "Epoch 12/100\n",
      "46/46 [==============================] - 35s 757ms/step - loss: 0.1387 - accuracy: 0.9516 - val_loss: 0.0919 - val_accuracy: 0.9605\n",
      "Epoch 13/100\n",
      "46/46 [==============================] - 35s 757ms/step - loss: 0.1397 - accuracy: 0.9536 - val_loss: 0.0829 - val_accuracy: 0.9661\n",
      "Epoch 14/100\n",
      "46/46 [==============================] - 35s 757ms/step - loss: 0.1190 - accuracy: 0.9605 - val_loss: 0.0710 - val_accuracy: 0.9774\n",
      "Epoch 15/100\n",
      "46/46 [==============================] - 35s 758ms/step - loss: 0.0956 - accuracy: 0.9711 - val_loss: 0.0630 - val_accuracy: 0.9774\n",
      "Epoch 16/100\n",
      "46/46 [==============================] - 35s 753ms/step - loss: 0.1010 - accuracy: 0.9718 - val_loss: 0.0684 - val_accuracy: 0.9831\n"
     ]
    }
   ],
   "source": [
    "from keras import callbacks \n",
    "earlystopping = callbacks.EarlyStopping(monitor =\"val_loss\",  \n",
    "                                        mode =\"min\", patience = 5,  \n",
    "                                        restore_best_weights = True\n",
    "                                        )\n",
    "model_fit = model.fit(training_set, epochs=100,\n",
    "          callbacks=[earlystopping], \n",
    "          validation_data=validation_set)"
   ]
  },
  {
   "cell_type": "markdown",
   "metadata": {
    "id": "Ce26XlMY0ar2"
   },
   "source": [
    "**evaluation**"
   ]
  },
  {
   "cell_type": "markdown",
   "metadata": {
    "id": "cX1AHJbS0ar2"
   },
   "source": [
    "Accuracy vs Epochs"
   ]
  },
  {
   "cell_type": "code",
   "execution_count": null,
   "metadata": {
    "colab": {
     "base_uri": "https://localhost:8080/",
     "height": 422
    },
    "id": "VdV5XRNq0ar2",
    "outputId": "690d1c48-89ed-477d-95a9-712707be6bb3"
   },
   "outputs": [
    {
     "data": {
      "text/plain": [
       "<matplotlib.legend.Legend at 0x7fe26667bef0>"
      ]
     },
     "execution_count": 154,
     "metadata": {
      "tags": []
     },
     "output_type": "execute_result"
    },
    {
     "data": {
      "image/png": "[encoded data removed]",
      "text/plain": [
       "<Figure size 1152x432 with 2 Axes>"
      ]
     },
     "metadata": {
      "needs_background": "light",
      "tags": []
     },
     "output_type": "display_data"
    }
   ],
   "source": [
    "fig, ax = plt.subplots(nrows=1, ncols=2, figsize=(16, 6))\n",
    "\n",
    "ax[0].plot(model_fit.history['accuracy'], label='accuracy')\n",
    "ax[0].plot(model_fit.history['val_accuracy'], label='val_accuracy')\n",
    "ax[0].set_xlabel('Epoch')\n",
    "ax[0].set_ylabel('Accuracy')\n",
    "ax[0].set_title('Accuracy_InceptionV3_RMSProp_10_breeds')\n",
    "ax[0].legend()\n",
    "\n",
    "ax[1].plot(model_fit.history['loss'], label='loss')\n",
    "ax[1].plot(model_fit.history['val_loss'], label='val_loss')\n",
    "ax[1].set_xlabel('Epoch')\n",
    "ax[1].set_ylabel('Loss')\n",
    "ax[1].set_title('Loss_InceptionV3_RMSProp_10_breeds')\n",
    "ax[1].legend()"
   ]
  },
  {
   "cell_type": "code",
   "execution_count": null,
   "metadata": {
    "colab": {
     "base_uri": "https://localhost:8080/"
    },
    "id": "S9aPmsoW0ar3",
    "outputId": "415c4063-6f36-4dd2-d452-e40f892c9942"
   },
   "outputs": [
    {
     "name": "stdout",
     "output_type": "stream",
     "text": [
      "Found 190 images belonging to 10 classes.\n"
     ]
    }
   ],
   "source": [
    "test_datagen = ImageDataGenerator(rescale = 1./255)\n",
    "\n",
    "test_set = test_datagen.flow_from_directory('test',\n",
    "                                                 target_size = (299, 299),\n",
    "                                                 batch_size = 32,\n",
    "                                                 class_mode = 'categorical',\n",
    "                                            shuffle=False)"
   ]
  },
  {
   "cell_type": "code",
   "execution_count": null,
   "metadata": {
    "colab": {
     "base_uri": "https://localhost:8080/"
    },
    "id": "oI64rQbz0ar3",
    "outputId": "f7de6a7d-0a44-4590-8e7b-05c908c540f1"
   },
   "outputs": [
    {
     "name": "stdout",
     "output_type": "stream",
     "text": [
      "6/6 [==============================] - 1s 206ms/step - loss: 0.0894 - accuracy: 0.9421\n"
     ]
    },
    {
     "data": {
      "text/plain": [
       "[0.08944632112979889, 0.942105233669281]"
      ]
     },
     "execution_count": 156,
     "metadata": {
      "tags": []
     },
     "output_type": "execute_result"
    }
   ],
   "source": [
    "prediction = model.evaluate(test_set)\n",
    "prediction"
   ]
  },
  {
   "cell_type": "code",
   "execution_count": null,
   "metadata": {
    "id": "JRYYLYkL0ar3"
   },
   "outputs": [],
   "source": [
    "predicted_probabilities = model.predict(test_set)"
   ]
  },
  {
   "cell_type": "code",
   "execution_count": null,
   "metadata": {
    "id": "5u1Zd-ig0ar4"
   },
   "outputs": [],
   "source": [
    "l=[]\n",
    "for proba in predicted_probabilities:\n",
    "  l.append(np.argmax(proba))\n",
    "predicted_classes = np.array(l)"
   ]
  },
  {
   "cell_type": "code",
   "execution_count": null,
   "metadata": {
    "colab": {
     "base_uri": "https://localhost:8080/"
    },
    "id": "K69BqEZW0ar4",
    "outputId": "b47f6e71-f15f-4b6c-bee5-5ced7d6448ea"
   },
   "outputs": [
    {
     "data": {
      "text/plain": [
       "0.9421052631578948"
      ]
     },
     "execution_count": 159,
     "metadata": {
      "tags": []
     },
     "output_type": "execute_result"
    }
   ],
   "source": [
    "from sklearn.metrics import accuracy_score, classification_report\n",
    "accuracy_score(predicted_classes, test_set.classes)"
   ]
  },
  {
   "cell_type": "code",
   "execution_count": null,
   "metadata": {
    "colab": {
     "base_uri": "https://localhost:8080/",
     "height": 107
    },
    "id": "F43ixZck0ar4",
    "outputId": "54a60286-cc9a-4f89-c378-4845a200a106"
   },
   "outputs": [
    {
     "data": {
      "application/vnd.google.colaboratory.intrinsic+json": {
       "type": "string"
      },
      "text/plain": [
       "'              precision    recall  f1-score   support\\n\\n           0       0.94      0.89      0.91        18\\n           1       0.88      0.88      0.88        16\\n           2       0.90      0.95      0.92        19\\n           3       0.95      1.00      0.97        19\\n           4       1.00      1.00      1.00        24\\n           5       1.00      1.00      1.00        18\\n           6       1.00      0.95      0.98        22\\n           7       1.00      1.00      1.00        16\\n           8       0.72      0.87      0.79        15\\n           9       1.00      0.87      0.93        23\\n\\n    accuracy                           0.94       190\\n   macro avg       0.94      0.94      0.94       190\\nweighted avg       0.95      0.94      0.94       190\\n'"
      ]
     },
     "execution_count": 160,
     "metadata": {
      "tags": []
     },
     "output_type": "execute_result"
    }
   ],
   "source": [
    "classification_report(predicted_classes, test_set.classes)"
   ]
  },
  {
   "cell_type": "markdown",
   "metadata": {
    "id": "kUWyagmY0asB"
   },
   "source": [
    "**Data preprocessing**"
   ]
  },
  {
   "cell_type": "code",
   "execution_count": null,
   "metadata": {
    "id": "63MxW2bY0asB"
   },
   "outputs": [],
   "source": [
    "train_datagen = ImageDataGenerator(rescale = 1./255,\n",
    "                                  rotation_range=40,\n",
    "                                   width_shift_range=0.2,\n",
    "                                   height_shift_range=0.2,\n",
    "                                   shear_range = 0.2,\n",
    "                                   zoom_range = 0.2,\n",
    "                                   horizontal_flip = True,\n",
    "                                   fill_mode='nearest'\n",
    "                                   )\n",
    " \n",
    "val_datagen = ImageDataGenerator(rescale = 1./255)\n",
    "test_datagen = ImageDataGenerator(rescale = 1./255)"
   ]
  },
  {
   "cell_type": "code",
   "execution_count": null,
   "metadata": {
    "colab": {
     "base_uri": "https://localhost:8080/"
    },
    "id": "wl8D-FAP0asB",
    "outputId": "9dbbad90-e616-40f1-d17e-fa99a0c70ac6"
   },
   "outputs": [
    {
     "name": "stdout",
     "output_type": "stream",
     "text": [
      "Found 1447 images belonging to 10 classes.\n"
     ]
    }
   ],
   "source": [
    "training_set = train_datagen.flow_from_directory('train',\n",
    "                                                 target_size = (299, 299),\n",
    "                                                 batch_size = 32,\n",
    "                                                 class_mode = 'categorical')"
   ]
  },
  {
   "cell_type": "code",
   "execution_count": null,
   "metadata": {
    "colab": {
     "base_uri": "https://localhost:8080/"
    },
    "id": "i8LUBjKq0asB",
    "outputId": "35963b4b-6d20-44c8-c9ff-ef8c63dca209"
   },
   "outputs": [
    {
     "name": "stdout",
     "output_type": "stream",
     "text": [
      "Found 177 images belonging to 10 classes.\n"
     ]
    }
   ],
   "source": [
    "validation_set = val_datagen.flow_from_directory('val',\n",
    "                                                 target_size = (299, 299),\n",
    "                                                 batch_size = 32,\n",
    "                                                 class_mode = 'categorical')"
   ]
  },
  {
   "cell_type": "markdown",
   "metadata": {
    "id": "026H26i00asC"
   },
   "source": [
    "**model**"
   ]
  },
  {
   "cell_type": "markdown",
   "metadata": {
    "id": "CDxx_lIu0asC"
   },
   "source": [
    "Xception model with pre-trained weights"
   ]
  },
  {
   "cell_type": "code",
   "execution_count": null,
   "metadata": {
    "id": "Zu54X6hd0asC"
   },
   "outputs": [],
   "source": [
    "base_model = keras.applications.Xception(\n",
    "    weights='imagenet',  # Load weights pre-trained on ImageNet.\n",
    "    input_shape=(299, 299, 3),\n",
    "    include_top=False)  # Do not include the ImageNet classifier at the top."
   ]
  },
  {
   "cell_type": "markdown",
   "metadata": {
    "id": "0Od2UXWu0asC"
   },
   "source": [
    "Freeze the base model"
   ]
  },
  {
   "cell_type": "code",
   "execution_count": null,
   "metadata": {
    "id": "Lt46dzfS0asC"
   },
   "outputs": [],
   "source": [
    "base_model.trainable = False"
   ]
  },
  {
   "cell_type": "markdown",
   "metadata": {
    "id": "Mmt0I4nA0asC"
   },
   "source": [
    "Create new model on top"
   ]
  },
  {
   "cell_type": "code",
   "execution_count": null,
   "metadata": {
    "id": "fjpBZFMz0asD"
   },
   "outputs": [],
   "source": [
    "inputs = keras.Input(shape=(299, 299, 3))\n",
    "# We make sure that the base_model is running in inference mode here,\n",
    "# by passing `training=False`.\n",
    "x = tf.keras.applications.inception_v3.preprocess_input(inputs)\n",
    "x = base_model(inputs, training=False)\n",
    "# Convert features of shape `base_model.output_shape[1:]` to vectors\n",
    "x = keras.layers.GlobalAveragePooling2D()(x)\n",
    "# x = keras.layers.Dense(32, activation='relu')\n",
    "# A Dense classifier (10 class)\n",
    "outputs = keras.layers.Dense(10, activation='softmax')(x)\n",
    "model = keras.Model(inputs, outputs)"
   ]
  },
  {
   "cell_type": "code",
   "execution_count": null,
   "metadata": {
    "colab": {
     "base_uri": "https://localhost:8080/"
    },
    "id": "93N_QlhD0asD",
    "outputId": "73d63de9-a96e-44c3-abd4-d0de4ce4822c"
   },
   "outputs": [
    {
     "name": "stdout",
     "output_type": "stream",
     "text": [
      "Model: \"model_8\"\n",
      "_________________________________________________________________\n",
      "Layer (type)                 Output Shape              Param #   \n",
      "=================================================================\n",
      "input_19 (InputLayer)        [(None, 299, 299, 3)]     0         \n",
      "_________________________________________________________________\n",
      "xception (Functional)        (None, 10, 10, 2048)      20861480  \n",
      "_________________________________________________________________\n",
      "global_average_pooling2d_2 ( (None, 2048)              0         \n",
      "_________________________________________________________________\n",
      "dense_8 (Dense)              (None, 10)                20490     \n",
      "=================================================================\n",
      "Total params: 20,881,970\n",
      "Trainable params: 20,490\n",
      "Non-trainable params: 20,861,480\n",
      "_________________________________________________________________\n"
     ]
    }
   ],
   "source": [
    "model.summary()"
   ]
  },
  {
   "cell_type": "markdown",
   "metadata": {
    "id": "46C7bJpy0asD"
   },
   "source": [
    "Train the model on new data"
   ]
  },
  {
   "cell_type": "code",
   "execution_count": null,
   "metadata": {
    "id": "1VmOgSH_0asD"
   },
   "outputs": [],
   "source": [
    "model.compile(optimizer='Adam',\n",
    "              loss='categorical_crossentropy',\n",
    "              metrics=['accuracy'])"
   ]
  },
  {
   "cell_type": "code",
   "execution_count": null,
   "metadata": {
    "colab": {
     "base_uri": "https://localhost:8080/"
    },
    "id": "fUComG_x0asD",
    "outputId": "bbab4b9a-dd25-4bed-9dbe-932db54c55a1"
   },
   "outputs": [
    {
     "name": "stdout",
     "output_type": "stream",
     "text": [
      "Epoch 1/100\n",
      "46/46 [==============================] - 40s 803ms/step - loss: 1.4505 - accuracy: 0.6642 - val_loss: 0.2896 - val_accuracy: 0.9605\n",
      "Epoch 2/100\n",
      "46/46 [==============================] - 36s 780ms/step - loss: 0.3454 - accuracy: 0.9288 - val_loss: 0.1735 - val_accuracy: 0.9718\n",
      "Epoch 3/100\n",
      "46/46 [==============================] - 36s 781ms/step - loss: 0.2425 - accuracy: 0.9378 - val_loss: 0.1442 - val_accuracy: 0.9661\n",
      "Epoch 4/100\n",
      "46/46 [==============================] - 36s 784ms/step - loss: 0.2152 - accuracy: 0.9389 - val_loss: 0.1337 - val_accuracy: 0.9605\n",
      "Epoch 5/100\n",
      "46/46 [==============================] - 36s 781ms/step - loss: 0.1864 - accuracy: 0.9466 - val_loss: 0.1252 - val_accuracy: 0.9605\n",
      "Epoch 6/100\n",
      "46/46 [==============================] - 36s 777ms/step - loss: 0.1552 - accuracy: 0.9599 - val_loss: 0.1280 - val_accuracy: 0.9661\n",
      "Epoch 7/100\n",
      "46/46 [==============================] - 36s 776ms/step - loss: 0.1501 - accuracy: 0.9562 - val_loss: 0.1164 - val_accuracy: 0.9718\n",
      "Epoch 8/100\n",
      "46/46 [==============================] - 36s 775ms/step - loss: 0.1359 - accuracy: 0.9615 - val_loss: 0.1107 - val_accuracy: 0.9718\n",
      "Epoch 9/100\n",
      "46/46 [==============================] - 36s 790ms/step - loss: 0.1187 - accuracy: 0.9699 - val_loss: 0.1119 - val_accuracy: 0.9605\n",
      "Epoch 10/100\n",
      "46/46 [==============================] - 36s 771ms/step - loss: 0.1284 - accuracy: 0.9534 - val_loss: 0.1119 - val_accuracy: 0.9605\n",
      "Epoch 11/100\n",
      "46/46 [==============================] - 36s 772ms/step - loss: 0.1089 - accuracy: 0.9672 - val_loss: 0.1109 - val_accuracy: 0.9661\n",
      "Epoch 12/100\n",
      "46/46 [==============================] - 35s 769ms/step - loss: 0.1264 - accuracy: 0.9515 - val_loss: 0.1059 - val_accuracy: 0.9661\n",
      "Epoch 13/100\n",
      "46/46 [==============================] - 36s 772ms/step - loss: 0.1068 - accuracy: 0.9700 - val_loss: 0.1118 - val_accuracy: 0.9605\n",
      "Epoch 14/100\n",
      "46/46 [==============================] - 36s 776ms/step - loss: 0.1096 - accuracy: 0.9709 - val_loss: 0.1037 - val_accuracy: 0.9605\n",
      "Epoch 15/100\n",
      "46/46 [==============================] - 35s 766ms/step - loss: 0.1022 - accuracy: 0.9694 - val_loss: 0.1074 - val_accuracy: 0.9661\n",
      "Epoch 16/100\n",
      "46/46 [==============================] - 35s 765ms/step - loss: 0.1097 - accuracy: 0.9652 - val_loss: 0.1075 - val_accuracy: 0.9774\n",
      "Epoch 17/100\n",
      "46/46 [==============================] - 35s 766ms/step - loss: 0.0897 - accuracy: 0.9739 - val_loss: 0.1071 - val_accuracy: 0.9661\n",
      "Epoch 18/100\n",
      "46/46 [==============================] - 35s 768ms/step - loss: 0.0897 - accuracy: 0.9727 - val_loss: 0.1091 - val_accuracy: 0.9718\n",
      "Epoch 19/100\n",
      "46/46 [==============================] - 35s 765ms/step - loss: 0.0766 - accuracy: 0.9739 - val_loss: 0.1132 - val_accuracy: 0.9661\n"
     ]
    }
   ],
   "source": [
    "from keras import callbacks \n",
    "earlystopping = callbacks.EarlyStopping(monitor =\"val_loss\",  \n",
    "                                        mode =\"min\", patience = 5,  \n",
    "                                        restore_best_weights = True\n",
    "                                        )\n",
    "model_fit = model.fit(training_set, epochs=100,\n",
    "          callbacks=[earlystopping], \n",
    "          validation_data=validation_set)"
   ]
  },
  {
   "cell_type": "markdown",
   "metadata": {
    "id": "Hd5F9Evu0asD"
   },
   "source": [
    "**evaluation**"
   ]
  },
  {
   "cell_type": "markdown",
   "metadata": {
    "id": "4UAGpLtX0asE"
   },
   "source": [
    "Accuracy vs Epochs"
   ]
  },
  {
   "cell_type": "code",
   "execution_count": null,
   "metadata": {
    "colab": {
     "base_uri": "https://localhost:8080/",
     "height": 422
    },
    "id": "1d-U7dui0asE",
    "outputId": "90014e95-6e25-44b9-c971-2b9db92a74ed"
   },
   "outputs": [
    {
     "data": {
      "text/plain": [
       "<matplotlib.legend.Legend at 0x7fe2661e5a90>"
      ]
     },
     "execution_count": 134,
     "metadata": {
      "tags": []
     },
     "output_type": "execute_result"
    },
    {
     "data": {
      "image/png": "[encoded data removed]",
      "text/plain": [
       "<Figure size 1152x432 with 2 Axes>"
      ]
     },
     "metadata": {
      "needs_background": "light",
      "tags": []
     },
     "output_type": "display_data"
    }
   ],
   "source": [
    "fig, ax = plt.subplots(nrows=1, ncols=2, figsize=(16, 6))\n",
    "\n",
    "ax[0].plot(model_fit.history['accuracy'], label='accuracy')\n",
    "ax[0].plot(model_fit.history['val_accuracy'], label='val_accuracy')\n",
    "ax[0].set_xlabel('Epoch')\n",
    "ax[0].set_ylabel('Accuracy')\n",
    "ax[0].set_title('Accuracy_Xception_Adam_10_breeds')\n",
    "ax[0].legend()\n",
    "\n",
    "ax[1].plot(model_fit.history['loss'], label='loss')\n",
    "ax[1].plot(model_fit.history['val_loss'], label='val_loss')\n",
    "ax[1].set_xlabel('Epoch')\n",
    "ax[1].set_ylabel('Loss')\n",
    "ax[1].set_title('Loss_Xception_Adam_10_breeds')\n",
    "ax[1].legend()"
   ]
  },
  {
   "cell_type": "code",
   "execution_count": null,
   "metadata": {
    "colab": {
     "base_uri": "https://localhost:8080/"
    },
    "id": "2I1j_k4m0asE",
    "outputId": "ad2aeb38-4c48-4806-9d4c-1dfa38f09b86"
   },
   "outputs": [
    {
     "name": "stdout",
     "output_type": "stream",
     "text": [
      "Found 190 images belonging to 10 classes.\n"
     ]
    }
   ],
   "source": [
    "test_datagen = ImageDataGenerator(rescale = 1./255)\n",
    "\n",
    "test_set = test_datagen.flow_from_directory('test',\n",
    "                                                 target_size = (299, 299),\n",
    "                                                 batch_size = 32,\n",
    "                                                 class_mode = 'categorical',\n",
    "                                            shuffle=False)"
   ]
  },
  {
   "cell_type": "code",
   "execution_count": null,
   "metadata": {
    "colab": {
     "base_uri": "https://localhost:8080/"
    },
    "id": "BgBuUVf70asE",
    "outputId": "9679a4ff-bd40-4acb-e235-2d4e665b4149"
   },
   "outputs": [
    {
     "name": "stdout",
     "output_type": "stream",
     "text": [
      "6/6 [==============================] - 1s 213ms/step - loss: 0.0547 - accuracy: 0.9895\n"
     ]
    },
    {
     "data": {
      "text/plain": [
       "[0.05474743992090225, 0.9894737005233765]"
      ]
     },
     "execution_count": 136,
     "metadata": {
      "tags": []
     },
     "output_type": "execute_result"
    }
   ],
   "source": [
    "prediction = model.evaluate(test_set)\n",
    "prediction"
   ]
  },
  {
   "cell_type": "code",
   "execution_count": null,
   "metadata": {
    "id": "uzX067ve0asE"
   },
   "outputs": [],
   "source": [
    "predicted_probabilities = model.predict(test_set)"
   ]
  },
  {
   "cell_type": "code",
   "execution_count": null,
   "metadata": {
    "id": "DKTel_Dr0asE"
   },
   "outputs": [],
   "source": [
    "l=[]\n",
    "for proba in predicted_probabilities:\n",
    "  l.append(np.argmax(proba))\n",
    "predicted_classes = np.array(l)"
   ]
  },
  {
   "cell_type": "code",
   "execution_count": null,
   "metadata": {
    "colab": {
     "base_uri": "https://localhost:8080/"
    },
    "id": "VHYuseRa0asF",
    "outputId": "72596754-5120-4349-a035-c8f7cfccd343"
   },
   "outputs": [
    {
     "data": {
      "text/plain": [
       "0.9894736842105263"
      ]
     },
     "execution_count": 139,
     "metadata": {
      "tags": []
     },
     "output_type": "execute_result"
    }
   ],
   "source": [
    "from sklearn.metrics import accuracy_score, classification_report\n",
    "accuracy_score(predicted_classes, test_set.classes)"
   ]
  },
  {
   "cell_type": "code",
   "execution_count": null,
   "metadata": {
    "colab": {
     "base_uri": "https://localhost:8080/",
     "height": 107
    },
    "id": "Ilsl3E_r0asF",
    "outputId": "3ff025ee-20af-4a2b-b4fc-5a6ceeab3299"
   },
   "outputs": [
    {
     "data": {
      "application/vnd.google.colaboratory.intrinsic+json": {
       "type": "string"
      },
      "text/plain": [
       "'              precision    recall  f1-score   support\\n\\n           0       0.94      1.00      0.97        16\\n           1       1.00      0.94      0.97        17\\n           2       1.00      0.95      0.98        21\\n           3       1.00      1.00      1.00        20\\n           4       1.00      1.00      1.00        24\\n           5       1.00      1.00      1.00        18\\n           6       1.00      1.00      1.00        21\\n           7       1.00      1.00      1.00        16\\n           8       0.94      1.00      0.97        17\\n           9       1.00      1.00      1.00        20\\n\\n    accuracy                           0.99       190\\n   macro avg       0.99      0.99      0.99       190\\nweighted avg       0.99      0.99      0.99       190\\n'"
      ]
     },
     "execution_count": 140,
     "metadata": {
      "tags": []
     },
     "output_type": "execute_result"
    }
   ],
   "source": [
    "classification_report(predicted_classes, test_set.classes)"
   ]
  },
  {
   "cell_type": "markdown",
   "metadata": {
    "id": "c0UqtikY4AtT"
   },
   "source": [
    "### **Adam**"
   ]
  },
  {
   "cell_type": "markdown",
   "metadata": {
    "id": "5PkgTgsZ4Atg"
   },
   "source": [
    "**Data preprocessing**"
   ]
  },
  {
   "cell_type": "code",
   "execution_count": null,
   "metadata": {
    "id": "JMaQi0L84Ath"
   },
   "outputs": [],
   "source": [
    "train_datagen = ImageDataGenerator(rescale = 1./255,\n",
    "                                  rotation_range=40,\n",
    "                                   width_shift_range=0.2,\n",
    "                                   height_shift_range=0.2,\n",
    "                                   shear_range = 0.2,\n",
    "                                   zoom_range = 0.2,\n",
    "                                   horizontal_flip = True,\n",
    "                                   fill_mode='nearest'\n",
    "                                   )\n",
    " \n",
    "val_datagen = ImageDataGenerator(rescale = 1./255)\n",
    "test_datagen = ImageDataGenerator(rescale = 1./255)"
   ]
  },
  {
   "cell_type": "code",
   "execution_count": null,
   "metadata": {
    "colab": {
     "base_uri": "https://localhost:8080/"
    },
    "id": "tfxERw6u4Ath",
    "outputId": "e2a12b36-3ea8-48b3-e03c-d78b97933875"
   },
   "outputs": [
    {
     "name": "stdout",
     "output_type": "stream",
     "text": [
      "Found 1447 images belonging to 10 classes.\n"
     ]
    }
   ],
   "source": [
    "training_set = train_datagen.flow_from_directory('train',\n",
    "                                                 target_size = (299, 299),\n",
    "                                                 batch_size = 32,\n",
    "                                                 class_mode = 'categorical')"
   ]
  },
  {
   "cell_type": "code",
   "execution_count": null,
   "metadata": {
    "colab": {
     "base_uri": "https://localhost:8080/"
    },
    "id": "MeILoiv-4Ati",
    "outputId": "4922b0bc-c7d1-4568-c607-3de106979084"
   },
   "outputs": [
    {
     "name": "stdout",
     "output_type": "stream",
     "text": [
      "Found 177 images belonging to 10 classes.\n"
     ]
    }
   ],
   "source": [
    "validation_set = val_datagen.flow_from_directory('val',\n",
    "                                                 target_size = (299, 299),\n",
    "                                                 batch_size = 32,\n",
    "                                                 class_mode = 'categorical')"
   ]
  },
  {
   "cell_type": "markdown",
   "metadata": {
    "id": "5WoSnvET4Atk"
   },
   "source": [
    "**model**"
   ]
  },
  {
   "cell_type": "markdown",
   "metadata": {
    "id": "9799bRZU4Atk"
   },
   "source": [
    "Inception model with pre-trained weights"
   ]
  },
  {
   "cell_type": "code",
   "execution_count": null,
   "metadata": {
    "id": "xuVjR3XQ4Atl"
   },
   "outputs": [],
   "source": [
    "base_model = keras.applications.InceptionV3(\n",
    "    weights='imagenet',  # Load weights pre-trained on ImageNet.\n",
    "    input_shape=(299, 299, 3),\n",
    "    include_top=False)  # Do not include the ImageNet classifier at the top."
   ]
  },
  {
   "cell_type": "markdown",
   "metadata": {
    "id": "ou2KPvak4Atl"
   },
   "source": [
    "Freeze the base model"
   ]
  },
  {
   "cell_type": "code",
   "execution_count": null,
   "metadata": {
    "id": "GNtl6CQQ4Atm"
   },
   "outputs": [],
   "source": [
    "base_model.trainable = False"
   ]
  },
  {
   "cell_type": "markdown",
   "metadata": {
    "id": "jUlVz8mc4Atm"
   },
   "source": [
    "Create new model on top"
   ]
  },
  {
   "cell_type": "code",
   "execution_count": null,
   "metadata": {
    "id": "BxLkcAlB4Atm"
   },
   "outputs": [],
   "source": [
    "inputs = keras.Input(shape=(299, 299, 3))\n",
    "# We make sure that the base_model is running in inference mode here,\n",
    "# by passing `training=False`.\n",
    "x = tf.keras.applications.inception_v3.preprocess_input(inputs)\n",
    "x = base_model(inputs, training=False)\n",
    "# Convert features of shape `base_model.output_shape[1:]` to vectors\n",
    "x = keras.layers.GlobalAveragePooling2D()(x)\n",
    "# x = keras.layers.Dense(32, activation='relu')\n",
    "# A Dense classifier (10 class)\n",
    "outputs = keras.layers.Dense(10, activation='softmax')(x)\n",
    "model = keras.Model(inputs, outputs)"
   ]
  },
  {
   "cell_type": "code",
   "execution_count": null,
   "metadata": {
    "colab": {
     "base_uri": "https://localhost:8080/"
    },
    "id": "ERXhC_HY4Atn",
    "outputId": "924994df-e1e8-4456-9237-97029ead0e0d"
   },
   "outputs": [
    {
     "name": "stdout",
     "output_type": "stream",
     "text": [
      "Model: \"model_12\"\n",
      "_________________________________________________________________\n",
      "Layer (type)                 Output Shape              Param #   \n",
      "=================================================================\n",
      "input_27 (InputLayer)        [(None, 299, 299, 3)]     0         \n",
      "_________________________________________________________________\n",
      "inception_v3 (Functional)    (None, 8, 8, 2048)        21802784  \n",
      "_________________________________________________________________\n",
      "global_average_pooling2d_6 ( (None, 2048)              0         \n",
      "_________________________________________________________________\n",
      "dense_12 (Dense)             (None, 10)                20490     \n",
      "=================================================================\n",
      "Total params: 21,823,274\n",
      "Trainable params: 20,490\n",
      "Non-trainable params: 21,802,784\n",
      "_________________________________________________________________\n"
     ]
    }
   ],
   "source": [
    "model.summary()"
   ]
  },
  {
   "cell_type": "markdown",
   "metadata": {
    "id": "xlpiSKFJ4Atn"
   },
   "source": [
    "Train the model on new data"
   ]
  },
  {
   "cell_type": "code",
   "execution_count": null,
   "metadata": {
    "id": "ZN0WyUl04Ato"
   },
   "outputs": [],
   "source": [
    "model.compile(optimizer='adam',\n",
    "              loss='categorical_crossentropy',\n",
    "              metrics=['accuracy'])"
   ]
  },
  {
   "cell_type": "code",
   "execution_count": null,
   "metadata": {
    "colab": {
     "base_uri": "https://localhost:8080/"
    },
    "id": "DjzJ2j7D4Ato",
    "outputId": "50d7ce44-a296-476c-f76b-b16becf46ff9"
   },
   "outputs": [
    {
     "name": "stdout",
     "output_type": "stream",
     "text": [
      "Epoch 1/100\n",
      "46/46 [==============================] - 41s 801ms/step - loss: 1.5086 - accuracy: 0.5605 - val_loss: 0.2321 - val_accuracy: 0.9605\n",
      "Epoch 2/100\n",
      "46/46 [==============================] - 35s 766ms/step - loss: 0.3378 - accuracy: 0.9121 - val_loss: 0.1368 - val_accuracy: 0.9661\n",
      "Epoch 3/100\n",
      "46/46 [==============================] - 35s 768ms/step - loss: 0.2595 - accuracy: 0.9245 - val_loss: 0.1024 - val_accuracy: 0.9774\n",
      "Epoch 4/100\n",
      "46/46 [==============================] - 35s 767ms/step - loss: 0.2071 - accuracy: 0.9420 - val_loss: 0.0940 - val_accuracy: 0.9718\n",
      "Epoch 5/100\n",
      "46/46 [==============================] - 35s 767ms/step - loss: 0.1533 - accuracy: 0.9563 - val_loss: 0.0849 - val_accuracy: 0.9661\n",
      "Epoch 6/100\n",
      "46/46 [==============================] - 35s 768ms/step - loss: 0.1747 - accuracy: 0.9432 - val_loss: 0.0833 - val_accuracy: 0.9718\n",
      "Epoch 7/100\n",
      "46/46 [==============================] - 35s 764ms/step - loss: 0.1726 - accuracy: 0.9449 - val_loss: 0.0962 - val_accuracy: 0.9548\n",
      "Epoch 8/100\n",
      "46/46 [==============================] - 35s 760ms/step - loss: 0.1655 - accuracy: 0.9449 - val_loss: 0.0829 - val_accuracy: 0.9605\n",
      "Epoch 9/100\n",
      "46/46 [==============================] - 35s 764ms/step - loss: 0.1664 - accuracy: 0.9443 - val_loss: 0.0680 - val_accuracy: 0.9774\n",
      "Epoch 10/100\n",
      "46/46 [==============================] - 35s 760ms/step - loss: 0.1212 - accuracy: 0.9621 - val_loss: 0.0703 - val_accuracy: 0.9661\n",
      "Epoch 11/100\n",
      "46/46 [==============================] - 35s 760ms/step - loss: 0.1216 - accuracy: 0.9694 - val_loss: 0.0811 - val_accuracy: 0.9718\n",
      "Epoch 12/100\n",
      "46/46 [==============================] - 35s 762ms/step - loss: 0.1356 - accuracy: 0.9509 - val_loss: 0.0748 - val_accuracy: 0.9774\n",
      "Epoch 13/100\n",
      "46/46 [==============================] - 35s 757ms/step - loss: 0.0939 - accuracy: 0.9743 - val_loss: 0.0779 - val_accuracy: 0.9718\n",
      "Epoch 14/100\n",
      "46/46 [==============================] - 35s 760ms/step - loss: 0.1247 - accuracy: 0.9613 - val_loss: 0.0685 - val_accuracy: 0.9774\n"
     ]
    }
   ],
   "source": [
    "from keras import callbacks \n",
    "earlystopping = callbacks.EarlyStopping(monitor =\"val_loss\",  \n",
    "                                        mode =\"min\", patience = 5,  \n",
    "                                        restore_best_weights = True\n",
    "                                        )\n",
    "model_fit = model.fit(training_set, epochs=100,\n",
    "          callbacks=[earlystopping], \n",
    "          validation_data=validation_set)"
   ]
  },
  {
   "cell_type": "markdown",
   "metadata": {
    "id": "AYMhMHPn4Atp"
   },
   "source": [
    "**evaluation**"
   ]
  },
  {
   "cell_type": "markdown",
   "metadata": {
    "id": "FjadRmYQ4Atp"
   },
   "source": [
    "Accuracy vs Epochs"
   ]
  },
  {
   "cell_type": "code",
   "execution_count": null,
   "metadata": {
    "colab": {
     "base_uri": "https://localhost:8080/",
     "height": 422
    },
    "id": "b4yKL7_X4Atp",
    "outputId": "4e2651b8-c388-45a1-be1b-07a52c9b7256"
   },
   "outputs": [
    {
     "data": {
      "text/plain": [
       "<matplotlib.legend.Legend at 0x7fe485787860>"
      ]
     },
     "execution_count": 171,
     "metadata": {
      "tags": []
     },
     "output_type": "execute_result"
    },
    {
     "data": {
      "image/png": "[encoded data removed]",
      "text/plain": [
       "<Figure size 1152x432 with 2 Axes>"
      ]
     },
     "metadata": {
      "needs_background": "light",
      "tags": []
     },
     "output_type": "display_data"
    }
   ],
   "source": [
    "fig, ax = plt.subplots(nrows=1, ncols=2, figsize=(16, 6))\n",
    "\n",
    "ax[0].plot(model_fit.history['accuracy'], label='accuracy')\n",
    "ax[0].plot(model_fit.history['val_accuracy'], label='val_accuracy')\n",
    "ax[0].set_xlabel('Epoch')\n",
    "ax[0].set_ylabel('Accuracy')\n",
    "ax[0].set_title('Accuracy_InceptionV3_Adam_10_breeds')\n",
    "ax[0].legend()\n",
    "\n",
    "ax[1].plot(model_fit.history['loss'], label='loss')\n",
    "ax[1].plot(model_fit.history['val_loss'], label='val_loss')\n",
    "ax[1].set_xlabel('Epoch')\n",
    "ax[1].set_ylabel('Loss')\n",
    "ax[1].set_title('Loss_InceptionV3_Adam_10_breeds')\n",
    "ax[1].legend()"
   ]
  },
  {
   "cell_type": "code",
   "execution_count": null,
   "metadata": {
    "colab": {
     "base_uri": "https://localhost:8080/"
    },
    "id": "nTdSOnmZ4Atq",
    "outputId": "8398603f-fb40-470c-905d-82aaeb39b1ae"
   },
   "outputs": [
    {
     "name": "stdout",
     "output_type": "stream",
     "text": [
      "Found 190 images belonging to 10 classes.\n"
     ]
    }
   ],
   "source": [
    "test_datagen = ImageDataGenerator(rescale = 1./255)\n",
    "\n",
    "test_set = test_datagen.flow_from_directory('test',\n",
    "                                                 target_size = (299, 299),\n",
    "                                                 batch_size = 32,\n",
    "                                                 class_mode = 'categorical',\n",
    "                                            shuffle=False)"
   ]
  },
  {
   "cell_type": "code",
   "execution_count": null,
   "metadata": {
    "colab": {
     "base_uri": "https://localhost:8080/"
    },
    "id": "KxGNttOQ4Atr",
    "outputId": "350cc085-0753-4479-93f6-1efc5009dc4a"
   },
   "outputs": [
    {
     "name": "stdout",
     "output_type": "stream",
     "text": [
      "6/6 [==============================] - 1s 206ms/step - loss: 0.1032 - accuracy: 0.9579\n"
     ]
    },
    {
     "data": {
      "text/plain": [
       "[0.10320128500461578, 0.9578947424888611]"
      ]
     },
     "execution_count": 173,
     "metadata": {
      "tags": []
     },
     "output_type": "execute_result"
    }
   ],
   "source": [
    "prediction = model.evaluate(test_set)\n",
    "prediction"
   ]
  },
  {
   "cell_type": "code",
   "execution_count": null,
   "metadata": {
    "id": "HOJCIuQY4Atr"
   },
   "outputs": [],
   "source": [
    "predicted_probabilities = model.predict(test_set)"
   ]
  },
  {
   "cell_type": "code",
   "execution_count": null,
   "metadata": {
    "id": "Kra0I6W24Atr"
   },
   "outputs": [],
   "source": [
    "l=[]\n",
    "for proba in predicted_probabilities:\n",
    "  l.append(np.argmax(proba))\n",
    "predicted_classes = np.array(l)"
   ]
  },
  {
   "cell_type": "code",
   "execution_count": null,
   "metadata": {
    "colab": {
     "base_uri": "https://localhost:8080/"
    },
    "id": "5w6FYIbd4Ats",
    "outputId": "70eac8f1-ead0-4582-c4d3-f65467b38db6"
   },
   "outputs": [
    {
     "data": {
      "text/plain": [
       "0.968421052631579"
      ]
     },
     "execution_count": 215,
     "metadata": {
      "tags": []
     },
     "output_type": "execute_result"
    }
   ],
   "source": [
    "from sklearn.metrics import accuracy_score, classification_report\n",
    "accuracy_score(predicted_classes, test_set.classes)"
   ]
  },
  {
   "cell_type": "code",
   "execution_count": null,
   "metadata": {
    "colab": {
     "base_uri": "https://localhost:8080/",
     "height": 107
    },
    "id": "dZLv4c3W4Ats",
    "outputId": "269d53cd-3039-462b-90f7-2d04b63835cd"
   },
   "outputs": [
    {
     "data": {
      "application/vnd.google.colaboratory.intrinsic+json": {
       "type": "string"
      },
      "text/plain": [
       "'              precision    recall  f1-score   support\\n\\n           0       0.94      1.00      0.97        16\\n           1       0.88      0.88      0.88        16\\n           2       1.00      0.95      0.98        21\\n           3       0.95      1.00      0.97        19\\n           4       1.00      1.00      1.00        24\\n           5       1.00      1.00      1.00        18\\n           6       1.00      1.00      1.00        21\\n           7       1.00      1.00      1.00        16\\n           8       0.89      0.89      0.89        18\\n           9       1.00      0.95      0.98        21\\n\\n    accuracy                           0.97       190\\n   macro avg       0.97      0.97      0.97       190\\nweighted avg       0.97      0.97      0.97       190\\n'"
      ]
     },
     "execution_count": 216,
     "metadata": {
      "tags": []
     },
     "output_type": "execute_result"
    }
   ],
   "source": [
    "classification_report(predicted_classes, test_set.classes)"
   ]
  },
  {
   "cell_type": "markdown",
   "metadata": {
    "id": "KI-ZjAINFa94"
   },
   "source": [
    "## Fine tuning"
   ]
  },
  {
   "cell_type": "code",
   "execution_count": null,
   "metadata": {
    "id": "Fer3aYSgFa95"
   },
   "outputs": [],
   "source": [
    "base_model.trainable=True"
   ]
  },
  {
   "cell_type": "code",
   "execution_count": null,
   "metadata": {
    "id": "Y7bUpqMdFa95"
   },
   "outputs": [],
   "source": [
    "model.compile(optimizer=keras.optimizers.Adam(1e-5),\n",
    "              loss='categorical_crossentropy',\n",
    "              metrics=['accuracy'])"
   ]
  },
  {
   "cell_type": "code",
   "execution_count": null,
   "metadata": {
    "colab": {
     "base_uri": "https://localhost:8080/"
    },
    "id": "gb8uvMkOFa96",
    "outputId": "7dd2c00c-0eb2-4a83-fbdb-b85187e1154d"
   },
   "outputs": [
    {
     "name": "stdout",
     "output_type": "stream",
     "text": [
      "Epoch 1/100\n",
      "46/46 [==============================] - 48s 870ms/step - loss: 0.1257 - accuracy: 0.9515 - val_loss: 0.0821 - val_accuracy: 0.9718\n",
      "Epoch 2/100\n",
      "46/46 [==============================] - 39s 848ms/step - loss: 0.1046 - accuracy: 0.9669 - val_loss: 0.0987 - val_accuracy: 0.9661\n",
      "Epoch 3/100\n",
      "46/46 [==============================] - 39s 843ms/step - loss: 0.0739 - accuracy: 0.9796 - val_loss: 0.0850 - val_accuracy: 0.9661\n",
      "Epoch 4/100\n",
      "46/46 [==============================] - 39s 843ms/step - loss: 0.0683 - accuracy: 0.9795 - val_loss: 0.1033 - val_accuracy: 0.9548\n",
      "Epoch 5/100\n",
      "46/46 [==============================] - 39s 840ms/step - loss: 0.0485 - accuracy: 0.9860 - val_loss: 0.0759 - val_accuracy: 0.9718\n",
      "Epoch 6/100\n",
      "46/46 [==============================] - 39s 839ms/step - loss: 0.0410 - accuracy: 0.9875 - val_loss: 0.1202 - val_accuracy: 0.9661\n",
      "Epoch 7/100\n",
      "46/46 [==============================] - 39s 856ms/step - loss: 0.0351 - accuracy: 0.9866 - val_loss: 0.0639 - val_accuracy: 0.9661\n",
      "Epoch 8/100\n",
      "46/46 [==============================] - 39s 836ms/step - loss: 0.0326 - accuracy: 0.9866 - val_loss: 0.1263 - val_accuracy: 0.9548\n",
      "Epoch 9/100\n",
      "46/46 [==============================] - 39s 836ms/step - loss: 0.0640 - accuracy: 0.9807 - val_loss: 0.0990 - val_accuracy: 0.9548\n",
      "Epoch 10/100\n",
      "46/46 [==============================] - 39s 840ms/step - loss: 0.0300 - accuracy: 0.9905 - val_loss: 0.1115 - val_accuracy: 0.9548\n",
      "Epoch 11/100\n",
      "46/46 [==============================] - 39s 836ms/step - loss: 0.0406 - accuracy: 0.9845 - val_loss: 0.1177 - val_accuracy: 0.9492\n",
      "Epoch 12/100\n",
      "46/46 [==============================] - 38s 833ms/step - loss: 0.0451 - accuracy: 0.9902 - val_loss: 0.0921 - val_accuracy: 0.9605\n"
     ]
    }
   ],
   "source": [
    "model_fit = model.fit(training_set, epochs=100,\n",
    "          callbacks=[earlystopping], \n",
    "          validation_data=validation_set)"
   ]
  },
  {
   "cell_type": "code",
   "execution_count": null,
   "metadata": {
    "colab": {
     "base_uri": "https://localhost:8080/",
     "height": 422
    },
    "id": "xcz5S0NTFa97",
    "outputId": "6e7dc724-ef80-4205-e718-a7e73ff9da21"
   },
   "outputs": [
    {
     "data": {
      "text/plain": [
       "<matplotlib.legend.Legend at 0x7fe256712898>"
      ]
     },
     "execution_count": 220,
     "metadata": {
      "tags": []
     },
     "output_type": "execute_result"
    },
    {
     "data": {
      "image/png": "[encoded data removed]",
      "text/plain": [
       "<Figure size 1152x432 with 2 Axes>"
      ]
     },
     "metadata": {
      "needs_background": "light",
      "tags": []
     },
     "output_type": "display_data"
    }
   ],
   "source": [
    "fig, ax = plt.subplots(nrows=1, ncols=2, figsize=(16, 6))\n",
    "\n",
    "ax[0].plot(model_fit.history['accuracy'], label='accuracy')\n",
    "ax[0].plot(model_fit.history['val_accuracy'], label='val_accuracy')\n",
    "ax[0].set_xlabel('Epoch')\n",
    "ax[0].set_ylabel('Accuracy')\n",
    "ax[0].set_title('Accuracy_Xception_Adam_10_breeds')\n",
    "ax[0].legend()\n",
    "\n",
    "ax[1].plot(model_fit.history['loss'], label='loss')\n",
    "ax[1].plot(model_fit.history['val_loss'], label='val_loss')\n",
    "ax[1].set_xlabel('Epoch')\n",
    "ax[1].set_ylabel('Loss')\n",
    "ax[1].set_title('Loss_Xception_Adam_10_breeds')\n",
    "ax[1].legend()"
   ]
  },
  {
   "cell_type": "code",
   "execution_count": null,
   "metadata": {
    "colab": {
     "base_uri": "https://localhost:8080/"
    },
    "id": "00BB4Z_5Fa97",
    "outputId": "4d299e3e-84f8-4a5e-b20a-1504f212abfc"
   },
   "outputs": [
    {
     "name": "stdout",
     "output_type": "stream",
     "text": [
      "Found 190 images belonging to 10 classes.\n"
     ]
    }
   ],
   "source": [
    "test_datagen = ImageDataGenerator(rescale = 1./255)\n",
    "\n",
    "test_set = test_datagen.flow_from_directory('test',\n",
    "                                                 target_size = (299, 299),\n",
    "                                                 batch_size = 32,\n",
    "                                                 class_mode = 'categorical',\n",
    "                                            shuffle=False)"
   ]
  },
  {
   "cell_type": "code",
   "execution_count": null,
   "metadata": {
    "colab": {
     "base_uri": "https://localhost:8080/"
    },
    "id": "_ocp7pT4Fa98",
    "outputId": "f6b06f4e-96eb-453b-9f2c-c074a34b9a14"
   },
   "outputs": [
    {
     "name": "stdout",
     "output_type": "stream",
     "text": [
      "6/6 [==============================] - 1s 212ms/step - loss: 0.0614 - accuracy: 0.9737\n"
     ]
    },
    {
     "data": {
      "text/plain": [
       "[0.061373189091682434, 0.9736841917037964]"
      ]
     },
     "execution_count": 222,
     "metadata": {
      "tags": []
     },
     "output_type": "execute_result"
    }
   ],
   "source": [
    "prediction = model.evaluate(test_set)\n",
    "prediction"
   ]
  },
  {
   "cell_type": "code",
   "execution_count": null,
   "metadata": {
    "id": "Ld4GKkJ6Fa98"
   },
   "outputs": [],
   "source": [
    "predicted_probabilities = model.predict(test_set)"
   ]
  },
  {
   "cell_type": "code",
   "execution_count": null,
   "metadata": {
    "id": "SdKCkXa2Fa98"
   },
   "outputs": [],
   "source": [
    "l=[]\n",
    "for proba in predicted_probabilities:\n",
    "  l.append(np.argmax(proba))\n",
    "predicted_classes = np.array(l)"
   ]
  },
  {
   "cell_type": "code",
   "execution_count": null,
   "metadata": {
    "colab": {
     "base_uri": "https://localhost:8080/"
    },
    "id": "d78BUtCsFa99",
    "outputId": "29d1e9cb-1eeb-40ae-b230-49216da0af22"
   },
   "outputs": [
    {
     "data": {
      "text/plain": [
       "0.9736842105263158"
      ]
     },
     "execution_count": 225,
     "metadata": {
      "tags": []
     },
     "output_type": "execute_result"
    }
   ],
   "source": [
    "from sklearn.metrics import accuracy_score, classification_report\n",
    "accuracy_score(predicted_classes, test_set.classes)"
   ]
  },
  {
   "cell_type": "code",
   "execution_count": null,
   "metadata": {
    "colab": {
     "base_uri": "https://localhost:8080/",
     "height": 107
    },
    "id": "Kn0zSD9oFa99",
    "outputId": "97545323-81a7-4d25-ad79-1da0445beac0"
   },
   "outputs": [
    {
     "data": {
      "application/vnd.google.colaboratory.intrinsic+json": {
       "type": "string"
      },
      "text/plain": [
       "'              precision    recall  f1-score   support\\n\\n           0       0.94      0.94      0.94        17\\n           1       0.88      0.93      0.90        15\\n           2       1.00      0.95      0.98        21\\n           3       0.95      1.00      0.97        19\\n           4       1.00      1.00      1.00        24\\n           5       1.00      1.00      1.00        18\\n           6       1.00      1.00      1.00        21\\n           7       1.00      1.00      1.00        16\\n           8       0.94      0.94      0.94        18\\n           9       1.00      0.95      0.98        21\\n\\n    accuracy                           0.97       190\\n   macro avg       0.97      0.97      0.97       190\\nweighted avg       0.97      0.97      0.97       190\\n'"
      ]
     },
     "execution_count": 226,
     "metadata": {
      "tags": []
     },
     "output_type": "execute_result"
    }
   ],
   "source": [
    "classification_report(predicted_classes, test_set.classes)"
   ]
  },
  {
   "cell_type": "code",
   "execution_count": null,
   "metadata": {
    "id": "6WO47fTVH3tN"
   },
   "outputs": [],
   "source": []
  },
  {
   "cell_type": "markdown",
   "metadata": {
    "id": "C4r0qLmcIlmT"
   },
   "source": [
    "## save model"
   ]
  },
  {
   "cell_type": "code",
   "execution_count": null,
   "metadata": {
    "colab": {
     "base_uri": "https://localhost:8080/"
    },
    "id": "L58_edAGIlmW",
    "outputId": "7cab8a95-da44-423e-9f30-616eed025922"
   },
   "outputs": [
    {
     "name": "stdout",
     "output_type": "stream",
     "text": [
      "Saved model to disk\n"
     ]
    }
   ],
   "source": [
    "# serialize model to JSON\n",
    "inception_10_breeds_json = model.to_json()\n",
    "with open(\"inception_10_breeds.json\", \"w\") as json_file:\n",
    "    json_file.write(inception_10_breeds_json)\n",
    "# serialize weights to HDF5\n",
    "model.save_weights(\"inception_10_breeds.h5\")\n",
    "print(\"Saved model to disk\")"
   ]
  },
  {
   "cell_type": "markdown",
   "metadata": {
    "id": "LRfcdq6nJobt"
   },
   "source": [
    "## Classification"
   ]
  },
  {
   "cell_type": "code",
   "execution_count": null,
   "metadata": {
    "colab": {
     "base_uri": "https://localhost:8080/"
    },
    "id": "5Bu5TWbxIlmX",
    "outputId": "15022228-d24b-41c5-8ac1-e736f3fc25ef"
   },
   "outputs": [
    {
     "name": "stdout",
     "output_type": "stream",
     "text": [
      "Loaded model from disk\n"
     ]
    }
   ],
   "source": [
    "# load json and create model\n",
    "json_file = open('inception_10_breeds.json', 'r')\n",
    "loaded_model_json = json_file.read()\n",
    "json_file.close()\n",
    "loaded_model = model_from_json(loaded_model_json)\n",
    "# load weights into new model\n",
    "loaded_model.load_weights(\"inception_10_breeds.h5\")\n",
    "print(\"Loaded model from disk\")"
   ]
  },
  {
   "cell_type": "code",
   "execution_count": null,
   "metadata": {
    "id": "DLvCHflNIlmX"
   },
   "outputs": [],
   "source": [
    "loaded_model.compile(optimizer=keras.optimizers.Adam(1e-5),\n",
    "              loss='categorical_crossentropy',\n",
    "              metrics=['accuracy'])"
   ]
  },
  {
   "cell_type": "code",
   "execution_count": null,
   "metadata": {
    "colab": {
     "base_uri": "https://localhost:8080/"
    },
    "id": "klf1y1KPIlmY",
    "outputId": "d6838604-4afc-4b66-d7d1-fd0f218c116a"
   },
   "outputs": [
    {
     "name": "stdout",
     "output_type": "stream",
     "text": [
      "6/6 [==============================] - 1s 206ms/step - loss: 0.0614 - accuracy: 0.9737\n"
     ]
    },
    {
     "data": {
      "text/plain": [
       "[0.061373189091682434, 0.9736841917037964]"
      ]
     },
     "execution_count": 231,
     "metadata": {
      "tags": []
     },
     "output_type": "execute_result"
    }
   ],
   "source": [
    "prediction = loaded_model.evaluate(test_set)\n",
    "prediction"
   ]
  },
  {
   "cell_type": "code",
   "execution_count": null,
   "metadata": {
    "id": "AoASuxEO4uVX"
   },
   "outputs": [],
   "source": [
    "predicted_probabilities = model.predict(test_set)"
   ]
  },
  {
   "cell_type": "code",
   "execution_count": null,
   "metadata": {
    "id": "3-r_BAoO4uVY"
   },
   "outputs": [],
   "source": [
    "l=[]\n",
    "for proba in predicted_probabilities:\n",
    "  l.append(np.argmax(proba))"
   ]
  },
  {
   "cell_type": "code",
   "execution_count": null,
   "metadata": {
    "id": "xlgGFC1b4uVY"
   },
   "outputs": [],
   "source": [
    "predicted_classes = np.array(l)"
   ]
  },
  {
   "cell_type": "code",
   "execution_count": null,
   "metadata": {
    "colab": {
     "base_uri": "https://localhost:8080/"
    },
    "id": "d_2GHSE74uVZ",
    "outputId": "7f4877d2-876b-46e1-a752-f7b979ac8d3d"
   },
   "outputs": [
    {
     "data": {
      "text/plain": [
       "0.9736842105263158"
      ]
     },
     "execution_count": 237,
     "metadata": {
      "tags": []
     },
     "output_type": "execute_result"
    }
   ],
   "source": [
    "from sklearn.metrics import accuracy_score, classification_report, confusion_matrix\n",
    "accuracy_score(predicted_classes, test_set.classes)"
   ]
  },
  {
   "cell_type": "code",
   "execution_count": null,
   "metadata": {
    "colab": {
     "base_uri": "https://localhost:8080/",
     "height": 107
    },
    "id": "j8eN7eoK4uVZ",
    "outputId": "60b75f9c-034f-4fca-b786-035f135803a7"
   },
   "outputs": [
    {
     "data": {
      "application/vnd.google.colaboratory.intrinsic+json": {
       "type": "string"
      },
      "text/plain": [
       "'              precision    recall  f1-score   support\\n\\n           0       0.94      0.94      0.94        17\\n           1       0.88      0.93      0.90        15\\n           2       1.00      0.95      0.98        21\\n           3       0.95      1.00      0.97        19\\n           4       1.00      1.00      1.00        24\\n           5       1.00      1.00      1.00        18\\n           6       1.00      1.00      1.00        21\\n           7       1.00      1.00      1.00        16\\n           8       0.94      0.94      0.94        18\\n           9       1.00      0.95      0.98        21\\n\\n    accuracy                           0.97       190\\n   macro avg       0.97      0.97      0.97       190\\nweighted avg       0.97      0.97      0.97       190\\n'"
      ]
     },
     "execution_count": 238,
     "metadata": {
      "tags": []
     },
     "output_type": "execute_result"
    }
   ],
   "source": [
    "classification_report(predicted_classes, test_set.classes)"
   ]
  },
  {
   "cell_type": "code",
   "execution_count": null,
   "metadata": {
    "colab": {
     "base_uri": "https://localhost:8080/",
     "height": 380
    },
    "id": "T3-GNLZ9EBtC",
    "outputId": "0b3cc497-02db-4cd3-9d07-e4d1a0ff54e1"
   },
   "outputs": [
    {
     "data": {
      "text/plain": [
       "<matplotlib.axes._subplots.AxesSubplot at 0x7fe25aa917b8>"
      ]
     },
     "execution_count": 240,
     "metadata": {
      "tags": []
     },
     "output_type": "execute_result"
    },
    {
     "data": {
      "image/png": "[encoded data removed]",
      "text/plain": [
       "<Figure size 576x432 with 2 Axes>"
      ]
     },
     "metadata": {
      "needs_background": "light",
      "tags": []
     },
     "output_type": "display_data"
    }
   ],
   "source": [
    "import seaborn as sns\n",
    "plt.figure(figsize=(8,6))\n",
    "plt.axis('off')\n",
    "confusion = confusion_matrix(predicted_classes, test_set.classes)\n",
    "sns.heatmap(confusion)"
   ]
  },
  {
   "cell_type": "code",
   "execution_count": null,
   "metadata": {
    "colab": {
     "base_uri": "https://localhost:8080/"
    },
    "id": "ja6b5hKLH3oQ",
    "outputId": "74f4af39-f390-4eec-fe22-9e87bb8d59a4"
   },
   "outputs": [
    {
     "data": {
      "text/plain": [
       "array([[16,  1,  0,  0,  0,  0,  0,  0,  0,  0],\n",
       "       [ 0, 14,  0,  0,  0,  0,  0,  0,  1,  0],\n",
       "       [ 1,  0, 20,  0,  0,  0,  0,  0,  0,  0],\n",
       "       [ 0,  0,  0, 19,  0,  0,  0,  0,  0,  0],\n",
       "       [ 0,  0,  0,  0, 24,  0,  0,  0,  0,  0],\n",
       "       [ 0,  0,  0,  0,  0, 18,  0,  0,  0,  0],\n",
       "       [ 0,  0,  0,  0,  0,  0, 21,  0,  0,  0],\n",
       "       [ 0,  0,  0,  0,  0,  0,  0, 16,  0,  0],\n",
       "       [ 0,  1,  0,  0,  0,  0,  0,  0, 17,  0],\n",
       "       [ 0,  0,  0,  1,  0,  0,  0,  0,  0, 20]])"
      ]
     },
     "execution_count": 241,
     "metadata": {
      "tags": []
     },
     "output_type": "execute_result"
    }
   ],
   "source": [
    "confusion"
   ]
  },
  {
   "cell_type": "code",
   "execution_count": null,
   "metadata": {
    "colab": {
     "base_uri": "https://localhost:8080/"
    },
    "id": "ndTCjvJ7H3ld",
    "outputId": "f0fb2e26-4e1f-402b-e6fb-48a6f915b2ae"
   },
   "outputs": [
    {
     "data": {
      "text/plain": [
       "0.9736842105263158"
      ]
     },
     "execution_count": 243,
     "metadata": {
      "tags": []
     },
     "output_type": "execute_result"
    }
   ],
   "source": [
    "1-5/190"
   ]
  },
  {
   "cell_type": "markdown",
   "metadata": {
    "id": "tOC_BRZ6LlMu"
   },
   "source": [
    "There are only 5 images not correctly predicted within the test set:\n",
    "* 2 among class 1 (Chihuahua)\n",
    "* 1 among classes 0,3,8 (American_terrier, Saluki, toy_terrier)\n",
    "* 6 classes are perfectly predicted\n",
    "* 4 classes have precision & recall = 1 (scottish, basset, papillon, redbone)\n"
   ]
  },
  {
   "cell_type": "code",
   "execution_count": null,
   "metadata": {
    "colab": {
     "base_uri": "https://localhost:8080/"
    },
    "id": "oAEaXuh5H3im",
    "outputId": "469b49e0-2a78-4492-a524-8f6d31749d4d"
   },
   "outputs": [
    {
     "data": {
      "text/plain": [
       "{'American_Staffordshire_terrier': 0,\n",
       " 'Chihuahua': 1,\n",
       " 'Ibizan_hound': 2,\n",
       " 'Saluki': 3,\n",
       " 'Scottish_deerhound': 4,\n",
       " 'basset': 5,\n",
       " 'papillon': 6,\n",
       " 'redbone': 7,\n",
       " 'toy_terrier': 8,\n",
       " 'whippet': 9}"
      ]
     },
     "execution_count": 244,
     "metadata": {
      "tags": []
     },
     "output_type": "execute_result"
    }
   ],
   "source": [
    "test_set.class_indices"
   ]
  }
 ],
 "metadata": {
  "accelerator": "GPU",
  "colab": {
   "collapsed_sections": [
    "Hn1aw5orEZi-",
    "gF3fJfHJFTVe",
    "M4oPxMqXF8fO"
   ],
   "name": "P6_dog_classification_transfer_learning.ipynb",
   "provenance": [],
   "toc_visible": true
  },
  "kernelspec": {
   "display_name": "Python 3",
   "language": "python",
   "name": "python3"
  },
  "language_info": {
   "codemirror_mode": {
    "name": "ipython",
    "version": 3
   },
   "file_extension": ".py",
   "mimetype": "text/x-python",
   "name": "python",
   "nbconvert_exporter": "python",
   "pygments_lexer": "ipython3",
   "version": "3.7.6"
  }
 },
 "nbformat": 4,
 "nbformat_minor": 1
}
